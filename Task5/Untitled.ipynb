{
 "cells": [
  {
   "cell_type": "markdown",
   "id": "relative-identification",
   "metadata": {},
   "source": [
    "##### THE SPARKS FOUNDATION May'21"
   ]
  },
  {
   "cell_type": "markdown",
   "id": "covered-relevance",
   "metadata": {},
   "source": [
    "### Task 5 - Exploratory Data Analysis - Sports"
   ]
  },
  {
   "cell_type": "markdown",
   "id": "younger-hometown",
   "metadata": {},
   "source": [
    "#### Author: Tushar Suresh Patil"
   ]
  },
  {
   "cell_type": "markdown",
   "id": "decent-vector",
   "metadata": {},
   "source": [
    "####  Aim :-\n",
    "\n",
    "● Perform ‘Exploratory Data Analysis’ on dataset ‘Indian Premier League’\n",
    "\n",
    "● As a sports analysts, find out the most successful teams, players and factors\n",
    "contributing win or loss of a team.\n",
    "\n",
    "● Suggest teams or players a company should endorse for its products.\n",
    "\n"
   ]
  },
  {
   "cell_type": "markdown",
   "id": "strong-grant",
   "metadata": {},
   "source": [
    "#### Importing libraries"
   ]
  },
  {
   "cell_type": "code",
   "execution_count": 1,
   "id": "cross-harbor",
   "metadata": {},
   "outputs": [],
   "source": [
    "import pandas as pd\n",
    "import pandas as pd\n",
    "import matplotlib.pyplot as plt\n",
    "import seaborn as sns\n",
    "import warnings\n",
    "warnings.filterwarnings('ignore')\n",
    "plt.style.use('ggplot')\n",
    "import cufflinks as cf"
   ]
  },
  {
   "cell_type": "code",
   "execution_count": 2,
   "id": "balanced-adult",
   "metadata": {},
   "outputs": [
    {
     "data": {
      "text/html": [
       "        <script type=\"text/javascript\">\n",
       "        window.PlotlyConfig = {MathJaxConfig: 'local'};\n",
       "        if (window.MathJax) {MathJax.Hub.Config({SVG: {font: \"STIX-Web\"}});}\n",
       "        if (typeof require !== 'undefined') {\n",
       "        require.undef(\"plotly\");\n",
       "        requirejs.config({\n",
       "            paths: {\n",
       "                'plotly': ['https://cdn.plot.ly/plotly-latest.min']\n",
       "            }\n",
       "        });\n",
       "        require(['plotly'], function(Plotly) {\n",
       "            window._Plotly = Plotly;\n",
       "        });\n",
       "        }\n",
       "        </script>\n",
       "        "
      ]
     },
     "metadata": {},
     "output_type": "display_data"
    }
   ],
   "source": [
    "from plotly import __version__\n",
    "from plotly.offline import download_plotlyjs, init_notebook_mode, plot, iplot\n",
    "# For offline use\n",
    "cf.go_offline()"
   ]
  },
  {
   "cell_type": "markdown",
   "id": "violent-shareware",
   "metadata": {},
   "source": [
    "####  Loading Dataset 1"
   ]
  },
  {
   "cell_type": "code",
   "execution_count": 3,
   "id": "secret-rental",
   "metadata": {},
   "outputs": [],
   "source": [
    "df1= pd.read_csv('deliveries.csv',encoding='latin1')"
   ]
  },
  {
   "cell_type": "code",
   "execution_count": 4,
   "id": "fundamental-copyright",
   "metadata": {},
   "outputs": [
    {
     "data": {
      "text/plain": [
       "(179078, 21)"
      ]
     },
     "execution_count": 4,
     "metadata": {},
     "output_type": "execute_result"
    }
   ],
   "source": [
    "df1.shape"
   ]
  },
  {
   "cell_type": "code",
   "execution_count": 5,
   "id": "likely-foundation",
   "metadata": {},
   "outputs": [
    {
     "data": {
      "text/html": [
       "<div>\n",
       "<style scoped>\n",
       "    .dataframe tbody tr th:only-of-type {\n",
       "        vertical-align: middle;\n",
       "    }\n",
       "\n",
       "    .dataframe tbody tr th {\n",
       "        vertical-align: top;\n",
       "    }\n",
       "\n",
       "    .dataframe thead th {\n",
       "        text-align: right;\n",
       "    }\n",
       "</style>\n",
       "<table border=\"1\" class=\"dataframe\">\n",
       "  <thead>\n",
       "    <tr style=\"text-align: right;\">\n",
       "      <th></th>\n",
       "      <th>match_id</th>\n",
       "      <th>inning</th>\n",
       "      <th>batting_team</th>\n",
       "      <th>bowling_team</th>\n",
       "      <th>over</th>\n",
       "      <th>ball</th>\n",
       "      <th>batsman</th>\n",
       "      <th>non_striker</th>\n",
       "      <th>bowler</th>\n",
       "      <th>is_super_over</th>\n",
       "      <th>...</th>\n",
       "      <th>bye_runs</th>\n",
       "      <th>legbye_runs</th>\n",
       "      <th>noball_runs</th>\n",
       "      <th>penalty_runs</th>\n",
       "      <th>batsman_runs</th>\n",
       "      <th>extra_runs</th>\n",
       "      <th>total_runs</th>\n",
       "      <th>player_dismissed</th>\n",
       "      <th>dismissal_kind</th>\n",
       "      <th>fielder</th>\n",
       "    </tr>\n",
       "  </thead>\n",
       "  <tbody>\n",
       "    <tr>\n",
       "      <th>0</th>\n",
       "      <td>1</td>\n",
       "      <td>1</td>\n",
       "      <td>Sunrisers Hyderabad</td>\n",
       "      <td>Royal Challengers Bangalore</td>\n",
       "      <td>1</td>\n",
       "      <td>1</td>\n",
       "      <td>DA Warner</td>\n",
       "      <td>S Dhawan</td>\n",
       "      <td>TS Mills</td>\n",
       "      <td>0</td>\n",
       "      <td>...</td>\n",
       "      <td>0</td>\n",
       "      <td>0</td>\n",
       "      <td>0</td>\n",
       "      <td>0</td>\n",
       "      <td>0</td>\n",
       "      <td>0</td>\n",
       "      <td>0</td>\n",
       "      <td>NaN</td>\n",
       "      <td>NaN</td>\n",
       "      <td>NaN</td>\n",
       "    </tr>\n",
       "    <tr>\n",
       "      <th>1</th>\n",
       "      <td>1</td>\n",
       "      <td>1</td>\n",
       "      <td>Sunrisers Hyderabad</td>\n",
       "      <td>Royal Challengers Bangalore</td>\n",
       "      <td>1</td>\n",
       "      <td>2</td>\n",
       "      <td>DA Warner</td>\n",
       "      <td>S Dhawan</td>\n",
       "      <td>TS Mills</td>\n",
       "      <td>0</td>\n",
       "      <td>...</td>\n",
       "      <td>0</td>\n",
       "      <td>0</td>\n",
       "      <td>0</td>\n",
       "      <td>0</td>\n",
       "      <td>0</td>\n",
       "      <td>0</td>\n",
       "      <td>0</td>\n",
       "      <td>NaN</td>\n",
       "      <td>NaN</td>\n",
       "      <td>NaN</td>\n",
       "    </tr>\n",
       "    <tr>\n",
       "      <th>2</th>\n",
       "      <td>1</td>\n",
       "      <td>1</td>\n",
       "      <td>Sunrisers Hyderabad</td>\n",
       "      <td>Royal Challengers Bangalore</td>\n",
       "      <td>1</td>\n",
       "      <td>3</td>\n",
       "      <td>DA Warner</td>\n",
       "      <td>S Dhawan</td>\n",
       "      <td>TS Mills</td>\n",
       "      <td>0</td>\n",
       "      <td>...</td>\n",
       "      <td>0</td>\n",
       "      <td>0</td>\n",
       "      <td>0</td>\n",
       "      <td>0</td>\n",
       "      <td>4</td>\n",
       "      <td>0</td>\n",
       "      <td>4</td>\n",
       "      <td>NaN</td>\n",
       "      <td>NaN</td>\n",
       "      <td>NaN</td>\n",
       "    </tr>\n",
       "    <tr>\n",
       "      <th>3</th>\n",
       "      <td>1</td>\n",
       "      <td>1</td>\n",
       "      <td>Sunrisers Hyderabad</td>\n",
       "      <td>Royal Challengers Bangalore</td>\n",
       "      <td>1</td>\n",
       "      <td>4</td>\n",
       "      <td>DA Warner</td>\n",
       "      <td>S Dhawan</td>\n",
       "      <td>TS Mills</td>\n",
       "      <td>0</td>\n",
       "      <td>...</td>\n",
       "      <td>0</td>\n",
       "      <td>0</td>\n",
       "      <td>0</td>\n",
       "      <td>0</td>\n",
       "      <td>0</td>\n",
       "      <td>0</td>\n",
       "      <td>0</td>\n",
       "      <td>NaN</td>\n",
       "      <td>NaN</td>\n",
       "      <td>NaN</td>\n",
       "    </tr>\n",
       "    <tr>\n",
       "      <th>4</th>\n",
       "      <td>1</td>\n",
       "      <td>1</td>\n",
       "      <td>Sunrisers Hyderabad</td>\n",
       "      <td>Royal Challengers Bangalore</td>\n",
       "      <td>1</td>\n",
       "      <td>5</td>\n",
       "      <td>DA Warner</td>\n",
       "      <td>S Dhawan</td>\n",
       "      <td>TS Mills</td>\n",
       "      <td>0</td>\n",
       "      <td>...</td>\n",
       "      <td>0</td>\n",
       "      <td>0</td>\n",
       "      <td>0</td>\n",
       "      <td>0</td>\n",
       "      <td>0</td>\n",
       "      <td>2</td>\n",
       "      <td>2</td>\n",
       "      <td>NaN</td>\n",
       "      <td>NaN</td>\n",
       "      <td>NaN</td>\n",
       "    </tr>\n",
       "  </tbody>\n",
       "</table>\n",
       "<p>5 rows × 21 columns</p>\n",
       "</div>"
      ],
      "text/plain": [
       "   match_id  inning         batting_team                 bowling_team  over  \\\n",
       "0         1       1  Sunrisers Hyderabad  Royal Challengers Bangalore     1   \n",
       "1         1       1  Sunrisers Hyderabad  Royal Challengers Bangalore     1   \n",
       "2         1       1  Sunrisers Hyderabad  Royal Challengers Bangalore     1   \n",
       "3         1       1  Sunrisers Hyderabad  Royal Challengers Bangalore     1   \n",
       "4         1       1  Sunrisers Hyderabad  Royal Challengers Bangalore     1   \n",
       "\n",
       "   ball    batsman non_striker    bowler  is_super_over  ...  bye_runs  \\\n",
       "0     1  DA Warner    S Dhawan  TS Mills              0  ...         0   \n",
       "1     2  DA Warner    S Dhawan  TS Mills              0  ...         0   \n",
       "2     3  DA Warner    S Dhawan  TS Mills              0  ...         0   \n",
       "3     4  DA Warner    S Dhawan  TS Mills              0  ...         0   \n",
       "4     5  DA Warner    S Dhawan  TS Mills              0  ...         0   \n",
       "\n",
       "   legbye_runs  noball_runs  penalty_runs  batsman_runs  extra_runs  \\\n",
       "0            0            0             0             0           0   \n",
       "1            0            0             0             0           0   \n",
       "2            0            0             0             4           0   \n",
       "3            0            0             0             0           0   \n",
       "4            0            0             0             0           2   \n",
       "\n",
       "   total_runs  player_dismissed dismissal_kind fielder  \n",
       "0           0               NaN            NaN     NaN  \n",
       "1           0               NaN            NaN     NaN  \n",
       "2           4               NaN            NaN     NaN  \n",
       "3           0               NaN            NaN     NaN  \n",
       "4           2               NaN            NaN     NaN  \n",
       "\n",
       "[5 rows x 21 columns]"
      ]
     },
     "execution_count": 5,
     "metadata": {},
     "output_type": "execute_result"
    }
   ],
   "source": [
    "df1.head()"
   ]
  },
  {
   "cell_type": "markdown",
   "id": "dangerous-nurse",
   "metadata": {},
   "source": [
    "#### Loading Dataset 2"
   ]
  },
  {
   "cell_type": "code",
   "execution_count": 6,
   "id": "ultimate-gentleman",
   "metadata": {},
   "outputs": [],
   "source": [
    "df2 = pd.read_csv('matches.csv')"
   ]
  },
  {
   "cell_type": "code",
   "execution_count": 7,
   "id": "revised-tenant",
   "metadata": {},
   "outputs": [
    {
     "data": {
      "text/plain": [
       "(756, 18)"
      ]
     },
     "execution_count": 7,
     "metadata": {},
     "output_type": "execute_result"
    }
   ],
   "source": [
    "df2.shape"
   ]
  },
  {
   "cell_type": "code",
   "execution_count": 8,
   "id": "textile-toner",
   "metadata": {},
   "outputs": [
    {
     "data": {
      "text/html": [
       "<div>\n",
       "<style scoped>\n",
       "    .dataframe tbody tr th:only-of-type {\n",
       "        vertical-align: middle;\n",
       "    }\n",
       "\n",
       "    .dataframe tbody tr th {\n",
       "        vertical-align: top;\n",
       "    }\n",
       "\n",
       "    .dataframe thead th {\n",
       "        text-align: right;\n",
       "    }\n",
       "</style>\n",
       "<table border=\"1\" class=\"dataframe\">\n",
       "  <thead>\n",
       "    <tr style=\"text-align: right;\">\n",
       "      <th></th>\n",
       "      <th>id</th>\n",
       "      <th>season</th>\n",
       "      <th>city</th>\n",
       "      <th>date</th>\n",
       "      <th>team1</th>\n",
       "      <th>team2</th>\n",
       "      <th>toss_winner</th>\n",
       "      <th>toss_decision</th>\n",
       "      <th>result</th>\n",
       "      <th>dl_applied</th>\n",
       "      <th>winner</th>\n",
       "      <th>win_by_runs</th>\n",
       "      <th>win_by_wickets</th>\n",
       "      <th>player_of_match</th>\n",
       "      <th>venue</th>\n",
       "      <th>umpire1</th>\n",
       "      <th>umpire2</th>\n",
       "      <th>umpire3</th>\n",
       "    </tr>\n",
       "  </thead>\n",
       "  <tbody>\n",
       "    <tr>\n",
       "      <th>0</th>\n",
       "      <td>1</td>\n",
       "      <td>2017</td>\n",
       "      <td>Hyderabad</td>\n",
       "      <td>2017-04-05</td>\n",
       "      <td>Sunrisers Hyderabad</td>\n",
       "      <td>Royal Challengers Bangalore</td>\n",
       "      <td>Royal Challengers Bangalore</td>\n",
       "      <td>field</td>\n",
       "      <td>normal</td>\n",
       "      <td>0</td>\n",
       "      <td>Sunrisers Hyderabad</td>\n",
       "      <td>35</td>\n",
       "      <td>0</td>\n",
       "      <td>Yuvraj Singh</td>\n",
       "      <td>Rajiv Gandhi International Stadium, Uppal</td>\n",
       "      <td>AY Dandekar</td>\n",
       "      <td>NJ Llong</td>\n",
       "      <td>NaN</td>\n",
       "    </tr>\n",
       "    <tr>\n",
       "      <th>1</th>\n",
       "      <td>2</td>\n",
       "      <td>2017</td>\n",
       "      <td>Pune</td>\n",
       "      <td>2017-04-06</td>\n",
       "      <td>Mumbai Indians</td>\n",
       "      <td>Rising Pune Supergiant</td>\n",
       "      <td>Rising Pune Supergiant</td>\n",
       "      <td>field</td>\n",
       "      <td>normal</td>\n",
       "      <td>0</td>\n",
       "      <td>Rising Pune Supergiant</td>\n",
       "      <td>0</td>\n",
       "      <td>7</td>\n",
       "      <td>SPD Smith</td>\n",
       "      <td>Maharashtra Cricket Association Stadium</td>\n",
       "      <td>A Nand Kishore</td>\n",
       "      <td>S Ravi</td>\n",
       "      <td>NaN</td>\n",
       "    </tr>\n",
       "    <tr>\n",
       "      <th>2</th>\n",
       "      <td>3</td>\n",
       "      <td>2017</td>\n",
       "      <td>Rajkot</td>\n",
       "      <td>2017-04-07</td>\n",
       "      <td>Gujarat Lions</td>\n",
       "      <td>Kolkata Knight Riders</td>\n",
       "      <td>Kolkata Knight Riders</td>\n",
       "      <td>field</td>\n",
       "      <td>normal</td>\n",
       "      <td>0</td>\n",
       "      <td>Kolkata Knight Riders</td>\n",
       "      <td>0</td>\n",
       "      <td>10</td>\n",
       "      <td>CA Lynn</td>\n",
       "      <td>Saurashtra Cricket Association Stadium</td>\n",
       "      <td>Nitin Menon</td>\n",
       "      <td>CK Nandan</td>\n",
       "      <td>NaN</td>\n",
       "    </tr>\n",
       "    <tr>\n",
       "      <th>3</th>\n",
       "      <td>4</td>\n",
       "      <td>2017</td>\n",
       "      <td>Indore</td>\n",
       "      <td>2017-04-08</td>\n",
       "      <td>Rising Pune Supergiant</td>\n",
       "      <td>Kings XI Punjab</td>\n",
       "      <td>Kings XI Punjab</td>\n",
       "      <td>field</td>\n",
       "      <td>normal</td>\n",
       "      <td>0</td>\n",
       "      <td>Kings XI Punjab</td>\n",
       "      <td>0</td>\n",
       "      <td>6</td>\n",
       "      <td>GJ Maxwell</td>\n",
       "      <td>Holkar Cricket Stadium</td>\n",
       "      <td>AK Chaudhary</td>\n",
       "      <td>C Shamshuddin</td>\n",
       "      <td>NaN</td>\n",
       "    </tr>\n",
       "    <tr>\n",
       "      <th>4</th>\n",
       "      <td>5</td>\n",
       "      <td>2017</td>\n",
       "      <td>Bangalore</td>\n",
       "      <td>2017-04-08</td>\n",
       "      <td>Royal Challengers Bangalore</td>\n",
       "      <td>Delhi Daredevils</td>\n",
       "      <td>Royal Challengers Bangalore</td>\n",
       "      <td>bat</td>\n",
       "      <td>normal</td>\n",
       "      <td>0</td>\n",
       "      <td>Royal Challengers Bangalore</td>\n",
       "      <td>15</td>\n",
       "      <td>0</td>\n",
       "      <td>KM Jadhav</td>\n",
       "      <td>M Chinnaswamy Stadium</td>\n",
       "      <td>NaN</td>\n",
       "      <td>NaN</td>\n",
       "      <td>NaN</td>\n",
       "    </tr>\n",
       "  </tbody>\n",
       "</table>\n",
       "</div>"
      ],
      "text/plain": [
       "   id  season       city        date                        team1  \\\n",
       "0   1    2017  Hyderabad  2017-04-05          Sunrisers Hyderabad   \n",
       "1   2    2017       Pune  2017-04-06               Mumbai Indians   \n",
       "2   3    2017     Rajkot  2017-04-07                Gujarat Lions   \n",
       "3   4    2017     Indore  2017-04-08       Rising Pune Supergiant   \n",
       "4   5    2017  Bangalore  2017-04-08  Royal Challengers Bangalore   \n",
       "\n",
       "                         team2                  toss_winner toss_decision  \\\n",
       "0  Royal Challengers Bangalore  Royal Challengers Bangalore         field   \n",
       "1       Rising Pune Supergiant       Rising Pune Supergiant         field   \n",
       "2        Kolkata Knight Riders        Kolkata Knight Riders         field   \n",
       "3              Kings XI Punjab              Kings XI Punjab         field   \n",
       "4             Delhi Daredevils  Royal Challengers Bangalore           bat   \n",
       "\n",
       "   result  dl_applied                       winner  win_by_runs  \\\n",
       "0  normal           0          Sunrisers Hyderabad           35   \n",
       "1  normal           0       Rising Pune Supergiant            0   \n",
       "2  normal           0        Kolkata Knight Riders            0   \n",
       "3  normal           0              Kings XI Punjab            0   \n",
       "4  normal           0  Royal Challengers Bangalore           15   \n",
       "\n",
       "   win_by_wickets player_of_match                                      venue  \\\n",
       "0               0    Yuvraj Singh  Rajiv Gandhi International Stadium, Uppal   \n",
       "1               7       SPD Smith    Maharashtra Cricket Association Stadium   \n",
       "2              10         CA Lynn     Saurashtra Cricket Association Stadium   \n",
       "3               6      GJ Maxwell                     Holkar Cricket Stadium   \n",
       "4               0       KM Jadhav                      M Chinnaswamy Stadium   \n",
       "\n",
       "          umpire1        umpire2 umpire3  \n",
       "0     AY Dandekar       NJ Llong     NaN  \n",
       "1  A Nand Kishore         S Ravi     NaN  \n",
       "2     Nitin Menon      CK Nandan     NaN  \n",
       "3    AK Chaudhary  C Shamshuddin     NaN  \n",
       "4             NaN            NaN     NaN  "
      ]
     },
     "execution_count": 8,
     "metadata": {},
     "output_type": "execute_result"
    }
   ],
   "source": [
    "df2.head()"
   ]
  },
  {
   "cell_type": "code",
   "execution_count": 9,
   "id": "valuable-blank",
   "metadata": {},
   "outputs": [
    {
     "data": {
      "text/html": [
       "<div>\n",
       "<style scoped>\n",
       "    .dataframe tbody tr th:only-of-type {\n",
       "        vertical-align: middle;\n",
       "    }\n",
       "\n",
       "    .dataframe tbody tr th {\n",
       "        vertical-align: top;\n",
       "    }\n",
       "\n",
       "    .dataframe thead th {\n",
       "        text-align: right;\n",
       "    }\n",
       "</style>\n",
       "<table border=\"1\" class=\"dataframe\">\n",
       "  <thead>\n",
       "    <tr style=\"text-align: right;\">\n",
       "      <th></th>\n",
       "      <th>0</th>\n",
       "      <th>1</th>\n",
       "    </tr>\n",
       "  </thead>\n",
       "  <tbody>\n",
       "    <tr>\n",
       "      <th>id</th>\n",
       "      <td>1</td>\n",
       "      <td>2</td>\n",
       "    </tr>\n",
       "    <tr>\n",
       "      <th>season</th>\n",
       "      <td>2017</td>\n",
       "      <td>2017</td>\n",
       "    </tr>\n",
       "    <tr>\n",
       "      <th>city</th>\n",
       "      <td>Hyderabad</td>\n",
       "      <td>Pune</td>\n",
       "    </tr>\n",
       "    <tr>\n",
       "      <th>date</th>\n",
       "      <td>2017-04-05</td>\n",
       "      <td>2017-04-06</td>\n",
       "    </tr>\n",
       "    <tr>\n",
       "      <th>team1</th>\n",
       "      <td>Sunrisers Hyderabad</td>\n",
       "      <td>Mumbai Indians</td>\n",
       "    </tr>\n",
       "    <tr>\n",
       "      <th>team2</th>\n",
       "      <td>Royal Challengers Bangalore</td>\n",
       "      <td>Rising Pune Supergiant</td>\n",
       "    </tr>\n",
       "    <tr>\n",
       "      <th>toss_winner</th>\n",
       "      <td>Royal Challengers Bangalore</td>\n",
       "      <td>Rising Pune Supergiant</td>\n",
       "    </tr>\n",
       "    <tr>\n",
       "      <th>toss_decision</th>\n",
       "      <td>field</td>\n",
       "      <td>field</td>\n",
       "    </tr>\n",
       "    <tr>\n",
       "      <th>result</th>\n",
       "      <td>normal</td>\n",
       "      <td>normal</td>\n",
       "    </tr>\n",
       "    <tr>\n",
       "      <th>dl_applied</th>\n",
       "      <td>0</td>\n",
       "      <td>0</td>\n",
       "    </tr>\n",
       "    <tr>\n",
       "      <th>winner</th>\n",
       "      <td>Sunrisers Hyderabad</td>\n",
       "      <td>Rising Pune Supergiant</td>\n",
       "    </tr>\n",
       "    <tr>\n",
       "      <th>win_by_runs</th>\n",
       "      <td>35</td>\n",
       "      <td>0</td>\n",
       "    </tr>\n",
       "    <tr>\n",
       "      <th>win_by_wickets</th>\n",
       "      <td>0</td>\n",
       "      <td>7</td>\n",
       "    </tr>\n",
       "    <tr>\n",
       "      <th>player_of_match</th>\n",
       "      <td>Yuvraj Singh</td>\n",
       "      <td>SPD Smith</td>\n",
       "    </tr>\n",
       "    <tr>\n",
       "      <th>venue</th>\n",
       "      <td>Rajiv Gandhi International Stadium, Uppal</td>\n",
       "      <td>Maharashtra Cricket Association Stadium</td>\n",
       "    </tr>\n",
       "    <tr>\n",
       "      <th>umpire1</th>\n",
       "      <td>AY Dandekar</td>\n",
       "      <td>A Nand Kishore</td>\n",
       "    </tr>\n",
       "    <tr>\n",
       "      <th>umpire2</th>\n",
       "      <td>NJ Llong</td>\n",
       "      <td>S Ravi</td>\n",
       "    </tr>\n",
       "    <tr>\n",
       "      <th>umpire3</th>\n",
       "      <td>NaN</td>\n",
       "      <td>NaN</td>\n",
       "    </tr>\n",
       "  </tbody>\n",
       "</table>\n",
       "</div>"
      ],
      "text/plain": [
       "                                                         0  \\\n",
       "id                                                       1   \n",
       "season                                                2017   \n",
       "city                                             Hyderabad   \n",
       "date                                            2017-04-05   \n",
       "team1                                  Sunrisers Hyderabad   \n",
       "team2                          Royal Challengers Bangalore   \n",
       "toss_winner                    Royal Challengers Bangalore   \n",
       "toss_decision                                        field   \n",
       "result                                              normal   \n",
       "dl_applied                                               0   \n",
       "winner                                 Sunrisers Hyderabad   \n",
       "win_by_runs                                             35   \n",
       "win_by_wickets                                           0   \n",
       "player_of_match                               Yuvraj Singh   \n",
       "venue            Rajiv Gandhi International Stadium, Uppal   \n",
       "umpire1                                        AY Dandekar   \n",
       "umpire2                                           NJ Llong   \n",
       "umpire3                                                NaN   \n",
       "\n",
       "                                                       1  \n",
       "id                                                     2  \n",
       "season                                              2017  \n",
       "city                                                Pune  \n",
       "date                                          2017-04-06  \n",
       "team1                                     Mumbai Indians  \n",
       "team2                             Rising Pune Supergiant  \n",
       "toss_winner                       Rising Pune Supergiant  \n",
       "toss_decision                                      field  \n",
       "result                                            normal  \n",
       "dl_applied                                             0  \n",
       "winner                            Rising Pune Supergiant  \n",
       "win_by_runs                                            0  \n",
       "win_by_wickets                                         7  \n",
       "player_of_match                                SPD Smith  \n",
       "venue            Maharashtra Cricket Association Stadium  \n",
       "umpire1                                   A Nand Kishore  \n",
       "umpire2                                           S Ravi  \n",
       "umpire3                                              NaN  "
      ]
     },
     "execution_count": 9,
     "metadata": {},
     "output_type": "execute_result"
    }
   ],
   "source": [
    "df2.head(2).T"
   ]
  },
  {
   "cell_type": "markdown",
   "id": "gross-cardiff",
   "metadata": {},
   "source": [
    "### 1.Data Cleaning "
   ]
  },
  {
   "cell_type": "code",
   "execution_count": 10,
   "id": "fifth-journalism",
   "metadata": {},
   "outputs": [
    {
     "data": {
      "text/plain": [
       "Mumbai Indians                 101\n",
       "Kings XI Punjab                 91\n",
       "Chennai Super Kings             89\n",
       "Royal Challengers Bangalore     85\n",
       "Kolkata Knight Riders           83\n",
       "Delhi Daredevils                72\n",
       "Rajasthan Royals                67\n",
       "Sunrisers Hyderabad             63\n",
       "Deccan Chargers                 43\n",
       "Pune Warriors                   20\n",
       "Gujarat Lions                   14\n",
       "Rising Pune Supergiant           8\n",
       "Kochi Tuskers Kerala             7\n",
       "Rising Pune Supergiants          7\n",
       "Delhi Capitals                   6\n",
       "Name: team1, dtype: int64"
      ]
     },
     "execution_count": 10,
     "metadata": {},
     "output_type": "execute_result"
    }
   ],
   "source": [
    "df2['team1'].value_counts()"
   ]
  },
  {
   "cell_type": "code",
   "execution_count": 11,
   "id": "mounted-saudi",
   "metadata": {},
   "outputs": [
    {
     "data": {
      "text/plain": [
       "Kolkata Knight Riders          95\n",
       "Royal Challengers Bangalore    95\n",
       "Delhi Daredevils               89\n",
       "Mumbai Indians                 86\n",
       "Kings XI Punjab                85\n",
       "Rajasthan Royals               80\n",
       "Chennai Super Kings            75\n",
       "Sunrisers Hyderabad            45\n",
       "Deccan Chargers                32\n",
       "Pune Warriors                  26\n",
       "Gujarat Lions                  16\n",
       "Delhi Capitals                 10\n",
       "Rising Pune Supergiant          8\n",
       "Kochi Tuskers Kerala            7\n",
       "Rising Pune Supergiants         7\n",
       "Name: team2, dtype: int64"
      ]
     },
     "execution_count": 11,
     "metadata": {},
     "output_type": "execute_result"
    }
   ],
   "source": [
    "df2['team2'].value_counts()"
   ]
  },
  {
   "cell_type": "code",
   "execution_count": 12,
   "id": "celtic-celtic",
   "metadata": {},
   "outputs": [
    {
     "data": {
      "text/plain": [
       "Eden Gardens                                            77\n",
       "Wankhede Stadium                                        73\n",
       "M Chinnaswamy Stadium                                   73\n",
       "Feroz Shah Kotla                                        67\n",
       "Rajiv Gandhi International Stadium, Uppal               56\n",
       "MA Chidambaram Stadium, Chepauk                         49\n",
       "Sawai Mansingh Stadium                                  47\n",
       "Punjab Cricket Association Stadium, Mohali              35\n",
       "Maharashtra Cricket Association Stadium                 21\n",
       "Dr DY Patil Sports Academy                              17\n",
       "Subrata Roy Sahara Stadium                              17\n",
       "Kingsmead                                               15\n",
       "Punjab Cricket Association IS Bindra Stadium, Mohali    14\n",
       "Sardar Patel Stadium, Motera                            12\n",
       "SuperSport Park                                         12\n",
       "Name: venue, dtype: int64"
      ]
     },
     "execution_count": 12,
     "metadata": {},
     "output_type": "execute_result"
    }
   ],
   "source": [
    "df2['venue'].value_counts()[:15]"
   ]
  },
  {
   "cell_type": "markdown",
   "id": "outdoor-brazil",
   "metadata": {},
   "source": [
    "There have been multiple names for the Same Team- the Data is cleaned in the following portion."
   ]
  },
  {
   "cell_type": "code",
   "execution_count": 13,
   "id": "transparent-flavor",
   "metadata": {},
   "outputs": [],
   "source": [
    "df2['team1'].replace({'Rising Pune Supergiants' : 'Rising Pune Supergiant'},regex=True,inplace=True)\n",
    "df2['team2'].replace({'Rising Pune Supergiants' : 'Rising Pune Supergiant'},regex=True,inplace=True)\n",
    "df2['winner'].replace({'Rising Pune Supergiants' : 'Rising Pune Supergiant'},regex=True,inplace=True)"
   ]
  },
  {
   "cell_type": "code",
   "execution_count": 14,
   "id": "impressive-nursing",
   "metadata": {},
   "outputs": [],
   "source": [
    "df2['venue'].replace({'Feroz Shah Kotla Ground':'Feroz Shah Kotla',\n",
    "                    'M Chinnaswamy Stadium':'M. Chinnaswamy Stadium',\n",
    "                    'MA Chidambaram Stadium, Chepauk':'M.A. Chidambaram Stadium',\n",
    "                     'M. A. Chidambaram Stadium':'M.A. Chidambaram Stadium',\n",
    "                     'Punjab Cricket Association IS Bindra Stadium, Mohali':'Punjab Cricket Association Stadium',\n",
    "                     'Punjab Cricket Association Stadium, Mohali':'Punjab Cricket Association Stadium',\n",
    "                     'IS Bindra Stadium':'Punjab Cricket Association Stadium',\n",
    "                    'Rajiv Gandhi International Stadium, Uppal':'Rajiv Gandhi International Stadium',\n",
    "                    'Rajiv Gandhi Intl. Cricket Stadium':'Rajiv Gandhi International Stadium'},regex=True,inplace=True)"
   ]
  },
  {
   "cell_type": "code",
   "execution_count": 15,
   "id": "binding-dylan",
   "metadata": {},
   "outputs": [
    {
     "data": {
      "text/plain": [
       "(14,)"
      ]
     },
     "execution_count": 15,
     "metadata": {},
     "output_type": "execute_result"
    }
   ],
   "source": [
    "df2.team2.value_counts().shape"
   ]
  },
  {
   "cell_type": "markdown",
   "id": "forty-thomas",
   "metadata": {},
   "source": [
    "#### 1.Top 15 Venues where the most number of matches have been played"
   ]
  },
  {
   "cell_type": "code",
   "execution_count": 16,
   "id": "democratic-rates",
   "metadata": {},
   "outputs": [],
   "source": [
    "venue = df2['venue'].value_counts()[:15].reset_index()"
   ]
  },
  {
   "cell_type": "code",
   "execution_count": 17,
   "id": "worse-kitchen",
   "metadata": {},
   "outputs": [
    {
     "data": {
      "application/vnd.plotly.v1+json": {
       "config": {
        "linkText": "Export to plot.ly",
        "plotlyServerURL": "https://plot.ly",
        "showLink": true
       },
       "data": [
        {
         "marker": {
          "color": "rgba(0, 128, 0, 0.6)",
          "line": {
           "color": "rgba(0, 128, 0, 1.0)",
           "width": 1
          }
         },
         "name": "venue",
         "orientation": "v",
         "text": "",
         "type": "bar",
         "x": [
          "M. Chinnaswamy Stadium",
          "Eden Gardens",
          "Feroz Shah Kotla",
          "Wankhede Stadium",
          "Rajiv Gandhi International Stadium",
          "M.A. Chidambaram Stadium",
          "Punjab Cricket Association Stadium",
          "Sawai Mansingh Stadium",
          "Maharashtra Cricket Association Stadium",
          "Dr DY Patil Sports Academy",
          "Subrata Roy Sahara Stadium",
          "Kingsmead",
          "Sardar Patel Stadium, Motera",
          "SuperSport Park",
          "Brabourne Stadium"
         ],
         "y": [
          80,
          77,
          74,
          73,
          64,
          57,
          56,
          47,
          21,
          17,
          17,
          15,
          12,
          12,
          11
         ]
        }
       ],
       "layout": {
        "legend": {
         "bgcolor": "#F5F6F9",
         "font": {
          "color": "#4D5663"
         }
        },
        "paper_bgcolor": "#F5F6F9",
        "plot_bgcolor": "#F5F6F9",
        "template": {
         "data": {
          "bar": [
           {
            "error_x": {
             "color": "#2a3f5f"
            },
            "error_y": {
             "color": "#2a3f5f"
            },
            "marker": {
             "line": {
              "color": "#E5ECF6",
              "width": 0.5
             }
            },
            "type": "bar"
           }
          ],
          "barpolar": [
           {
            "marker": {
             "line": {
              "color": "#E5ECF6",
              "width": 0.5
             }
            },
            "type": "barpolar"
           }
          ],
          "carpet": [
           {
            "aaxis": {
             "endlinecolor": "#2a3f5f",
             "gridcolor": "white",
             "linecolor": "white",
             "minorgridcolor": "white",
             "startlinecolor": "#2a3f5f"
            },
            "baxis": {
             "endlinecolor": "#2a3f5f",
             "gridcolor": "white",
             "linecolor": "white",
             "minorgridcolor": "white",
             "startlinecolor": "#2a3f5f"
            },
            "type": "carpet"
           }
          ],
          "choropleth": [
           {
            "colorbar": {
             "outlinewidth": 0,
             "ticks": ""
            },
            "type": "choropleth"
           }
          ],
          "contour": [
           {
            "colorbar": {
             "outlinewidth": 0,
             "ticks": ""
            },
            "colorscale": [
             [
              0,
              "#0d0887"
             ],
             [
              0.1111111111111111,
              "#46039f"
             ],
             [
              0.2222222222222222,
              "#7201a8"
             ],
             [
              0.3333333333333333,
              "#9c179e"
             ],
             [
              0.4444444444444444,
              "#bd3786"
             ],
             [
              0.5555555555555556,
              "#d8576b"
             ],
             [
              0.6666666666666666,
              "#ed7953"
             ],
             [
              0.7777777777777778,
              "#fb9f3a"
             ],
             [
              0.8888888888888888,
              "#fdca26"
             ],
             [
              1,
              "#f0f921"
             ]
            ],
            "type": "contour"
           }
          ],
          "contourcarpet": [
           {
            "colorbar": {
             "outlinewidth": 0,
             "ticks": ""
            },
            "type": "contourcarpet"
           }
          ],
          "heatmap": [
           {
            "colorbar": {
             "outlinewidth": 0,
             "ticks": ""
            },
            "colorscale": [
             [
              0,
              "#0d0887"
             ],
             [
              0.1111111111111111,
              "#46039f"
             ],
             [
              0.2222222222222222,
              "#7201a8"
             ],
             [
              0.3333333333333333,
              "#9c179e"
             ],
             [
              0.4444444444444444,
              "#bd3786"
             ],
             [
              0.5555555555555556,
              "#d8576b"
             ],
             [
              0.6666666666666666,
              "#ed7953"
             ],
             [
              0.7777777777777778,
              "#fb9f3a"
             ],
             [
              0.8888888888888888,
              "#fdca26"
             ],
             [
              1,
              "#f0f921"
             ]
            ],
            "type": "heatmap"
           }
          ],
          "heatmapgl": [
           {
            "colorbar": {
             "outlinewidth": 0,
             "ticks": ""
            },
            "colorscale": [
             [
              0,
              "#0d0887"
             ],
             [
              0.1111111111111111,
              "#46039f"
             ],
             [
              0.2222222222222222,
              "#7201a8"
             ],
             [
              0.3333333333333333,
              "#9c179e"
             ],
             [
              0.4444444444444444,
              "#bd3786"
             ],
             [
              0.5555555555555556,
              "#d8576b"
             ],
             [
              0.6666666666666666,
              "#ed7953"
             ],
             [
              0.7777777777777778,
              "#fb9f3a"
             ],
             [
              0.8888888888888888,
              "#fdca26"
             ],
             [
              1,
              "#f0f921"
             ]
            ],
            "type": "heatmapgl"
           }
          ],
          "histogram": [
           {
            "marker": {
             "colorbar": {
              "outlinewidth": 0,
              "ticks": ""
             }
            },
            "type": "histogram"
           }
          ],
          "histogram2d": [
           {
            "colorbar": {
             "outlinewidth": 0,
             "ticks": ""
            },
            "colorscale": [
             [
              0,
              "#0d0887"
             ],
             [
              0.1111111111111111,
              "#46039f"
             ],
             [
              0.2222222222222222,
              "#7201a8"
             ],
             [
              0.3333333333333333,
              "#9c179e"
             ],
             [
              0.4444444444444444,
              "#bd3786"
             ],
             [
              0.5555555555555556,
              "#d8576b"
             ],
             [
              0.6666666666666666,
              "#ed7953"
             ],
             [
              0.7777777777777778,
              "#fb9f3a"
             ],
             [
              0.8888888888888888,
              "#fdca26"
             ],
             [
              1,
              "#f0f921"
             ]
            ],
            "type": "histogram2d"
           }
          ],
          "histogram2dcontour": [
           {
            "colorbar": {
             "outlinewidth": 0,
             "ticks": ""
            },
            "colorscale": [
             [
              0,
              "#0d0887"
             ],
             [
              0.1111111111111111,
              "#46039f"
             ],
             [
              0.2222222222222222,
              "#7201a8"
             ],
             [
              0.3333333333333333,
              "#9c179e"
             ],
             [
              0.4444444444444444,
              "#bd3786"
             ],
             [
              0.5555555555555556,
              "#d8576b"
             ],
             [
              0.6666666666666666,
              "#ed7953"
             ],
             [
              0.7777777777777778,
              "#fb9f3a"
             ],
             [
              0.8888888888888888,
              "#fdca26"
             ],
             [
              1,
              "#f0f921"
             ]
            ],
            "type": "histogram2dcontour"
           }
          ],
          "mesh3d": [
           {
            "colorbar": {
             "outlinewidth": 0,
             "ticks": ""
            },
            "type": "mesh3d"
           }
          ],
          "parcoords": [
           {
            "line": {
             "colorbar": {
              "outlinewidth": 0,
              "ticks": ""
             }
            },
            "type": "parcoords"
           }
          ],
          "pie": [
           {
            "automargin": true,
            "type": "pie"
           }
          ],
          "scatter": [
           {
            "marker": {
             "colorbar": {
              "outlinewidth": 0,
              "ticks": ""
             }
            },
            "type": "scatter"
           }
          ],
          "scatter3d": [
           {
            "line": {
             "colorbar": {
              "outlinewidth": 0,
              "ticks": ""
             }
            },
            "marker": {
             "colorbar": {
              "outlinewidth": 0,
              "ticks": ""
             }
            },
            "type": "scatter3d"
           }
          ],
          "scattercarpet": [
           {
            "marker": {
             "colorbar": {
              "outlinewidth": 0,
              "ticks": ""
             }
            },
            "type": "scattercarpet"
           }
          ],
          "scattergeo": [
           {
            "marker": {
             "colorbar": {
              "outlinewidth": 0,
              "ticks": ""
             }
            },
            "type": "scattergeo"
           }
          ],
          "scattergl": [
           {
            "marker": {
             "colorbar": {
              "outlinewidth": 0,
              "ticks": ""
             }
            },
            "type": "scattergl"
           }
          ],
          "scattermapbox": [
           {
            "marker": {
             "colorbar": {
              "outlinewidth": 0,
              "ticks": ""
             }
            },
            "type": "scattermapbox"
           }
          ],
          "scatterpolar": [
           {
            "marker": {
             "colorbar": {
              "outlinewidth": 0,
              "ticks": ""
             }
            },
            "type": "scatterpolar"
           }
          ],
          "scatterpolargl": [
           {
            "marker": {
             "colorbar": {
              "outlinewidth": 0,
              "ticks": ""
             }
            },
            "type": "scatterpolargl"
           }
          ],
          "scatterternary": [
           {
            "marker": {
             "colorbar": {
              "outlinewidth": 0,
              "ticks": ""
             }
            },
            "type": "scatterternary"
           }
          ],
          "surface": [
           {
            "colorbar": {
             "outlinewidth": 0,
             "ticks": ""
            },
            "colorscale": [
             [
              0,
              "#0d0887"
             ],
             [
              0.1111111111111111,
              "#46039f"
             ],
             [
              0.2222222222222222,
              "#7201a8"
             ],
             [
              0.3333333333333333,
              "#9c179e"
             ],
             [
              0.4444444444444444,
              "#bd3786"
             ],
             [
              0.5555555555555556,
              "#d8576b"
             ],
             [
              0.6666666666666666,
              "#ed7953"
             ],
             [
              0.7777777777777778,
              "#fb9f3a"
             ],
             [
              0.8888888888888888,
              "#fdca26"
             ],
             [
              1,
              "#f0f921"
             ]
            ],
            "type": "surface"
           }
          ],
          "table": [
           {
            "cells": {
             "fill": {
              "color": "#EBF0F8"
             },
             "line": {
              "color": "white"
             }
            },
            "header": {
             "fill": {
              "color": "#C8D4E3"
             },
             "line": {
              "color": "white"
             }
            },
            "type": "table"
           }
          ]
         },
         "layout": {
          "annotationdefaults": {
           "arrowcolor": "#2a3f5f",
           "arrowhead": 0,
           "arrowwidth": 1
          },
          "autotypenumbers": "strict",
          "coloraxis": {
           "colorbar": {
            "outlinewidth": 0,
            "ticks": ""
           }
          },
          "colorscale": {
           "diverging": [
            [
             0,
             "#8e0152"
            ],
            [
             0.1,
             "#c51b7d"
            ],
            [
             0.2,
             "#de77ae"
            ],
            [
             0.3,
             "#f1b6da"
            ],
            [
             0.4,
             "#fde0ef"
            ],
            [
             0.5,
             "#f7f7f7"
            ],
            [
             0.6,
             "#e6f5d0"
            ],
            [
             0.7,
             "#b8e186"
            ],
            [
             0.8,
             "#7fbc41"
            ],
            [
             0.9,
             "#4d9221"
            ],
            [
             1,
             "#276419"
            ]
           ],
           "sequential": [
            [
             0,
             "#0d0887"
            ],
            [
             0.1111111111111111,
             "#46039f"
            ],
            [
             0.2222222222222222,
             "#7201a8"
            ],
            [
             0.3333333333333333,
             "#9c179e"
            ],
            [
             0.4444444444444444,
             "#bd3786"
            ],
            [
             0.5555555555555556,
             "#d8576b"
            ],
            [
             0.6666666666666666,
             "#ed7953"
            ],
            [
             0.7777777777777778,
             "#fb9f3a"
            ],
            [
             0.8888888888888888,
             "#fdca26"
            ],
            [
             1,
             "#f0f921"
            ]
           ],
           "sequentialminus": [
            [
             0,
             "#0d0887"
            ],
            [
             0.1111111111111111,
             "#46039f"
            ],
            [
             0.2222222222222222,
             "#7201a8"
            ],
            [
             0.3333333333333333,
             "#9c179e"
            ],
            [
             0.4444444444444444,
             "#bd3786"
            ],
            [
             0.5555555555555556,
             "#d8576b"
            ],
            [
             0.6666666666666666,
             "#ed7953"
            ],
            [
             0.7777777777777778,
             "#fb9f3a"
            ],
            [
             0.8888888888888888,
             "#fdca26"
            ],
            [
             1,
             "#f0f921"
            ]
           ]
          },
          "colorway": [
           "#636efa",
           "#EF553B",
           "#00cc96",
           "#ab63fa",
           "#FFA15A",
           "#19d3f3",
           "#FF6692",
           "#B6E880",
           "#FF97FF",
           "#FECB52"
          ],
          "font": {
           "color": "#2a3f5f"
          },
          "geo": {
           "bgcolor": "white",
           "lakecolor": "white",
           "landcolor": "#E5ECF6",
           "showlakes": true,
           "showland": true,
           "subunitcolor": "white"
          },
          "hoverlabel": {
           "align": "left"
          },
          "hovermode": "closest",
          "mapbox": {
           "style": "light"
          },
          "paper_bgcolor": "white",
          "plot_bgcolor": "#E5ECF6",
          "polar": {
           "angularaxis": {
            "gridcolor": "white",
            "linecolor": "white",
            "ticks": ""
           },
           "bgcolor": "#E5ECF6",
           "radialaxis": {
            "gridcolor": "white",
            "linecolor": "white",
            "ticks": ""
           }
          },
          "scene": {
           "xaxis": {
            "backgroundcolor": "#E5ECF6",
            "gridcolor": "white",
            "gridwidth": 2,
            "linecolor": "white",
            "showbackground": true,
            "ticks": "",
            "zerolinecolor": "white"
           },
           "yaxis": {
            "backgroundcolor": "#E5ECF6",
            "gridcolor": "white",
            "gridwidth": 2,
            "linecolor": "white",
            "showbackground": true,
            "ticks": "",
            "zerolinecolor": "white"
           },
           "zaxis": {
            "backgroundcolor": "#E5ECF6",
            "gridcolor": "white",
            "gridwidth": 2,
            "linecolor": "white",
            "showbackground": true,
            "ticks": "",
            "zerolinecolor": "white"
           }
          },
          "shapedefaults": {
           "line": {
            "color": "#2a3f5f"
           }
          },
          "ternary": {
           "aaxis": {
            "gridcolor": "white",
            "linecolor": "white",
            "ticks": ""
           },
           "baxis": {
            "gridcolor": "white",
            "linecolor": "white",
            "ticks": ""
           },
           "bgcolor": "#E5ECF6",
           "caxis": {
            "gridcolor": "white",
            "linecolor": "white",
            "ticks": ""
           }
          },
          "title": {
           "x": 0.05
          },
          "xaxis": {
           "automargin": true,
           "gridcolor": "white",
           "linecolor": "white",
           "ticks": "",
           "title": {
            "standoff": 15
           },
           "zerolinecolor": "white",
           "zerolinewidth": 2
          },
          "yaxis": {
           "automargin": true,
           "gridcolor": "white",
           "linecolor": "white",
           "ticks": "",
           "title": {
            "standoff": 15
           },
           "zerolinecolor": "white",
           "zerolinewidth": 2
          }
         }
        },
        "title": {
         "font": {
          "color": "#4D5663"
         },
         "text": "Top 15 Venues where the most number of matches have been played"
        },
        "xaxis": {
         "gridcolor": "#E1E5ED",
         "showgrid": true,
         "tickfont": {
          "color": "#4D5663"
         },
         "title": {
          "font": {
           "color": "#4D5663"
          },
          "text": "Venue"
         },
         "zerolinecolor": "#E1E5ED"
        },
        "yaxis": {
         "gridcolor": "#E1E5ED",
         "showgrid": true,
         "tickfont": {
          "color": "#4D5663"
         },
         "title": {
          "font": {
           "color": "#4D5663"
          },
          "text": "Number of Matches"
         },
         "zerolinecolor": "#E1E5ED"
        }
       }
      },
      "text/html": [
       "<div>                            <div id=\"679dcc36-44b5-4f7a-84ae-a41d4e5f81db\" class=\"plotly-graph-div\" style=\"height:525px; width:100%;\"></div>            <script type=\"text/javascript\">                require([\"plotly\"], function(Plotly) {                    window.PLOTLYENV=window.PLOTLYENV || {};\n",
       "                    window.PLOTLYENV.BASE_URL='https://plot.ly';                                    if (document.getElementById(\"679dcc36-44b5-4f7a-84ae-a41d4e5f81db\")) {                    Plotly.newPlot(                        \"679dcc36-44b5-4f7a-84ae-a41d4e5f81db\",                        [{\"marker\": {\"color\": \"rgba(0, 128, 0, 0.6)\", \"line\": {\"color\": \"rgba(0, 128, 0, 1.0)\", \"width\": 1}}, \"name\": \"venue\", \"orientation\": \"v\", \"text\": \"\", \"type\": \"bar\", \"x\": [\"M. Chinnaswamy Stadium\", \"Eden Gardens\", \"Feroz Shah Kotla\", \"Wankhede Stadium\", \"Rajiv Gandhi International Stadium\", \"M.A. Chidambaram Stadium\", \"Punjab Cricket Association Stadium\", \"Sawai Mansingh Stadium\", \"Maharashtra Cricket Association Stadium\", \"Dr DY Patil Sports Academy\", \"Subrata Roy Sahara Stadium\", \"Kingsmead\", \"Sardar Patel Stadium, Motera\", \"SuperSport Park\", \"Brabourne Stadium\"], \"y\": [80, 77, 74, 73, 64, 57, 56, 47, 21, 17, 17, 15, 12, 12, 11]}],                        {\"legend\": {\"bgcolor\": \"#F5F6F9\", \"font\": {\"color\": \"#4D5663\"}}, \"paper_bgcolor\": \"#F5F6F9\", \"plot_bgcolor\": \"#F5F6F9\", \"template\": {\"data\": {\"bar\": [{\"error_x\": {\"color\": \"#2a3f5f\"}, \"error_y\": {\"color\": \"#2a3f5f\"}, \"marker\": {\"line\": {\"color\": \"#E5ECF6\", \"width\": 0.5}}, \"type\": \"bar\"}], \"barpolar\": [{\"marker\": {\"line\": {\"color\": \"#E5ECF6\", \"width\": 0.5}}, \"type\": \"barpolar\"}], \"carpet\": [{\"aaxis\": {\"endlinecolor\": \"#2a3f5f\", \"gridcolor\": \"white\", \"linecolor\": \"white\", \"minorgridcolor\": \"white\", \"startlinecolor\": \"#2a3f5f\"}, \"baxis\": {\"endlinecolor\": \"#2a3f5f\", \"gridcolor\": \"white\", \"linecolor\": \"white\", \"minorgridcolor\": \"white\", \"startlinecolor\": \"#2a3f5f\"}, \"type\": \"carpet\"}], \"choropleth\": [{\"colorbar\": {\"outlinewidth\": 0, \"ticks\": \"\"}, \"type\": \"choropleth\"}], \"contour\": [{\"colorbar\": {\"outlinewidth\": 0, \"ticks\": \"\"}, \"colorscale\": [[0.0, \"#0d0887\"], [0.1111111111111111, \"#46039f\"], [0.2222222222222222, \"#7201a8\"], [0.3333333333333333, \"#9c179e\"], [0.4444444444444444, \"#bd3786\"], [0.5555555555555556, \"#d8576b\"], [0.6666666666666666, \"#ed7953\"], [0.7777777777777778, \"#fb9f3a\"], [0.8888888888888888, \"#fdca26\"], [1.0, \"#f0f921\"]], \"type\": \"contour\"}], \"contourcarpet\": [{\"colorbar\": {\"outlinewidth\": 0, \"ticks\": \"\"}, \"type\": \"contourcarpet\"}], \"heatmap\": [{\"colorbar\": {\"outlinewidth\": 0, \"ticks\": \"\"}, \"colorscale\": [[0.0, \"#0d0887\"], [0.1111111111111111, \"#46039f\"], [0.2222222222222222, \"#7201a8\"], [0.3333333333333333, \"#9c179e\"], [0.4444444444444444, \"#bd3786\"], [0.5555555555555556, \"#d8576b\"], [0.6666666666666666, \"#ed7953\"], [0.7777777777777778, \"#fb9f3a\"], [0.8888888888888888, \"#fdca26\"], [1.0, \"#f0f921\"]], \"type\": \"heatmap\"}], \"heatmapgl\": [{\"colorbar\": {\"outlinewidth\": 0, \"ticks\": \"\"}, \"colorscale\": [[0.0, \"#0d0887\"], [0.1111111111111111, \"#46039f\"], [0.2222222222222222, \"#7201a8\"], [0.3333333333333333, \"#9c179e\"], [0.4444444444444444, \"#bd3786\"], [0.5555555555555556, \"#d8576b\"], [0.6666666666666666, \"#ed7953\"], [0.7777777777777778, \"#fb9f3a\"], [0.8888888888888888, \"#fdca26\"], [1.0, \"#f0f921\"]], \"type\": \"heatmapgl\"}], \"histogram\": [{\"marker\": {\"colorbar\": {\"outlinewidth\": 0, \"ticks\": \"\"}}, \"type\": \"histogram\"}], \"histogram2d\": [{\"colorbar\": {\"outlinewidth\": 0, \"ticks\": \"\"}, \"colorscale\": [[0.0, \"#0d0887\"], [0.1111111111111111, \"#46039f\"], [0.2222222222222222, \"#7201a8\"], [0.3333333333333333, \"#9c179e\"], [0.4444444444444444, \"#bd3786\"], [0.5555555555555556, \"#d8576b\"], [0.6666666666666666, \"#ed7953\"], [0.7777777777777778, \"#fb9f3a\"], [0.8888888888888888, \"#fdca26\"], [1.0, \"#f0f921\"]], \"type\": \"histogram2d\"}], \"histogram2dcontour\": [{\"colorbar\": {\"outlinewidth\": 0, \"ticks\": \"\"}, \"colorscale\": [[0.0, \"#0d0887\"], [0.1111111111111111, \"#46039f\"], [0.2222222222222222, \"#7201a8\"], [0.3333333333333333, \"#9c179e\"], [0.4444444444444444, \"#bd3786\"], [0.5555555555555556, \"#d8576b\"], [0.6666666666666666, \"#ed7953\"], [0.7777777777777778, \"#fb9f3a\"], [0.8888888888888888, \"#fdca26\"], [1.0, \"#f0f921\"]], \"type\": \"histogram2dcontour\"}], \"mesh3d\": [{\"colorbar\": {\"outlinewidth\": 0, \"ticks\": \"\"}, \"type\": \"mesh3d\"}], \"parcoords\": [{\"line\": {\"colorbar\": {\"outlinewidth\": 0, \"ticks\": \"\"}}, \"type\": \"parcoords\"}], \"pie\": [{\"automargin\": true, \"type\": \"pie\"}], \"scatter\": [{\"marker\": {\"colorbar\": {\"outlinewidth\": 0, \"ticks\": \"\"}}, \"type\": \"scatter\"}], \"scatter3d\": [{\"line\": {\"colorbar\": {\"outlinewidth\": 0, \"ticks\": \"\"}}, \"marker\": {\"colorbar\": {\"outlinewidth\": 0, \"ticks\": \"\"}}, \"type\": \"scatter3d\"}], \"scattercarpet\": [{\"marker\": {\"colorbar\": {\"outlinewidth\": 0, \"ticks\": \"\"}}, \"type\": \"scattercarpet\"}], \"scattergeo\": [{\"marker\": {\"colorbar\": {\"outlinewidth\": 0, \"ticks\": \"\"}}, \"type\": \"scattergeo\"}], \"scattergl\": [{\"marker\": {\"colorbar\": {\"outlinewidth\": 0, \"ticks\": \"\"}}, \"type\": \"scattergl\"}], \"scattermapbox\": [{\"marker\": {\"colorbar\": {\"outlinewidth\": 0, \"ticks\": \"\"}}, \"type\": \"scattermapbox\"}], \"scatterpolar\": [{\"marker\": {\"colorbar\": {\"outlinewidth\": 0, \"ticks\": \"\"}}, \"type\": \"scatterpolar\"}], \"scatterpolargl\": [{\"marker\": {\"colorbar\": {\"outlinewidth\": 0, \"ticks\": \"\"}}, \"type\": \"scatterpolargl\"}], \"scatterternary\": [{\"marker\": {\"colorbar\": {\"outlinewidth\": 0, \"ticks\": \"\"}}, \"type\": \"scatterternary\"}], \"surface\": [{\"colorbar\": {\"outlinewidth\": 0, \"ticks\": \"\"}, \"colorscale\": [[0.0, \"#0d0887\"], [0.1111111111111111, \"#46039f\"], [0.2222222222222222, \"#7201a8\"], [0.3333333333333333, \"#9c179e\"], [0.4444444444444444, \"#bd3786\"], [0.5555555555555556, \"#d8576b\"], [0.6666666666666666, \"#ed7953\"], [0.7777777777777778, \"#fb9f3a\"], [0.8888888888888888, \"#fdca26\"], [1.0, \"#f0f921\"]], \"type\": \"surface\"}], \"table\": [{\"cells\": {\"fill\": {\"color\": \"#EBF0F8\"}, \"line\": {\"color\": \"white\"}}, \"header\": {\"fill\": {\"color\": \"#C8D4E3\"}, \"line\": {\"color\": \"white\"}}, \"type\": \"table\"}]}, \"layout\": {\"annotationdefaults\": {\"arrowcolor\": \"#2a3f5f\", \"arrowhead\": 0, \"arrowwidth\": 1}, \"autotypenumbers\": \"strict\", \"coloraxis\": {\"colorbar\": {\"outlinewidth\": 0, \"ticks\": \"\"}}, \"colorscale\": {\"diverging\": [[0, \"#8e0152\"], [0.1, \"#c51b7d\"], [0.2, \"#de77ae\"], [0.3, \"#f1b6da\"], [0.4, \"#fde0ef\"], [0.5, \"#f7f7f7\"], [0.6, \"#e6f5d0\"], [0.7, \"#b8e186\"], [0.8, \"#7fbc41\"], [0.9, \"#4d9221\"], [1, \"#276419\"]], \"sequential\": [[0.0, \"#0d0887\"], [0.1111111111111111, \"#46039f\"], [0.2222222222222222, \"#7201a8\"], [0.3333333333333333, \"#9c179e\"], [0.4444444444444444, \"#bd3786\"], [0.5555555555555556, \"#d8576b\"], [0.6666666666666666, \"#ed7953\"], [0.7777777777777778, \"#fb9f3a\"], [0.8888888888888888, \"#fdca26\"], [1.0, \"#f0f921\"]], \"sequentialminus\": [[0.0, \"#0d0887\"], [0.1111111111111111, \"#46039f\"], [0.2222222222222222, \"#7201a8\"], [0.3333333333333333, \"#9c179e\"], [0.4444444444444444, \"#bd3786\"], [0.5555555555555556, \"#d8576b\"], [0.6666666666666666, \"#ed7953\"], [0.7777777777777778, \"#fb9f3a\"], [0.8888888888888888, \"#fdca26\"], [1.0, \"#f0f921\"]]}, \"colorway\": [\"#636efa\", \"#EF553B\", \"#00cc96\", \"#ab63fa\", \"#FFA15A\", \"#19d3f3\", \"#FF6692\", \"#B6E880\", \"#FF97FF\", \"#FECB52\"], \"font\": {\"color\": \"#2a3f5f\"}, \"geo\": {\"bgcolor\": \"white\", \"lakecolor\": \"white\", \"landcolor\": \"#E5ECF6\", \"showlakes\": true, \"showland\": true, \"subunitcolor\": \"white\"}, \"hoverlabel\": {\"align\": \"left\"}, \"hovermode\": \"closest\", \"mapbox\": {\"style\": \"light\"}, \"paper_bgcolor\": \"white\", \"plot_bgcolor\": \"#E5ECF6\", \"polar\": {\"angularaxis\": {\"gridcolor\": \"white\", \"linecolor\": \"white\", \"ticks\": \"\"}, \"bgcolor\": \"#E5ECF6\", \"radialaxis\": {\"gridcolor\": \"white\", \"linecolor\": \"white\", \"ticks\": \"\"}}, \"scene\": {\"xaxis\": {\"backgroundcolor\": \"#E5ECF6\", \"gridcolor\": \"white\", \"gridwidth\": 2, \"linecolor\": \"white\", \"showbackground\": true, \"ticks\": \"\", \"zerolinecolor\": \"white\"}, \"yaxis\": {\"backgroundcolor\": \"#E5ECF6\", \"gridcolor\": \"white\", \"gridwidth\": 2, \"linecolor\": \"white\", \"showbackground\": true, \"ticks\": \"\", \"zerolinecolor\": \"white\"}, \"zaxis\": {\"backgroundcolor\": \"#E5ECF6\", \"gridcolor\": \"white\", \"gridwidth\": 2, \"linecolor\": \"white\", \"showbackground\": true, \"ticks\": \"\", \"zerolinecolor\": \"white\"}}, \"shapedefaults\": {\"line\": {\"color\": \"#2a3f5f\"}}, \"ternary\": {\"aaxis\": {\"gridcolor\": \"white\", \"linecolor\": \"white\", \"ticks\": \"\"}, \"baxis\": {\"gridcolor\": \"white\", \"linecolor\": \"white\", \"ticks\": \"\"}, \"bgcolor\": \"#E5ECF6\", \"caxis\": {\"gridcolor\": \"white\", \"linecolor\": \"white\", \"ticks\": \"\"}}, \"title\": {\"x\": 0.05}, \"xaxis\": {\"automargin\": true, \"gridcolor\": \"white\", \"linecolor\": \"white\", \"ticks\": \"\", \"title\": {\"standoff\": 15}, \"zerolinecolor\": \"white\", \"zerolinewidth\": 2}, \"yaxis\": {\"automargin\": true, \"gridcolor\": \"white\", \"linecolor\": \"white\", \"ticks\": \"\", \"title\": {\"standoff\": 15}, \"zerolinecolor\": \"white\", \"zerolinewidth\": 2}}}, \"title\": {\"font\": {\"color\": \"#4D5663\"}, \"text\": \"Top 15 Venues where the most number of matches have been played\"}, \"xaxis\": {\"gridcolor\": \"#E1E5ED\", \"showgrid\": true, \"tickfont\": {\"color\": \"#4D5663\"}, \"title\": {\"font\": {\"color\": \"#4D5663\"}, \"text\": \"Venue\"}, \"zerolinecolor\": \"#E1E5ED\"}, \"yaxis\": {\"gridcolor\": \"#E1E5ED\", \"showgrid\": true, \"tickfont\": {\"color\": \"#4D5663\"}, \"title\": {\"font\": {\"color\": \"#4D5663\"}, \"text\": \"Number of Matches\"}, \"zerolinecolor\": \"#E1E5ED\"}},                        {\"showLink\": true, \"linkText\": \"Export to plot.ly\", \"plotlyServerURL\": \"https://plot.ly\", \"responsive\": true}                    ).then(function(){\n",
       "                            \n",
       "var gd = document.getElementById('679dcc36-44b5-4f7a-84ae-a41d4e5f81db');\n",
       "var x = new MutationObserver(function (mutations, observer) {{\n",
       "        var display = window.getComputedStyle(gd).display;\n",
       "        if (!display || display === 'none') {{\n",
       "            console.log([gd, 'removed!']);\n",
       "            Plotly.purge(gd);\n",
       "            observer.disconnect();\n",
       "        }}\n",
       "}});\n",
       "\n",
       "// Listen for the removal of the full notebook cells\n",
       "var notebookContainer = gd.closest('#notebook-container');\n",
       "if (notebookContainer) {{\n",
       "    x.observe(notebookContainer, {childList: true});\n",
       "}}\n",
       "\n",
       "// Listen for the clearing of the current output cell\n",
       "var outputEl = gd.closest('.output');\n",
       "if (outputEl) {{\n",
       "    x.observe(outputEl, {childList: true});\n",
       "}}\n",
       "\n",
       "                        })                };                });            </script>        </div>"
      ]
     },
     "metadata": {},
     "output_type": "display_data"
    }
   ],
   "source": [
    "venue.iplot(kind='bar', x='index', y = 'venue',color = 'green',title='Top 15 Venues where the most number of matches have been played',\n",
    "                            xTitle='Venue', yTitle='Number of Matches')\n",
    "# sns.barplot(x=df2.venue.value_counts()[:15].index,y=df2.venue.value_counts()[:15].values)\n",
    "# plt.show()"
   ]
  },
  {
   "cell_type": "markdown",
   "id": "fatty-burton",
   "metadata": {},
   "source": [
    "#### 2.Top 15 Cities where the most number of matches have been played"
   ]
  },
  {
   "cell_type": "code",
   "execution_count": 18,
   "id": "great-housing",
   "metadata": {},
   "outputs": [],
   "source": [
    "Top_cities = df2.city.value_counts()[:15].reset_index()"
   ]
  },
  {
   "cell_type": "code",
   "execution_count": 19,
   "id": "institutional-sally",
   "metadata": {
    "scrolled": false
   },
   "outputs": [
    {
     "data": {
      "application/vnd.plotly.v1+json": {
       "config": {
        "linkText": "Export to plot.ly",
        "plotlyServerURL": "https://plot.ly",
        "showLink": true
       },
       "data": [
        {
         "marker": {
          "color": "rgba(55, 128, 191, 0.6)",
          "line": {
           "color": "rgba(55, 128, 191, 1.0)",
           "width": 1
          }
         },
         "name": "city",
         "orientation": "v",
         "text": "",
         "type": "bar",
         "x": [
          "Mumbai",
          "Kolkata",
          "Delhi",
          "Bangalore",
          "Hyderabad",
          "Chennai",
          "Jaipur",
          "Chandigarh",
          "Pune",
          "Durban",
          "Bengaluru",
          "Visakhapatnam",
          "Ahmedabad",
          "Centurion",
          "Rajkot"
         ],
         "y": [
          101,
          77,
          74,
          66,
          64,
          57,
          47,
          46,
          38,
          15,
          14,
          13,
          12,
          12,
          10
         ]
        }
       ],
       "layout": {
        "legend": {
         "bgcolor": "#F5F6F9",
         "font": {
          "color": "#4D5663"
         }
        },
        "paper_bgcolor": "#F5F6F9",
        "plot_bgcolor": "#F5F6F9",
        "template": {
         "data": {
          "bar": [
           {
            "error_x": {
             "color": "#2a3f5f"
            },
            "error_y": {
             "color": "#2a3f5f"
            },
            "marker": {
             "line": {
              "color": "#E5ECF6",
              "width": 0.5
             }
            },
            "type": "bar"
           }
          ],
          "barpolar": [
           {
            "marker": {
             "line": {
              "color": "#E5ECF6",
              "width": 0.5
             }
            },
            "type": "barpolar"
           }
          ],
          "carpet": [
           {
            "aaxis": {
             "endlinecolor": "#2a3f5f",
             "gridcolor": "white",
             "linecolor": "white",
             "minorgridcolor": "white",
             "startlinecolor": "#2a3f5f"
            },
            "baxis": {
             "endlinecolor": "#2a3f5f",
             "gridcolor": "white",
             "linecolor": "white",
             "minorgridcolor": "white",
             "startlinecolor": "#2a3f5f"
            },
            "type": "carpet"
           }
          ],
          "choropleth": [
           {
            "colorbar": {
             "outlinewidth": 0,
             "ticks": ""
            },
            "type": "choropleth"
           }
          ],
          "contour": [
           {
            "colorbar": {
             "outlinewidth": 0,
             "ticks": ""
            },
            "colorscale": [
             [
              0,
              "#0d0887"
             ],
             [
              0.1111111111111111,
              "#46039f"
             ],
             [
              0.2222222222222222,
              "#7201a8"
             ],
             [
              0.3333333333333333,
              "#9c179e"
             ],
             [
              0.4444444444444444,
              "#bd3786"
             ],
             [
              0.5555555555555556,
              "#d8576b"
             ],
             [
              0.6666666666666666,
              "#ed7953"
             ],
             [
              0.7777777777777778,
              "#fb9f3a"
             ],
             [
              0.8888888888888888,
              "#fdca26"
             ],
             [
              1,
              "#f0f921"
             ]
            ],
            "type": "contour"
           }
          ],
          "contourcarpet": [
           {
            "colorbar": {
             "outlinewidth": 0,
             "ticks": ""
            },
            "type": "contourcarpet"
           }
          ],
          "heatmap": [
           {
            "colorbar": {
             "outlinewidth": 0,
             "ticks": ""
            },
            "colorscale": [
             [
              0,
              "#0d0887"
             ],
             [
              0.1111111111111111,
              "#46039f"
             ],
             [
              0.2222222222222222,
              "#7201a8"
             ],
             [
              0.3333333333333333,
              "#9c179e"
             ],
             [
              0.4444444444444444,
              "#bd3786"
             ],
             [
              0.5555555555555556,
              "#d8576b"
             ],
             [
              0.6666666666666666,
              "#ed7953"
             ],
             [
              0.7777777777777778,
              "#fb9f3a"
             ],
             [
              0.8888888888888888,
              "#fdca26"
             ],
             [
              1,
              "#f0f921"
             ]
            ],
            "type": "heatmap"
           }
          ],
          "heatmapgl": [
           {
            "colorbar": {
             "outlinewidth": 0,
             "ticks": ""
            },
            "colorscale": [
             [
              0,
              "#0d0887"
             ],
             [
              0.1111111111111111,
              "#46039f"
             ],
             [
              0.2222222222222222,
              "#7201a8"
             ],
             [
              0.3333333333333333,
              "#9c179e"
             ],
             [
              0.4444444444444444,
              "#bd3786"
             ],
             [
              0.5555555555555556,
              "#d8576b"
             ],
             [
              0.6666666666666666,
              "#ed7953"
             ],
             [
              0.7777777777777778,
              "#fb9f3a"
             ],
             [
              0.8888888888888888,
              "#fdca26"
             ],
             [
              1,
              "#f0f921"
             ]
            ],
            "type": "heatmapgl"
           }
          ],
          "histogram": [
           {
            "marker": {
             "colorbar": {
              "outlinewidth": 0,
              "ticks": ""
             }
            },
            "type": "histogram"
           }
          ],
          "histogram2d": [
           {
            "colorbar": {
             "outlinewidth": 0,
             "ticks": ""
            },
            "colorscale": [
             [
              0,
              "#0d0887"
             ],
             [
              0.1111111111111111,
              "#46039f"
             ],
             [
              0.2222222222222222,
              "#7201a8"
             ],
             [
              0.3333333333333333,
              "#9c179e"
             ],
             [
              0.4444444444444444,
              "#bd3786"
             ],
             [
              0.5555555555555556,
              "#d8576b"
             ],
             [
              0.6666666666666666,
              "#ed7953"
             ],
             [
              0.7777777777777778,
              "#fb9f3a"
             ],
             [
              0.8888888888888888,
              "#fdca26"
             ],
             [
              1,
              "#f0f921"
             ]
            ],
            "type": "histogram2d"
           }
          ],
          "histogram2dcontour": [
           {
            "colorbar": {
             "outlinewidth": 0,
             "ticks": ""
            },
            "colorscale": [
             [
              0,
              "#0d0887"
             ],
             [
              0.1111111111111111,
              "#46039f"
             ],
             [
              0.2222222222222222,
              "#7201a8"
             ],
             [
              0.3333333333333333,
              "#9c179e"
             ],
             [
              0.4444444444444444,
              "#bd3786"
             ],
             [
              0.5555555555555556,
              "#d8576b"
             ],
             [
              0.6666666666666666,
              "#ed7953"
             ],
             [
              0.7777777777777778,
              "#fb9f3a"
             ],
             [
              0.8888888888888888,
              "#fdca26"
             ],
             [
              1,
              "#f0f921"
             ]
            ],
            "type": "histogram2dcontour"
           }
          ],
          "mesh3d": [
           {
            "colorbar": {
             "outlinewidth": 0,
             "ticks": ""
            },
            "type": "mesh3d"
           }
          ],
          "parcoords": [
           {
            "line": {
             "colorbar": {
              "outlinewidth": 0,
              "ticks": ""
             }
            },
            "type": "parcoords"
           }
          ],
          "pie": [
           {
            "automargin": true,
            "type": "pie"
           }
          ],
          "scatter": [
           {
            "marker": {
             "colorbar": {
              "outlinewidth": 0,
              "ticks": ""
             }
            },
            "type": "scatter"
           }
          ],
          "scatter3d": [
           {
            "line": {
             "colorbar": {
              "outlinewidth": 0,
              "ticks": ""
             }
            },
            "marker": {
             "colorbar": {
              "outlinewidth": 0,
              "ticks": ""
             }
            },
            "type": "scatter3d"
           }
          ],
          "scattercarpet": [
           {
            "marker": {
             "colorbar": {
              "outlinewidth": 0,
              "ticks": ""
             }
            },
            "type": "scattercarpet"
           }
          ],
          "scattergeo": [
           {
            "marker": {
             "colorbar": {
              "outlinewidth": 0,
              "ticks": ""
             }
            },
            "type": "scattergeo"
           }
          ],
          "scattergl": [
           {
            "marker": {
             "colorbar": {
              "outlinewidth": 0,
              "ticks": ""
             }
            },
            "type": "scattergl"
           }
          ],
          "scattermapbox": [
           {
            "marker": {
             "colorbar": {
              "outlinewidth": 0,
              "ticks": ""
             }
            },
            "type": "scattermapbox"
           }
          ],
          "scatterpolar": [
           {
            "marker": {
             "colorbar": {
              "outlinewidth": 0,
              "ticks": ""
             }
            },
            "type": "scatterpolar"
           }
          ],
          "scatterpolargl": [
           {
            "marker": {
             "colorbar": {
              "outlinewidth": 0,
              "ticks": ""
             }
            },
            "type": "scatterpolargl"
           }
          ],
          "scatterternary": [
           {
            "marker": {
             "colorbar": {
              "outlinewidth": 0,
              "ticks": ""
             }
            },
            "type": "scatterternary"
           }
          ],
          "surface": [
           {
            "colorbar": {
             "outlinewidth": 0,
             "ticks": ""
            },
            "colorscale": [
             [
              0,
              "#0d0887"
             ],
             [
              0.1111111111111111,
              "#46039f"
             ],
             [
              0.2222222222222222,
              "#7201a8"
             ],
             [
              0.3333333333333333,
              "#9c179e"
             ],
             [
              0.4444444444444444,
              "#bd3786"
             ],
             [
              0.5555555555555556,
              "#d8576b"
             ],
             [
              0.6666666666666666,
              "#ed7953"
             ],
             [
              0.7777777777777778,
              "#fb9f3a"
             ],
             [
              0.8888888888888888,
              "#fdca26"
             ],
             [
              1,
              "#f0f921"
             ]
            ],
            "type": "surface"
           }
          ],
          "table": [
           {
            "cells": {
             "fill": {
              "color": "#EBF0F8"
             },
             "line": {
              "color": "white"
             }
            },
            "header": {
             "fill": {
              "color": "#C8D4E3"
             },
             "line": {
              "color": "white"
             }
            },
            "type": "table"
           }
          ]
         },
         "layout": {
          "annotationdefaults": {
           "arrowcolor": "#2a3f5f",
           "arrowhead": 0,
           "arrowwidth": 1
          },
          "autotypenumbers": "strict",
          "coloraxis": {
           "colorbar": {
            "outlinewidth": 0,
            "ticks": ""
           }
          },
          "colorscale": {
           "diverging": [
            [
             0,
             "#8e0152"
            ],
            [
             0.1,
             "#c51b7d"
            ],
            [
             0.2,
             "#de77ae"
            ],
            [
             0.3,
             "#f1b6da"
            ],
            [
             0.4,
             "#fde0ef"
            ],
            [
             0.5,
             "#f7f7f7"
            ],
            [
             0.6,
             "#e6f5d0"
            ],
            [
             0.7,
             "#b8e186"
            ],
            [
             0.8,
             "#7fbc41"
            ],
            [
             0.9,
             "#4d9221"
            ],
            [
             1,
             "#276419"
            ]
           ],
           "sequential": [
            [
             0,
             "#0d0887"
            ],
            [
             0.1111111111111111,
             "#46039f"
            ],
            [
             0.2222222222222222,
             "#7201a8"
            ],
            [
             0.3333333333333333,
             "#9c179e"
            ],
            [
             0.4444444444444444,
             "#bd3786"
            ],
            [
             0.5555555555555556,
             "#d8576b"
            ],
            [
             0.6666666666666666,
             "#ed7953"
            ],
            [
             0.7777777777777778,
             "#fb9f3a"
            ],
            [
             0.8888888888888888,
             "#fdca26"
            ],
            [
             1,
             "#f0f921"
            ]
           ],
           "sequentialminus": [
            [
             0,
             "#0d0887"
            ],
            [
             0.1111111111111111,
             "#46039f"
            ],
            [
             0.2222222222222222,
             "#7201a8"
            ],
            [
             0.3333333333333333,
             "#9c179e"
            ],
            [
             0.4444444444444444,
             "#bd3786"
            ],
            [
             0.5555555555555556,
             "#d8576b"
            ],
            [
             0.6666666666666666,
             "#ed7953"
            ],
            [
             0.7777777777777778,
             "#fb9f3a"
            ],
            [
             0.8888888888888888,
             "#fdca26"
            ],
            [
             1,
             "#f0f921"
            ]
           ]
          },
          "colorway": [
           "#636efa",
           "#EF553B",
           "#00cc96",
           "#ab63fa",
           "#FFA15A",
           "#19d3f3",
           "#FF6692",
           "#B6E880",
           "#FF97FF",
           "#FECB52"
          ],
          "font": {
           "color": "#2a3f5f"
          },
          "geo": {
           "bgcolor": "white",
           "lakecolor": "white",
           "landcolor": "#E5ECF6",
           "showlakes": true,
           "showland": true,
           "subunitcolor": "white"
          },
          "hoverlabel": {
           "align": "left"
          },
          "hovermode": "closest",
          "mapbox": {
           "style": "light"
          },
          "paper_bgcolor": "white",
          "plot_bgcolor": "#E5ECF6",
          "polar": {
           "angularaxis": {
            "gridcolor": "white",
            "linecolor": "white",
            "ticks": ""
           },
           "bgcolor": "#E5ECF6",
           "radialaxis": {
            "gridcolor": "white",
            "linecolor": "white",
            "ticks": ""
           }
          },
          "scene": {
           "xaxis": {
            "backgroundcolor": "#E5ECF6",
            "gridcolor": "white",
            "gridwidth": 2,
            "linecolor": "white",
            "showbackground": true,
            "ticks": "",
            "zerolinecolor": "white"
           },
           "yaxis": {
            "backgroundcolor": "#E5ECF6",
            "gridcolor": "white",
            "gridwidth": 2,
            "linecolor": "white",
            "showbackground": true,
            "ticks": "",
            "zerolinecolor": "white"
           },
           "zaxis": {
            "backgroundcolor": "#E5ECF6",
            "gridcolor": "white",
            "gridwidth": 2,
            "linecolor": "white",
            "showbackground": true,
            "ticks": "",
            "zerolinecolor": "white"
           }
          },
          "shapedefaults": {
           "line": {
            "color": "#2a3f5f"
           }
          },
          "ternary": {
           "aaxis": {
            "gridcolor": "white",
            "linecolor": "white",
            "ticks": ""
           },
           "baxis": {
            "gridcolor": "white",
            "linecolor": "white",
            "ticks": ""
           },
           "bgcolor": "#E5ECF6",
           "caxis": {
            "gridcolor": "white",
            "linecolor": "white",
            "ticks": ""
           }
          },
          "title": {
           "x": 0.05
          },
          "xaxis": {
           "automargin": true,
           "gridcolor": "white",
           "linecolor": "white",
           "ticks": "",
           "title": {
            "standoff": 15
           },
           "zerolinecolor": "white",
           "zerolinewidth": 2
          },
          "yaxis": {
           "automargin": true,
           "gridcolor": "white",
           "linecolor": "white",
           "ticks": "",
           "title": {
            "standoff": 15
           },
           "zerolinecolor": "white",
           "zerolinewidth": 2
          }
         }
        },
        "title": {
         "font": {
          "color": "#4D5663"
         },
         "text": "Top 15 Cities where the most number of matches have been played"
        },
        "xaxis": {
         "gridcolor": "#E1E5ED",
         "showgrid": true,
         "tickfont": {
          "color": "#4D5663"
         },
         "title": {
          "font": {
           "color": "#4D5663"
          },
          "text": "City"
         },
         "zerolinecolor": "#E1E5ED"
        },
        "yaxis": {
         "gridcolor": "#E1E5ED",
         "showgrid": true,
         "tickfont": {
          "color": "#4D5663"
         },
         "title": {
          "font": {
           "color": "#4D5663"
          },
          "text": "Number of Matches"
         },
         "zerolinecolor": "#E1E5ED"
        }
       }
      },
      "text/html": [
       "<div>                            <div id=\"d1c471d6-4a64-4769-ade8-2ab36899156a\" class=\"plotly-graph-div\" style=\"height:525px; width:100%;\"></div>            <script type=\"text/javascript\">                require([\"plotly\"], function(Plotly) {                    window.PLOTLYENV=window.PLOTLYENV || {};\n",
       "                    window.PLOTLYENV.BASE_URL='https://plot.ly';                                    if (document.getElementById(\"d1c471d6-4a64-4769-ade8-2ab36899156a\")) {                    Plotly.newPlot(                        \"d1c471d6-4a64-4769-ade8-2ab36899156a\",                        [{\"marker\": {\"color\": \"rgba(55, 128, 191, 0.6)\", \"line\": {\"color\": \"rgba(55, 128, 191, 1.0)\", \"width\": 1}}, \"name\": \"city\", \"orientation\": \"v\", \"text\": \"\", \"type\": \"bar\", \"x\": [\"Mumbai\", \"Kolkata\", \"Delhi\", \"Bangalore\", \"Hyderabad\", \"Chennai\", \"Jaipur\", \"Chandigarh\", \"Pune\", \"Durban\", \"Bengaluru\", \"Visakhapatnam\", \"Ahmedabad\", \"Centurion\", \"Rajkot\"], \"y\": [101, 77, 74, 66, 64, 57, 47, 46, 38, 15, 14, 13, 12, 12, 10]}],                        {\"legend\": {\"bgcolor\": \"#F5F6F9\", \"font\": {\"color\": \"#4D5663\"}}, \"paper_bgcolor\": \"#F5F6F9\", \"plot_bgcolor\": \"#F5F6F9\", \"template\": {\"data\": {\"bar\": [{\"error_x\": {\"color\": \"#2a3f5f\"}, \"error_y\": {\"color\": \"#2a3f5f\"}, \"marker\": {\"line\": {\"color\": \"#E5ECF6\", \"width\": 0.5}}, \"type\": \"bar\"}], \"barpolar\": [{\"marker\": {\"line\": {\"color\": \"#E5ECF6\", \"width\": 0.5}}, \"type\": \"barpolar\"}], \"carpet\": [{\"aaxis\": {\"endlinecolor\": \"#2a3f5f\", \"gridcolor\": \"white\", \"linecolor\": \"white\", \"minorgridcolor\": \"white\", \"startlinecolor\": \"#2a3f5f\"}, \"baxis\": {\"endlinecolor\": \"#2a3f5f\", \"gridcolor\": \"white\", \"linecolor\": \"white\", \"minorgridcolor\": \"white\", \"startlinecolor\": \"#2a3f5f\"}, \"type\": \"carpet\"}], \"choropleth\": [{\"colorbar\": {\"outlinewidth\": 0, \"ticks\": \"\"}, \"type\": \"choropleth\"}], \"contour\": [{\"colorbar\": {\"outlinewidth\": 0, \"ticks\": \"\"}, \"colorscale\": [[0.0, \"#0d0887\"], [0.1111111111111111, \"#46039f\"], [0.2222222222222222, \"#7201a8\"], [0.3333333333333333, \"#9c179e\"], [0.4444444444444444, \"#bd3786\"], [0.5555555555555556, \"#d8576b\"], [0.6666666666666666, \"#ed7953\"], [0.7777777777777778, \"#fb9f3a\"], [0.8888888888888888, \"#fdca26\"], [1.0, \"#f0f921\"]], \"type\": \"contour\"}], \"contourcarpet\": [{\"colorbar\": {\"outlinewidth\": 0, \"ticks\": \"\"}, \"type\": \"contourcarpet\"}], \"heatmap\": [{\"colorbar\": {\"outlinewidth\": 0, \"ticks\": \"\"}, \"colorscale\": [[0.0, \"#0d0887\"], [0.1111111111111111, \"#46039f\"], [0.2222222222222222, \"#7201a8\"], [0.3333333333333333, \"#9c179e\"], [0.4444444444444444, \"#bd3786\"], [0.5555555555555556, \"#d8576b\"], [0.6666666666666666, \"#ed7953\"], [0.7777777777777778, \"#fb9f3a\"], [0.8888888888888888, \"#fdca26\"], [1.0, \"#f0f921\"]], \"type\": \"heatmap\"}], \"heatmapgl\": [{\"colorbar\": {\"outlinewidth\": 0, \"ticks\": \"\"}, \"colorscale\": [[0.0, \"#0d0887\"], [0.1111111111111111, \"#46039f\"], [0.2222222222222222, \"#7201a8\"], [0.3333333333333333, \"#9c179e\"], [0.4444444444444444, \"#bd3786\"], [0.5555555555555556, \"#d8576b\"], [0.6666666666666666, \"#ed7953\"], [0.7777777777777778, \"#fb9f3a\"], [0.8888888888888888, \"#fdca26\"], [1.0, \"#f0f921\"]], \"type\": \"heatmapgl\"}], \"histogram\": [{\"marker\": {\"colorbar\": {\"outlinewidth\": 0, \"ticks\": \"\"}}, \"type\": \"histogram\"}], \"histogram2d\": [{\"colorbar\": {\"outlinewidth\": 0, \"ticks\": \"\"}, \"colorscale\": [[0.0, \"#0d0887\"], [0.1111111111111111, \"#46039f\"], [0.2222222222222222, \"#7201a8\"], [0.3333333333333333, \"#9c179e\"], [0.4444444444444444, \"#bd3786\"], [0.5555555555555556, \"#d8576b\"], [0.6666666666666666, \"#ed7953\"], [0.7777777777777778, \"#fb9f3a\"], [0.8888888888888888, \"#fdca26\"], [1.0, \"#f0f921\"]], \"type\": \"histogram2d\"}], \"histogram2dcontour\": [{\"colorbar\": {\"outlinewidth\": 0, \"ticks\": \"\"}, \"colorscale\": [[0.0, \"#0d0887\"], [0.1111111111111111, \"#46039f\"], [0.2222222222222222, \"#7201a8\"], [0.3333333333333333, \"#9c179e\"], [0.4444444444444444, \"#bd3786\"], [0.5555555555555556, \"#d8576b\"], [0.6666666666666666, \"#ed7953\"], [0.7777777777777778, \"#fb9f3a\"], [0.8888888888888888, \"#fdca26\"], [1.0, \"#f0f921\"]], \"type\": \"histogram2dcontour\"}], \"mesh3d\": [{\"colorbar\": {\"outlinewidth\": 0, \"ticks\": \"\"}, \"type\": \"mesh3d\"}], \"parcoords\": [{\"line\": {\"colorbar\": {\"outlinewidth\": 0, \"ticks\": \"\"}}, \"type\": \"parcoords\"}], \"pie\": [{\"automargin\": true, \"type\": \"pie\"}], \"scatter\": [{\"marker\": {\"colorbar\": {\"outlinewidth\": 0, \"ticks\": \"\"}}, \"type\": \"scatter\"}], \"scatter3d\": [{\"line\": {\"colorbar\": {\"outlinewidth\": 0, \"ticks\": \"\"}}, \"marker\": {\"colorbar\": {\"outlinewidth\": 0, \"ticks\": \"\"}}, \"type\": \"scatter3d\"}], \"scattercarpet\": [{\"marker\": {\"colorbar\": {\"outlinewidth\": 0, \"ticks\": \"\"}}, \"type\": \"scattercarpet\"}], \"scattergeo\": [{\"marker\": {\"colorbar\": {\"outlinewidth\": 0, \"ticks\": \"\"}}, \"type\": \"scattergeo\"}], \"scattergl\": [{\"marker\": {\"colorbar\": {\"outlinewidth\": 0, \"ticks\": \"\"}}, \"type\": \"scattergl\"}], \"scattermapbox\": [{\"marker\": {\"colorbar\": {\"outlinewidth\": 0, \"ticks\": \"\"}}, \"type\": \"scattermapbox\"}], \"scatterpolar\": [{\"marker\": {\"colorbar\": {\"outlinewidth\": 0, \"ticks\": \"\"}}, \"type\": \"scatterpolar\"}], \"scatterpolargl\": [{\"marker\": {\"colorbar\": {\"outlinewidth\": 0, \"ticks\": \"\"}}, \"type\": \"scatterpolargl\"}], \"scatterternary\": [{\"marker\": {\"colorbar\": {\"outlinewidth\": 0, \"ticks\": \"\"}}, \"type\": \"scatterternary\"}], \"surface\": [{\"colorbar\": {\"outlinewidth\": 0, \"ticks\": \"\"}, \"colorscale\": [[0.0, \"#0d0887\"], [0.1111111111111111, \"#46039f\"], [0.2222222222222222, \"#7201a8\"], [0.3333333333333333, \"#9c179e\"], [0.4444444444444444, \"#bd3786\"], [0.5555555555555556, \"#d8576b\"], [0.6666666666666666, \"#ed7953\"], [0.7777777777777778, \"#fb9f3a\"], [0.8888888888888888, \"#fdca26\"], [1.0, \"#f0f921\"]], \"type\": \"surface\"}], \"table\": [{\"cells\": {\"fill\": {\"color\": \"#EBF0F8\"}, \"line\": {\"color\": \"white\"}}, \"header\": {\"fill\": {\"color\": \"#C8D4E3\"}, \"line\": {\"color\": \"white\"}}, \"type\": \"table\"}]}, \"layout\": {\"annotationdefaults\": {\"arrowcolor\": \"#2a3f5f\", \"arrowhead\": 0, \"arrowwidth\": 1}, \"autotypenumbers\": \"strict\", \"coloraxis\": {\"colorbar\": {\"outlinewidth\": 0, \"ticks\": \"\"}}, \"colorscale\": {\"diverging\": [[0, \"#8e0152\"], [0.1, \"#c51b7d\"], [0.2, \"#de77ae\"], [0.3, \"#f1b6da\"], [0.4, \"#fde0ef\"], [0.5, \"#f7f7f7\"], [0.6, \"#e6f5d0\"], [0.7, \"#b8e186\"], [0.8, \"#7fbc41\"], [0.9, \"#4d9221\"], [1, \"#276419\"]], \"sequential\": [[0.0, \"#0d0887\"], [0.1111111111111111, \"#46039f\"], [0.2222222222222222, \"#7201a8\"], [0.3333333333333333, \"#9c179e\"], [0.4444444444444444, \"#bd3786\"], [0.5555555555555556, \"#d8576b\"], [0.6666666666666666, \"#ed7953\"], [0.7777777777777778, \"#fb9f3a\"], [0.8888888888888888, \"#fdca26\"], [1.0, \"#f0f921\"]], \"sequentialminus\": [[0.0, \"#0d0887\"], [0.1111111111111111, \"#46039f\"], [0.2222222222222222, \"#7201a8\"], [0.3333333333333333, \"#9c179e\"], [0.4444444444444444, \"#bd3786\"], [0.5555555555555556, \"#d8576b\"], [0.6666666666666666, \"#ed7953\"], [0.7777777777777778, \"#fb9f3a\"], [0.8888888888888888, \"#fdca26\"], [1.0, \"#f0f921\"]]}, \"colorway\": [\"#636efa\", \"#EF553B\", \"#00cc96\", \"#ab63fa\", \"#FFA15A\", \"#19d3f3\", \"#FF6692\", \"#B6E880\", \"#FF97FF\", \"#FECB52\"], \"font\": {\"color\": \"#2a3f5f\"}, \"geo\": {\"bgcolor\": \"white\", \"lakecolor\": \"white\", \"landcolor\": \"#E5ECF6\", \"showlakes\": true, \"showland\": true, \"subunitcolor\": \"white\"}, \"hoverlabel\": {\"align\": \"left\"}, \"hovermode\": \"closest\", \"mapbox\": {\"style\": \"light\"}, \"paper_bgcolor\": \"white\", \"plot_bgcolor\": \"#E5ECF6\", \"polar\": {\"angularaxis\": {\"gridcolor\": \"white\", \"linecolor\": \"white\", \"ticks\": \"\"}, \"bgcolor\": \"#E5ECF6\", \"radialaxis\": {\"gridcolor\": \"white\", \"linecolor\": \"white\", \"ticks\": \"\"}}, \"scene\": {\"xaxis\": {\"backgroundcolor\": \"#E5ECF6\", \"gridcolor\": \"white\", \"gridwidth\": 2, \"linecolor\": \"white\", \"showbackground\": true, \"ticks\": \"\", \"zerolinecolor\": \"white\"}, \"yaxis\": {\"backgroundcolor\": \"#E5ECF6\", \"gridcolor\": \"white\", \"gridwidth\": 2, \"linecolor\": \"white\", \"showbackground\": true, \"ticks\": \"\", \"zerolinecolor\": \"white\"}, \"zaxis\": {\"backgroundcolor\": \"#E5ECF6\", \"gridcolor\": \"white\", \"gridwidth\": 2, \"linecolor\": \"white\", \"showbackground\": true, \"ticks\": \"\", \"zerolinecolor\": \"white\"}}, \"shapedefaults\": {\"line\": {\"color\": \"#2a3f5f\"}}, \"ternary\": {\"aaxis\": {\"gridcolor\": \"white\", \"linecolor\": \"white\", \"ticks\": \"\"}, \"baxis\": {\"gridcolor\": \"white\", \"linecolor\": \"white\", \"ticks\": \"\"}, \"bgcolor\": \"#E5ECF6\", \"caxis\": {\"gridcolor\": \"white\", \"linecolor\": \"white\", \"ticks\": \"\"}}, \"title\": {\"x\": 0.05}, \"xaxis\": {\"automargin\": true, \"gridcolor\": \"white\", \"linecolor\": \"white\", \"ticks\": \"\", \"title\": {\"standoff\": 15}, \"zerolinecolor\": \"white\", \"zerolinewidth\": 2}, \"yaxis\": {\"automargin\": true, \"gridcolor\": \"white\", \"linecolor\": \"white\", \"ticks\": \"\", \"title\": {\"standoff\": 15}, \"zerolinecolor\": \"white\", \"zerolinewidth\": 2}}}, \"title\": {\"font\": {\"color\": \"#4D5663\"}, \"text\": \"Top 15 Cities where the most number of matches have been played\"}, \"xaxis\": {\"gridcolor\": \"#E1E5ED\", \"showgrid\": true, \"tickfont\": {\"color\": \"#4D5663\"}, \"title\": {\"font\": {\"color\": \"#4D5663\"}, \"text\": \"City\"}, \"zerolinecolor\": \"#E1E5ED\"}, \"yaxis\": {\"gridcolor\": \"#E1E5ED\", \"showgrid\": true, \"tickfont\": {\"color\": \"#4D5663\"}, \"title\": {\"font\": {\"color\": \"#4D5663\"}, \"text\": \"Number of Matches\"}, \"zerolinecolor\": \"#E1E5ED\"}},                        {\"showLink\": true, \"linkText\": \"Export to plot.ly\", \"plotlyServerURL\": \"https://plot.ly\", \"responsive\": true}                    ).then(function(){\n",
       "                            \n",
       "var gd = document.getElementById('d1c471d6-4a64-4769-ade8-2ab36899156a');\n",
       "var x = new MutationObserver(function (mutations, observer) {{\n",
       "        var display = window.getComputedStyle(gd).display;\n",
       "        if (!display || display === 'none') {{\n",
       "            console.log([gd, 'removed!']);\n",
       "            Plotly.purge(gd);\n",
       "            observer.disconnect();\n",
       "        }}\n",
       "}});\n",
       "\n",
       "// Listen for the removal of the full notebook cells\n",
       "var notebookContainer = gd.closest('#notebook-container');\n",
       "if (notebookContainer) {{\n",
       "    x.observe(notebookContainer, {childList: true});\n",
       "}}\n",
       "\n",
       "// Listen for the clearing of the current output cell\n",
       "var outputEl = gd.closest('.output');\n",
       "if (outputEl) {{\n",
       "    x.observe(outputEl, {childList: true});\n",
       "}}\n",
       "\n",
       "                        })                };                });            </script>        </div>"
      ]
     },
     "metadata": {},
     "output_type": "display_data"
    }
   ],
   "source": [
    "Top_cities.iplot(x='index',y='city', kind='bar', xTitle='City', yTitle='Number of Matches',\n",
    "                title='Top 15 Cities where the most number of matches have been played', color='blue')\n"
   ]
  },
  {
   "cell_type": "code",
   "execution_count": 20,
   "id": "regulation-navigation",
   "metadata": {
    "scrolled": false
   },
   "outputs": [
    {
     "data": {
      "image/png": "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\n",
      "text/plain": [
       "<Figure size 648x648 with 1 Axes>"
      ]
     },
     "metadata": {},
     "output_type": "display_data"
    }
   ],
   "source": [
    "plt.figure(figsize=(9,9))\n",
    "plt.pie(Top_cities['city'],labels=Top_cities['index'],autopct='%1.1f%%', startangle=30)\n",
    "plt.axis('equal')\n",
    "plt.title('Top Cities that have hosted IPL Matches',size=20)\n",
    "plt.show()"
   ]
  },
  {
   "cell_type": "markdown",
   "id": "outdoor-wisdom",
   "metadata": {},
   "source": [
    "#### 3.Numbers of matches won by team"
   ]
  },
  {
   "cell_type": "code",
   "execution_count": 21,
   "id": "normal-wrong",
   "metadata": {
    "scrolled": true
   },
   "outputs": [],
   "source": [
    "most_won = df2.winner.value_counts().reset_index()"
   ]
  },
  {
   "cell_type": "code",
   "execution_count": 56,
   "id": "aquatic-message",
   "metadata": {},
   "outputs": [
    {
     "data": {
      "application/vnd.plotly.v1+json": {
       "config": {
        "linkText": "Export to plot.ly",
        "plotlyServerURL": "https://plot.ly",
        "showLink": true
       },
       "data": [
        {
         "marker": {
          "color": "rgba(255, 99, 71, 0.6)",
          "line": {
           "color": "rgba(255, 99, 71, 1.0)",
           "width": 1
          }
         },
         "name": "winner",
         "orientation": "v",
         "text": "",
         "type": "bar",
         "x": [
          "Mumbai Indians",
          "Chennai Super Kings",
          "Kolkata Knight Riders",
          "Royal Challengers Bangalore",
          "Kings XI Punjab",
          "Rajasthan Royals",
          "Delhi Daredevils",
          "Sunrisers Hyderabad",
          "Deccan Chargers",
          "Rising Pune Supergiant",
          "Gujarat Lions",
          "Pune Warriors",
          "Delhi Capitals",
          "Kochi Tuskers Kerala"
         ],
         "y": [
          109,
          100,
          92,
          84,
          82,
          75,
          67,
          58,
          29,
          15,
          13,
          12,
          10,
          6
         ]
        }
       ],
       "layout": {
        "legend": {
         "bgcolor": "#F5F6F9",
         "font": {
          "color": "#4D5663"
         }
        },
        "paper_bgcolor": "#F5F6F9",
        "plot_bgcolor": "#F5F6F9",
        "template": {
         "data": {
          "bar": [
           {
            "error_x": {
             "color": "#2a3f5f"
            },
            "error_y": {
             "color": "#2a3f5f"
            },
            "marker": {
             "line": {
              "color": "#E5ECF6",
              "width": 0.5
             }
            },
            "type": "bar"
           }
          ],
          "barpolar": [
           {
            "marker": {
             "line": {
              "color": "#E5ECF6",
              "width": 0.5
             }
            },
            "type": "barpolar"
           }
          ],
          "carpet": [
           {
            "aaxis": {
             "endlinecolor": "#2a3f5f",
             "gridcolor": "white",
             "linecolor": "white",
             "minorgridcolor": "white",
             "startlinecolor": "#2a3f5f"
            },
            "baxis": {
             "endlinecolor": "#2a3f5f",
             "gridcolor": "white",
             "linecolor": "white",
             "minorgridcolor": "white",
             "startlinecolor": "#2a3f5f"
            },
            "type": "carpet"
           }
          ],
          "choropleth": [
           {
            "colorbar": {
             "outlinewidth": 0,
             "ticks": ""
            },
            "type": "choropleth"
           }
          ],
          "contour": [
           {
            "colorbar": {
             "outlinewidth": 0,
             "ticks": ""
            },
            "colorscale": [
             [
              0,
              "#0d0887"
             ],
             [
              0.1111111111111111,
              "#46039f"
             ],
             [
              0.2222222222222222,
              "#7201a8"
             ],
             [
              0.3333333333333333,
              "#9c179e"
             ],
             [
              0.4444444444444444,
              "#bd3786"
             ],
             [
              0.5555555555555556,
              "#d8576b"
             ],
             [
              0.6666666666666666,
              "#ed7953"
             ],
             [
              0.7777777777777778,
              "#fb9f3a"
             ],
             [
              0.8888888888888888,
              "#fdca26"
             ],
             [
              1,
              "#f0f921"
             ]
            ],
            "type": "contour"
           }
          ],
          "contourcarpet": [
           {
            "colorbar": {
             "outlinewidth": 0,
             "ticks": ""
            },
            "type": "contourcarpet"
           }
          ],
          "heatmap": [
           {
            "colorbar": {
             "outlinewidth": 0,
             "ticks": ""
            },
            "colorscale": [
             [
              0,
              "#0d0887"
             ],
             [
              0.1111111111111111,
              "#46039f"
             ],
             [
              0.2222222222222222,
              "#7201a8"
             ],
             [
              0.3333333333333333,
              "#9c179e"
             ],
             [
              0.4444444444444444,
              "#bd3786"
             ],
             [
              0.5555555555555556,
              "#d8576b"
             ],
             [
              0.6666666666666666,
              "#ed7953"
             ],
             [
              0.7777777777777778,
              "#fb9f3a"
             ],
             [
              0.8888888888888888,
              "#fdca26"
             ],
             [
              1,
              "#f0f921"
             ]
            ],
            "type": "heatmap"
           }
          ],
          "heatmapgl": [
           {
            "colorbar": {
             "outlinewidth": 0,
             "ticks": ""
            },
            "colorscale": [
             [
              0,
              "#0d0887"
             ],
             [
              0.1111111111111111,
              "#46039f"
             ],
             [
              0.2222222222222222,
              "#7201a8"
             ],
             [
              0.3333333333333333,
              "#9c179e"
             ],
             [
              0.4444444444444444,
              "#bd3786"
             ],
             [
              0.5555555555555556,
              "#d8576b"
             ],
             [
              0.6666666666666666,
              "#ed7953"
             ],
             [
              0.7777777777777778,
              "#fb9f3a"
             ],
             [
              0.8888888888888888,
              "#fdca26"
             ],
             [
              1,
              "#f0f921"
             ]
            ],
            "type": "heatmapgl"
           }
          ],
          "histogram": [
           {
            "marker": {
             "colorbar": {
              "outlinewidth": 0,
              "ticks": ""
             }
            },
            "type": "histogram"
           }
          ],
          "histogram2d": [
           {
            "colorbar": {
             "outlinewidth": 0,
             "ticks": ""
            },
            "colorscale": [
             [
              0,
              "#0d0887"
             ],
             [
              0.1111111111111111,
              "#46039f"
             ],
             [
              0.2222222222222222,
              "#7201a8"
             ],
             [
              0.3333333333333333,
              "#9c179e"
             ],
             [
              0.4444444444444444,
              "#bd3786"
             ],
             [
              0.5555555555555556,
              "#d8576b"
             ],
             [
              0.6666666666666666,
              "#ed7953"
             ],
             [
              0.7777777777777778,
              "#fb9f3a"
             ],
             [
              0.8888888888888888,
              "#fdca26"
             ],
             [
              1,
              "#f0f921"
             ]
            ],
            "type": "histogram2d"
           }
          ],
          "histogram2dcontour": [
           {
            "colorbar": {
             "outlinewidth": 0,
             "ticks": ""
            },
            "colorscale": [
             [
              0,
              "#0d0887"
             ],
             [
              0.1111111111111111,
              "#46039f"
             ],
             [
              0.2222222222222222,
              "#7201a8"
             ],
             [
              0.3333333333333333,
              "#9c179e"
             ],
             [
              0.4444444444444444,
              "#bd3786"
             ],
             [
              0.5555555555555556,
              "#d8576b"
             ],
             [
              0.6666666666666666,
              "#ed7953"
             ],
             [
              0.7777777777777778,
              "#fb9f3a"
             ],
             [
              0.8888888888888888,
              "#fdca26"
             ],
             [
              1,
              "#f0f921"
             ]
            ],
            "type": "histogram2dcontour"
           }
          ],
          "mesh3d": [
           {
            "colorbar": {
             "outlinewidth": 0,
             "ticks": ""
            },
            "type": "mesh3d"
           }
          ],
          "parcoords": [
           {
            "line": {
             "colorbar": {
              "outlinewidth": 0,
              "ticks": ""
             }
            },
            "type": "parcoords"
           }
          ],
          "pie": [
           {
            "automargin": true,
            "type": "pie"
           }
          ],
          "scatter": [
           {
            "marker": {
             "colorbar": {
              "outlinewidth": 0,
              "ticks": ""
             }
            },
            "type": "scatter"
           }
          ],
          "scatter3d": [
           {
            "line": {
             "colorbar": {
              "outlinewidth": 0,
              "ticks": ""
             }
            },
            "marker": {
             "colorbar": {
              "outlinewidth": 0,
              "ticks": ""
             }
            },
            "type": "scatter3d"
           }
          ],
          "scattercarpet": [
           {
            "marker": {
             "colorbar": {
              "outlinewidth": 0,
              "ticks": ""
             }
            },
            "type": "scattercarpet"
           }
          ],
          "scattergeo": [
           {
            "marker": {
             "colorbar": {
              "outlinewidth": 0,
              "ticks": ""
             }
            },
            "type": "scattergeo"
           }
          ],
          "scattergl": [
           {
            "marker": {
             "colorbar": {
              "outlinewidth": 0,
              "ticks": ""
             }
            },
            "type": "scattergl"
           }
          ],
          "scattermapbox": [
           {
            "marker": {
             "colorbar": {
              "outlinewidth": 0,
              "ticks": ""
             }
            },
            "type": "scattermapbox"
           }
          ],
          "scatterpolar": [
           {
            "marker": {
             "colorbar": {
              "outlinewidth": 0,
              "ticks": ""
             }
            },
            "type": "scatterpolar"
           }
          ],
          "scatterpolargl": [
           {
            "marker": {
             "colorbar": {
              "outlinewidth": 0,
              "ticks": ""
             }
            },
            "type": "scatterpolargl"
           }
          ],
          "scatterternary": [
           {
            "marker": {
             "colorbar": {
              "outlinewidth": 0,
              "ticks": ""
             }
            },
            "type": "scatterternary"
           }
          ],
          "surface": [
           {
            "colorbar": {
             "outlinewidth": 0,
             "ticks": ""
            },
            "colorscale": [
             [
              0,
              "#0d0887"
             ],
             [
              0.1111111111111111,
              "#46039f"
             ],
             [
              0.2222222222222222,
              "#7201a8"
             ],
             [
              0.3333333333333333,
              "#9c179e"
             ],
             [
              0.4444444444444444,
              "#bd3786"
             ],
             [
              0.5555555555555556,
              "#d8576b"
             ],
             [
              0.6666666666666666,
              "#ed7953"
             ],
             [
              0.7777777777777778,
              "#fb9f3a"
             ],
             [
              0.8888888888888888,
              "#fdca26"
             ],
             [
              1,
              "#f0f921"
             ]
            ],
            "type": "surface"
           }
          ],
          "table": [
           {
            "cells": {
             "fill": {
              "color": "#EBF0F8"
             },
             "line": {
              "color": "white"
             }
            },
            "header": {
             "fill": {
              "color": "#C8D4E3"
             },
             "line": {
              "color": "white"
             }
            },
            "type": "table"
           }
          ]
         },
         "layout": {
          "annotationdefaults": {
           "arrowcolor": "#2a3f5f",
           "arrowhead": 0,
           "arrowwidth": 1
          },
          "autotypenumbers": "strict",
          "coloraxis": {
           "colorbar": {
            "outlinewidth": 0,
            "ticks": ""
           }
          },
          "colorscale": {
           "diverging": [
            [
             0,
             "#8e0152"
            ],
            [
             0.1,
             "#c51b7d"
            ],
            [
             0.2,
             "#de77ae"
            ],
            [
             0.3,
             "#f1b6da"
            ],
            [
             0.4,
             "#fde0ef"
            ],
            [
             0.5,
             "#f7f7f7"
            ],
            [
             0.6,
             "#e6f5d0"
            ],
            [
             0.7,
             "#b8e186"
            ],
            [
             0.8,
             "#7fbc41"
            ],
            [
             0.9,
             "#4d9221"
            ],
            [
             1,
             "#276419"
            ]
           ],
           "sequential": [
            [
             0,
             "#0d0887"
            ],
            [
             0.1111111111111111,
             "#46039f"
            ],
            [
             0.2222222222222222,
             "#7201a8"
            ],
            [
             0.3333333333333333,
             "#9c179e"
            ],
            [
             0.4444444444444444,
             "#bd3786"
            ],
            [
             0.5555555555555556,
             "#d8576b"
            ],
            [
             0.6666666666666666,
             "#ed7953"
            ],
            [
             0.7777777777777778,
             "#fb9f3a"
            ],
            [
             0.8888888888888888,
             "#fdca26"
            ],
            [
             1,
             "#f0f921"
            ]
           ],
           "sequentialminus": [
            [
             0,
             "#0d0887"
            ],
            [
             0.1111111111111111,
             "#46039f"
            ],
            [
             0.2222222222222222,
             "#7201a8"
            ],
            [
             0.3333333333333333,
             "#9c179e"
            ],
            [
             0.4444444444444444,
             "#bd3786"
            ],
            [
             0.5555555555555556,
             "#d8576b"
            ],
            [
             0.6666666666666666,
             "#ed7953"
            ],
            [
             0.7777777777777778,
             "#fb9f3a"
            ],
            [
             0.8888888888888888,
             "#fdca26"
            ],
            [
             1,
             "#f0f921"
            ]
           ]
          },
          "colorway": [
           "#636efa",
           "#EF553B",
           "#00cc96",
           "#ab63fa",
           "#FFA15A",
           "#19d3f3",
           "#FF6692",
           "#B6E880",
           "#FF97FF",
           "#FECB52"
          ],
          "font": {
           "color": "#2a3f5f"
          },
          "geo": {
           "bgcolor": "white",
           "lakecolor": "white",
           "landcolor": "#E5ECF6",
           "showlakes": true,
           "showland": true,
           "subunitcolor": "white"
          },
          "hoverlabel": {
           "align": "left"
          },
          "hovermode": "closest",
          "mapbox": {
           "style": "light"
          },
          "paper_bgcolor": "white",
          "plot_bgcolor": "#E5ECF6",
          "polar": {
           "angularaxis": {
            "gridcolor": "white",
            "linecolor": "white",
            "ticks": ""
           },
           "bgcolor": "#E5ECF6",
           "radialaxis": {
            "gridcolor": "white",
            "linecolor": "white",
            "ticks": ""
           }
          },
          "scene": {
           "xaxis": {
            "backgroundcolor": "#E5ECF6",
            "gridcolor": "white",
            "gridwidth": 2,
            "linecolor": "white",
            "showbackground": true,
            "ticks": "",
            "zerolinecolor": "white"
           },
           "yaxis": {
            "backgroundcolor": "#E5ECF6",
            "gridcolor": "white",
            "gridwidth": 2,
            "linecolor": "white",
            "showbackground": true,
            "ticks": "",
            "zerolinecolor": "white"
           },
           "zaxis": {
            "backgroundcolor": "#E5ECF6",
            "gridcolor": "white",
            "gridwidth": 2,
            "linecolor": "white",
            "showbackground": true,
            "ticks": "",
            "zerolinecolor": "white"
           }
          },
          "shapedefaults": {
           "line": {
            "color": "#2a3f5f"
           }
          },
          "ternary": {
           "aaxis": {
            "gridcolor": "white",
            "linecolor": "white",
            "ticks": ""
           },
           "baxis": {
            "gridcolor": "white",
            "linecolor": "white",
            "ticks": ""
           },
           "bgcolor": "#E5ECF6",
           "caxis": {
            "gridcolor": "white",
            "linecolor": "white",
            "ticks": ""
           }
          },
          "title": {
           "x": 0.05
          },
          "xaxis": {
           "automargin": true,
           "gridcolor": "white",
           "linecolor": "white",
           "ticks": "",
           "title": {
            "standoff": 15
           },
           "zerolinecolor": "white",
           "zerolinewidth": 2
          },
          "yaxis": {
           "automargin": true,
           "gridcolor": "white",
           "linecolor": "white",
           "ticks": "",
           "title": {
            "standoff": 15
           },
           "zerolinecolor": "white",
           "zerolinewidth": 2
          }
         }
        },
        "title": {
         "font": {
          "color": "#4D5663"
         },
         "text": "Numbers of matches won by team"
        },
        "xaxis": {
         "gridcolor": "#E1E5ED",
         "showgrid": true,
         "tickfont": {
          "color": "#4D5663"
         },
         "title": {
          "font": {
           "color": "#4D5663"
          },
          "text": "Team"
         },
         "zerolinecolor": "#E1E5ED"
        },
        "yaxis": {
         "gridcolor": "#E1E5ED",
         "showgrid": true,
         "tickfont": {
          "color": "#4D5663"
         },
         "title": {
          "font": {
           "color": "#4D5663"
          },
          "text": "Number of matches"
         },
         "zerolinecolor": "#E1E5ED"
        }
       }
      },
      "text/html": [
       "<div>                            <div id=\"d9414dca-caa2-4298-a1f3-6c17ba800de1\" class=\"plotly-graph-div\" style=\"height:525px; width:100%;\"></div>            <script type=\"text/javascript\">                require([\"plotly\"], function(Plotly) {                    window.PLOTLYENV=window.PLOTLYENV || {};\n",
       "                    window.PLOTLYENV.BASE_URL='https://plot.ly';                                    if (document.getElementById(\"d9414dca-caa2-4298-a1f3-6c17ba800de1\")) {                    Plotly.newPlot(                        \"d9414dca-caa2-4298-a1f3-6c17ba800de1\",                        [{\"marker\": {\"color\": \"rgba(255, 99, 71, 0.6)\", \"line\": {\"color\": \"rgba(255, 99, 71, 1.0)\", \"width\": 1}}, \"name\": \"winner\", \"orientation\": \"v\", \"text\": \"\", \"type\": \"bar\", \"x\": [\"Mumbai Indians\", \"Chennai Super Kings\", \"Kolkata Knight Riders\", \"Royal Challengers Bangalore\", \"Kings XI Punjab\", \"Rajasthan Royals\", \"Delhi Daredevils\", \"Sunrisers Hyderabad\", \"Deccan Chargers\", \"Rising Pune Supergiant\", \"Gujarat Lions\", \"Pune Warriors\", \"Delhi Capitals\", \"Kochi Tuskers Kerala\"], \"y\": [109, 100, 92, 84, 82, 75, 67, 58, 29, 15, 13, 12, 10, 6]}],                        {\"legend\": {\"bgcolor\": \"#F5F6F9\", \"font\": {\"color\": \"#4D5663\"}}, \"paper_bgcolor\": \"#F5F6F9\", \"plot_bgcolor\": \"#F5F6F9\", \"template\": {\"data\": {\"bar\": [{\"error_x\": {\"color\": \"#2a3f5f\"}, \"error_y\": {\"color\": \"#2a3f5f\"}, \"marker\": {\"line\": {\"color\": \"#E5ECF6\", \"width\": 0.5}}, \"type\": \"bar\"}], \"barpolar\": [{\"marker\": {\"line\": {\"color\": \"#E5ECF6\", \"width\": 0.5}}, \"type\": \"barpolar\"}], \"carpet\": [{\"aaxis\": {\"endlinecolor\": \"#2a3f5f\", \"gridcolor\": \"white\", \"linecolor\": \"white\", \"minorgridcolor\": \"white\", \"startlinecolor\": \"#2a3f5f\"}, \"baxis\": {\"endlinecolor\": \"#2a3f5f\", \"gridcolor\": \"white\", \"linecolor\": \"white\", \"minorgridcolor\": \"white\", \"startlinecolor\": \"#2a3f5f\"}, \"type\": \"carpet\"}], \"choropleth\": [{\"colorbar\": {\"outlinewidth\": 0, \"ticks\": \"\"}, \"type\": \"choropleth\"}], \"contour\": [{\"colorbar\": {\"outlinewidth\": 0, \"ticks\": \"\"}, \"colorscale\": [[0.0, \"#0d0887\"], [0.1111111111111111, \"#46039f\"], [0.2222222222222222, \"#7201a8\"], [0.3333333333333333, \"#9c179e\"], [0.4444444444444444, \"#bd3786\"], [0.5555555555555556, \"#d8576b\"], [0.6666666666666666, \"#ed7953\"], [0.7777777777777778, \"#fb9f3a\"], [0.8888888888888888, \"#fdca26\"], [1.0, \"#f0f921\"]], \"type\": \"contour\"}], \"contourcarpet\": [{\"colorbar\": {\"outlinewidth\": 0, \"ticks\": \"\"}, \"type\": \"contourcarpet\"}], \"heatmap\": [{\"colorbar\": {\"outlinewidth\": 0, \"ticks\": \"\"}, \"colorscale\": [[0.0, \"#0d0887\"], [0.1111111111111111, \"#46039f\"], [0.2222222222222222, \"#7201a8\"], [0.3333333333333333, \"#9c179e\"], [0.4444444444444444, \"#bd3786\"], [0.5555555555555556, \"#d8576b\"], [0.6666666666666666, \"#ed7953\"], [0.7777777777777778, \"#fb9f3a\"], [0.8888888888888888, \"#fdca26\"], [1.0, \"#f0f921\"]], \"type\": \"heatmap\"}], \"heatmapgl\": [{\"colorbar\": {\"outlinewidth\": 0, \"ticks\": \"\"}, \"colorscale\": [[0.0, \"#0d0887\"], [0.1111111111111111, \"#46039f\"], [0.2222222222222222, \"#7201a8\"], [0.3333333333333333, \"#9c179e\"], [0.4444444444444444, \"#bd3786\"], [0.5555555555555556, \"#d8576b\"], [0.6666666666666666, \"#ed7953\"], [0.7777777777777778, \"#fb9f3a\"], [0.8888888888888888, \"#fdca26\"], [1.0, \"#f0f921\"]], \"type\": \"heatmapgl\"}], \"histogram\": [{\"marker\": {\"colorbar\": {\"outlinewidth\": 0, \"ticks\": \"\"}}, \"type\": \"histogram\"}], \"histogram2d\": [{\"colorbar\": {\"outlinewidth\": 0, \"ticks\": \"\"}, \"colorscale\": [[0.0, \"#0d0887\"], [0.1111111111111111, \"#46039f\"], [0.2222222222222222, \"#7201a8\"], [0.3333333333333333, \"#9c179e\"], [0.4444444444444444, \"#bd3786\"], [0.5555555555555556, \"#d8576b\"], [0.6666666666666666, \"#ed7953\"], [0.7777777777777778, \"#fb9f3a\"], [0.8888888888888888, \"#fdca26\"], [1.0, \"#f0f921\"]], \"type\": \"histogram2d\"}], \"histogram2dcontour\": [{\"colorbar\": {\"outlinewidth\": 0, \"ticks\": \"\"}, \"colorscale\": [[0.0, \"#0d0887\"], [0.1111111111111111, \"#46039f\"], [0.2222222222222222, \"#7201a8\"], [0.3333333333333333, \"#9c179e\"], [0.4444444444444444, \"#bd3786\"], [0.5555555555555556, \"#d8576b\"], [0.6666666666666666, \"#ed7953\"], [0.7777777777777778, \"#fb9f3a\"], [0.8888888888888888, \"#fdca26\"], [1.0, \"#f0f921\"]], \"type\": \"histogram2dcontour\"}], \"mesh3d\": [{\"colorbar\": {\"outlinewidth\": 0, \"ticks\": \"\"}, \"type\": \"mesh3d\"}], \"parcoords\": [{\"line\": {\"colorbar\": {\"outlinewidth\": 0, \"ticks\": \"\"}}, \"type\": \"parcoords\"}], \"pie\": [{\"automargin\": true, \"type\": \"pie\"}], \"scatter\": [{\"marker\": {\"colorbar\": {\"outlinewidth\": 0, \"ticks\": \"\"}}, \"type\": \"scatter\"}], \"scatter3d\": [{\"line\": {\"colorbar\": {\"outlinewidth\": 0, \"ticks\": \"\"}}, \"marker\": {\"colorbar\": {\"outlinewidth\": 0, \"ticks\": \"\"}}, \"type\": \"scatter3d\"}], \"scattercarpet\": [{\"marker\": {\"colorbar\": {\"outlinewidth\": 0, \"ticks\": \"\"}}, \"type\": \"scattercarpet\"}], \"scattergeo\": [{\"marker\": {\"colorbar\": {\"outlinewidth\": 0, \"ticks\": \"\"}}, \"type\": \"scattergeo\"}], \"scattergl\": [{\"marker\": {\"colorbar\": {\"outlinewidth\": 0, \"ticks\": \"\"}}, \"type\": \"scattergl\"}], \"scattermapbox\": [{\"marker\": {\"colorbar\": {\"outlinewidth\": 0, \"ticks\": \"\"}}, \"type\": \"scattermapbox\"}], \"scatterpolar\": [{\"marker\": {\"colorbar\": {\"outlinewidth\": 0, \"ticks\": \"\"}}, \"type\": \"scatterpolar\"}], \"scatterpolargl\": [{\"marker\": {\"colorbar\": {\"outlinewidth\": 0, \"ticks\": \"\"}}, \"type\": \"scatterpolargl\"}], \"scatterternary\": [{\"marker\": {\"colorbar\": {\"outlinewidth\": 0, \"ticks\": \"\"}}, \"type\": \"scatterternary\"}], \"surface\": [{\"colorbar\": {\"outlinewidth\": 0, \"ticks\": \"\"}, \"colorscale\": [[0.0, \"#0d0887\"], [0.1111111111111111, \"#46039f\"], [0.2222222222222222, \"#7201a8\"], [0.3333333333333333, \"#9c179e\"], [0.4444444444444444, \"#bd3786\"], [0.5555555555555556, \"#d8576b\"], [0.6666666666666666, \"#ed7953\"], [0.7777777777777778, \"#fb9f3a\"], [0.8888888888888888, \"#fdca26\"], [1.0, \"#f0f921\"]], \"type\": \"surface\"}], \"table\": [{\"cells\": {\"fill\": {\"color\": \"#EBF0F8\"}, \"line\": {\"color\": \"white\"}}, \"header\": {\"fill\": {\"color\": \"#C8D4E3\"}, \"line\": {\"color\": \"white\"}}, \"type\": \"table\"}]}, \"layout\": {\"annotationdefaults\": {\"arrowcolor\": \"#2a3f5f\", \"arrowhead\": 0, \"arrowwidth\": 1}, \"autotypenumbers\": \"strict\", \"coloraxis\": {\"colorbar\": {\"outlinewidth\": 0, \"ticks\": \"\"}}, \"colorscale\": {\"diverging\": [[0, \"#8e0152\"], [0.1, \"#c51b7d\"], [0.2, \"#de77ae\"], [0.3, \"#f1b6da\"], [0.4, \"#fde0ef\"], [0.5, \"#f7f7f7\"], [0.6, \"#e6f5d0\"], [0.7, \"#b8e186\"], [0.8, \"#7fbc41\"], [0.9, \"#4d9221\"], [1, \"#276419\"]], \"sequential\": [[0.0, \"#0d0887\"], [0.1111111111111111, \"#46039f\"], [0.2222222222222222, \"#7201a8\"], [0.3333333333333333, \"#9c179e\"], [0.4444444444444444, \"#bd3786\"], [0.5555555555555556, \"#d8576b\"], [0.6666666666666666, \"#ed7953\"], [0.7777777777777778, \"#fb9f3a\"], [0.8888888888888888, \"#fdca26\"], [1.0, \"#f0f921\"]], \"sequentialminus\": [[0.0, \"#0d0887\"], [0.1111111111111111, \"#46039f\"], [0.2222222222222222, \"#7201a8\"], [0.3333333333333333, \"#9c179e\"], [0.4444444444444444, \"#bd3786\"], [0.5555555555555556, \"#d8576b\"], [0.6666666666666666, \"#ed7953\"], [0.7777777777777778, \"#fb9f3a\"], [0.8888888888888888, \"#fdca26\"], [1.0, \"#f0f921\"]]}, \"colorway\": [\"#636efa\", \"#EF553B\", \"#00cc96\", \"#ab63fa\", \"#FFA15A\", \"#19d3f3\", \"#FF6692\", \"#B6E880\", \"#FF97FF\", \"#FECB52\"], \"font\": {\"color\": \"#2a3f5f\"}, \"geo\": {\"bgcolor\": \"white\", \"lakecolor\": \"white\", \"landcolor\": \"#E5ECF6\", \"showlakes\": true, \"showland\": true, \"subunitcolor\": \"white\"}, \"hoverlabel\": {\"align\": \"left\"}, \"hovermode\": \"closest\", \"mapbox\": {\"style\": \"light\"}, \"paper_bgcolor\": \"white\", \"plot_bgcolor\": \"#E5ECF6\", \"polar\": {\"angularaxis\": {\"gridcolor\": \"white\", \"linecolor\": \"white\", \"ticks\": \"\"}, \"bgcolor\": \"#E5ECF6\", \"radialaxis\": {\"gridcolor\": \"white\", \"linecolor\": \"white\", \"ticks\": \"\"}}, \"scene\": {\"xaxis\": {\"backgroundcolor\": \"#E5ECF6\", \"gridcolor\": \"white\", \"gridwidth\": 2, \"linecolor\": \"white\", \"showbackground\": true, \"ticks\": \"\", \"zerolinecolor\": \"white\"}, \"yaxis\": {\"backgroundcolor\": \"#E5ECF6\", \"gridcolor\": \"white\", \"gridwidth\": 2, \"linecolor\": \"white\", \"showbackground\": true, \"ticks\": \"\", \"zerolinecolor\": \"white\"}, \"zaxis\": {\"backgroundcolor\": \"#E5ECF6\", \"gridcolor\": \"white\", \"gridwidth\": 2, \"linecolor\": \"white\", \"showbackground\": true, \"ticks\": \"\", \"zerolinecolor\": \"white\"}}, \"shapedefaults\": {\"line\": {\"color\": \"#2a3f5f\"}}, \"ternary\": {\"aaxis\": {\"gridcolor\": \"white\", \"linecolor\": \"white\", \"ticks\": \"\"}, \"baxis\": {\"gridcolor\": \"white\", \"linecolor\": \"white\", \"ticks\": \"\"}, \"bgcolor\": \"#E5ECF6\", \"caxis\": {\"gridcolor\": \"white\", \"linecolor\": \"white\", \"ticks\": \"\"}}, \"title\": {\"x\": 0.05}, \"xaxis\": {\"automargin\": true, \"gridcolor\": \"white\", \"linecolor\": \"white\", \"ticks\": \"\", \"title\": {\"standoff\": 15}, \"zerolinecolor\": \"white\", \"zerolinewidth\": 2}, \"yaxis\": {\"automargin\": true, \"gridcolor\": \"white\", \"linecolor\": \"white\", \"ticks\": \"\", \"title\": {\"standoff\": 15}, \"zerolinecolor\": \"white\", \"zerolinewidth\": 2}}}, \"title\": {\"font\": {\"color\": \"#4D5663\"}, \"text\": \"Numbers of matches won by team\"}, \"xaxis\": {\"gridcolor\": \"#E1E5ED\", \"showgrid\": true, \"tickfont\": {\"color\": \"#4D5663\"}, \"title\": {\"font\": {\"color\": \"#4D5663\"}, \"text\": \"Team\"}, \"zerolinecolor\": \"#E1E5ED\"}, \"yaxis\": {\"gridcolor\": \"#E1E5ED\", \"showgrid\": true, \"tickfont\": {\"color\": \"#4D5663\"}, \"title\": {\"font\": {\"color\": \"#4D5663\"}, \"text\": \"Number of matches\"}, \"zerolinecolor\": \"#E1E5ED\"}},                        {\"showLink\": true, \"linkText\": \"Export to plot.ly\", \"plotlyServerURL\": \"https://plot.ly\", \"responsive\": true}                    ).then(function(){\n",
       "                            \n",
       "var gd = document.getElementById('d9414dca-caa2-4298-a1f3-6c17ba800de1');\n",
       "var x = new MutationObserver(function (mutations, observer) {{\n",
       "        var display = window.getComputedStyle(gd).display;\n",
       "        if (!display || display === 'none') {{\n",
       "            console.log([gd, 'removed!']);\n",
       "            Plotly.purge(gd);\n",
       "            observer.disconnect();\n",
       "        }}\n",
       "}});\n",
       "\n",
       "// Listen for the removal of the full notebook cells\n",
       "var notebookContainer = gd.closest('#notebook-container');\n",
       "if (notebookContainer) {{\n",
       "    x.observe(notebookContainer, {childList: true});\n",
       "}}\n",
       "\n",
       "// Listen for the clearing of the current output cell\n",
       "var outputEl = gd.closest('.output');\n",
       "if (outputEl) {{\n",
       "    x.observe(outputEl, {childList: true});\n",
       "}}\n",
       "\n",
       "                        })                };                });            </script>        </div>"
      ]
     },
     "metadata": {},
     "output_type": "display_data"
    }
   ],
   "source": [
    "most_won.iplot(kind='bar',x='index', y='winner',\n",
    "              color='tomato',xTitle='Team',yTitle= 'Number of matches', title='Numbers of matches won by team')"
   ]
  },
  {
   "cell_type": "markdown",
   "id": "proud-leonard",
   "metadata": {},
   "source": [
    "#### 4.Team winning the toss and going for the win"
   ]
  },
  {
   "cell_type": "code",
   "execution_count": 23,
   "id": "compound-masters",
   "metadata": {},
   "outputs": [
    {
     "data": {
      "image/png": "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\n",
      "text/plain": [
       "<Figure size 864x720 with 1 Axes>"
      ]
     },
     "metadata": {},
     "output_type": "display_data"
    }
   ],
   "source": [
    "toss_and_match = df2[df2['toss_winner']==df2['winner']]\n",
    "plt.figure(figsize=(12,10))\n",
    "plt.xticks(rotation =90)\n",
    "plt.title('Team winning the toss and going for the win')\n",
    "sns.barplot(x=toss_and_match.winner.value_counts().index, y = toss_and_match.winner.value_counts().values)\n",
    "plt.show()"
   ]
  },
  {
   "cell_type": "markdown",
   "id": "painful-musician",
   "metadata": {},
   "source": [
    "#### Team who has been won the Toss and Match  (Toss Decisions taken)"
   ]
  },
  {
   "cell_type": "code",
   "execution_count": 57,
   "id": "choice-heath",
   "metadata": {},
   "outputs": [
    {
     "data": {
      "image/png": "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\n",
      "text/plain": [
       "<Figure size 1080x720 with 1 Axes>"
      ]
     },
     "metadata": {},
     "output_type": "display_data"
    }
   ],
   "source": [
    "plt.figure(figsize=(15,10))\n",
    "plt.title('Team who has been won the Toss and Match')\n",
    "plt.xticks(rotation =90)\n",
    "sns.countplot(df2['winner'],hue=df2['toss_decision'])\n",
    "plt.show()"
   ]
  },
  {
   "cell_type": "code",
   "execution_count": 58,
   "id": "consistent-costume",
   "metadata": {},
   "outputs": [
    {
     "data": {
      "image/png": "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\n",
      "text/plain": [
       "<Figure size 1080x720 with 1 Axes>"
      ]
     },
     "metadata": {},
     "output_type": "display_data"
    }
   ],
   "source": [
    "toss_decision = df2.groupby(['winner','toss_decision']).size().reset_index(name='total decisions')\n",
    "plt.figure(figsize=(15,10))\n",
    "plt.xticks(rotation = 90)\n",
    "plt.title('Team who has been won the Toss and Match')\n",
    "sns.lineplot(x='winner',y='total decisions', hue='toss_decision', data = toss_decision)\n",
    "plt.show()"
   ]
  },
  {
   "cell_type": "code",
   "execution_count": 26,
   "id": "persistent-planner",
   "metadata": {},
   "outputs": [],
   "source": [
    "toss_winner = df2.toss_winner.value_counts().reset_index()\n",
    "toss_winner = toss_winner.rename(columns = {'index':'Team','toss_winner':'Won Toss '})"
   ]
  },
  {
   "cell_type": "code",
   "execution_count": 27,
   "id": "supreme-gibraltar",
   "metadata": {},
   "outputs": [],
   "source": [
    "match_winner = df2.winner.value_counts().reset_index()\n",
    "match_winner = match_winner.rename(columns = {'index':'Team','winner':'Won Match'})"
   ]
  },
  {
   "cell_type": "code",
   "execution_count": 28,
   "id": "editorial-immigration",
   "metadata": {},
   "outputs": [],
   "source": [
    "match_winner.drop('Team',axis =1, inplace =True)"
   ]
  },
  {
   "cell_type": "code",
   "execution_count": 29,
   "id": "convertible-sheriff",
   "metadata": {},
   "outputs": [],
   "source": [
    "combine_win = pd.concat([toss_winner,match_winner],axis =1)"
   ]
  },
  {
   "cell_type": "markdown",
   "id": "abstract-surface",
   "metadata": {},
   "source": [
    "#### Winning Rate According to Toss for Each Team"
   ]
  },
  {
   "cell_type": "code",
   "execution_count": 30,
   "id": "orange-mixer",
   "metadata": {},
   "outputs": [
    {
     "data": {
      "application/vnd.plotly.v1+json": {
       "config": {
        "linkText": "Export to plot.ly",
        "plotlyServerURL": "https://plot.ly",
        "showLink": true
       },
       "data": [
        {
         "line": {
          "color": "rgba(255, 153, 51, 1.0)",
          "dash": "solid",
          "shape": "linear",
          "width": 1.3
         },
         "mode": "lines",
         "name": "Won Toss ",
         "text": "",
         "type": "scatter",
         "x": [
          "Mumbai Indians",
          "Kolkata Knight Riders",
          "Chennai Super Kings",
          "Kings XI Punjab",
          "Royal Challengers Bangalore",
          "Rajasthan Royals",
          "Delhi Daredevils",
          "Sunrisers Hyderabad",
          "Deccan Chargers",
          "Pune Warriors",
          "Gujarat Lions",
          "Delhi Capitals",
          "Kochi Tuskers Kerala",
          "Rising Pune Supergiants",
          "Rising Pune Supergiant"
         ],
         "y": [
          98,
          92,
          89,
          81,
          81,
          80,
          80,
          46,
          43,
          20,
          15,
          10,
          8,
          7,
          6
         ]
        },
        {
         "line": {
          "color": "rgba(55, 128, 191, 1.0)",
          "dash": "solid",
          "shape": "linear",
          "width": 1.3
         },
         "mode": "lines",
         "name": "Won Match",
         "text": "",
         "type": "scatter",
         "x": [
          "Mumbai Indians",
          "Kolkata Knight Riders",
          "Chennai Super Kings",
          "Kings XI Punjab",
          "Royal Challengers Bangalore",
          "Rajasthan Royals",
          "Delhi Daredevils",
          "Sunrisers Hyderabad",
          "Deccan Chargers",
          "Pune Warriors",
          "Gujarat Lions",
          "Delhi Capitals",
          "Kochi Tuskers Kerala",
          "Rising Pune Supergiants",
          "Rising Pune Supergiant"
         ],
         "y": [
          109,
          100,
          92,
          84,
          82,
          75,
          67,
          58,
          29,
          15,
          13,
          12,
          10,
          6,
          ""
         ]
        }
       ],
       "layout": {
        "legend": {
         "bgcolor": "#F5F6F9",
         "font": {
          "color": "#4D5663"
         }
        },
        "paper_bgcolor": "#F5F6F9",
        "plot_bgcolor": "#F5F6F9",
        "template": {
         "data": {
          "bar": [
           {
            "error_x": {
             "color": "#2a3f5f"
            },
            "error_y": {
             "color": "#2a3f5f"
            },
            "marker": {
             "line": {
              "color": "#E5ECF6",
              "width": 0.5
             }
            },
            "type": "bar"
           }
          ],
          "barpolar": [
           {
            "marker": {
             "line": {
              "color": "#E5ECF6",
              "width": 0.5
             }
            },
            "type": "barpolar"
           }
          ],
          "carpet": [
           {
            "aaxis": {
             "endlinecolor": "#2a3f5f",
             "gridcolor": "white",
             "linecolor": "white",
             "minorgridcolor": "white",
             "startlinecolor": "#2a3f5f"
            },
            "baxis": {
             "endlinecolor": "#2a3f5f",
             "gridcolor": "white",
             "linecolor": "white",
             "minorgridcolor": "white",
             "startlinecolor": "#2a3f5f"
            },
            "type": "carpet"
           }
          ],
          "choropleth": [
           {
            "colorbar": {
             "outlinewidth": 0,
             "ticks": ""
            },
            "type": "choropleth"
           }
          ],
          "contour": [
           {
            "colorbar": {
             "outlinewidth": 0,
             "ticks": ""
            },
            "colorscale": [
             [
              0,
              "#0d0887"
             ],
             [
              0.1111111111111111,
              "#46039f"
             ],
             [
              0.2222222222222222,
              "#7201a8"
             ],
             [
              0.3333333333333333,
              "#9c179e"
             ],
             [
              0.4444444444444444,
              "#bd3786"
             ],
             [
              0.5555555555555556,
              "#d8576b"
             ],
             [
              0.6666666666666666,
              "#ed7953"
             ],
             [
              0.7777777777777778,
              "#fb9f3a"
             ],
             [
              0.8888888888888888,
              "#fdca26"
             ],
             [
              1,
              "#f0f921"
             ]
            ],
            "type": "contour"
           }
          ],
          "contourcarpet": [
           {
            "colorbar": {
             "outlinewidth": 0,
             "ticks": ""
            },
            "type": "contourcarpet"
           }
          ],
          "heatmap": [
           {
            "colorbar": {
             "outlinewidth": 0,
             "ticks": ""
            },
            "colorscale": [
             [
              0,
              "#0d0887"
             ],
             [
              0.1111111111111111,
              "#46039f"
             ],
             [
              0.2222222222222222,
              "#7201a8"
             ],
             [
              0.3333333333333333,
              "#9c179e"
             ],
             [
              0.4444444444444444,
              "#bd3786"
             ],
             [
              0.5555555555555556,
              "#d8576b"
             ],
             [
              0.6666666666666666,
              "#ed7953"
             ],
             [
              0.7777777777777778,
              "#fb9f3a"
             ],
             [
              0.8888888888888888,
              "#fdca26"
             ],
             [
              1,
              "#f0f921"
             ]
            ],
            "type": "heatmap"
           }
          ],
          "heatmapgl": [
           {
            "colorbar": {
             "outlinewidth": 0,
             "ticks": ""
            },
            "colorscale": [
             [
              0,
              "#0d0887"
             ],
             [
              0.1111111111111111,
              "#46039f"
             ],
             [
              0.2222222222222222,
              "#7201a8"
             ],
             [
              0.3333333333333333,
              "#9c179e"
             ],
             [
              0.4444444444444444,
              "#bd3786"
             ],
             [
              0.5555555555555556,
              "#d8576b"
             ],
             [
              0.6666666666666666,
              "#ed7953"
             ],
             [
              0.7777777777777778,
              "#fb9f3a"
             ],
             [
              0.8888888888888888,
              "#fdca26"
             ],
             [
              1,
              "#f0f921"
             ]
            ],
            "type": "heatmapgl"
           }
          ],
          "histogram": [
           {
            "marker": {
             "colorbar": {
              "outlinewidth": 0,
              "ticks": ""
             }
            },
            "type": "histogram"
           }
          ],
          "histogram2d": [
           {
            "colorbar": {
             "outlinewidth": 0,
             "ticks": ""
            },
            "colorscale": [
             [
              0,
              "#0d0887"
             ],
             [
              0.1111111111111111,
              "#46039f"
             ],
             [
              0.2222222222222222,
              "#7201a8"
             ],
             [
              0.3333333333333333,
              "#9c179e"
             ],
             [
              0.4444444444444444,
              "#bd3786"
             ],
             [
              0.5555555555555556,
              "#d8576b"
             ],
             [
              0.6666666666666666,
              "#ed7953"
             ],
             [
              0.7777777777777778,
              "#fb9f3a"
             ],
             [
              0.8888888888888888,
              "#fdca26"
             ],
             [
              1,
              "#f0f921"
             ]
            ],
            "type": "histogram2d"
           }
          ],
          "histogram2dcontour": [
           {
            "colorbar": {
             "outlinewidth": 0,
             "ticks": ""
            },
            "colorscale": [
             [
              0,
              "#0d0887"
             ],
             [
              0.1111111111111111,
              "#46039f"
             ],
             [
              0.2222222222222222,
              "#7201a8"
             ],
             [
              0.3333333333333333,
              "#9c179e"
             ],
             [
              0.4444444444444444,
              "#bd3786"
             ],
             [
              0.5555555555555556,
              "#d8576b"
             ],
             [
              0.6666666666666666,
              "#ed7953"
             ],
             [
              0.7777777777777778,
              "#fb9f3a"
             ],
             [
              0.8888888888888888,
              "#fdca26"
             ],
             [
              1,
              "#f0f921"
             ]
            ],
            "type": "histogram2dcontour"
           }
          ],
          "mesh3d": [
           {
            "colorbar": {
             "outlinewidth": 0,
             "ticks": ""
            },
            "type": "mesh3d"
           }
          ],
          "parcoords": [
           {
            "line": {
             "colorbar": {
              "outlinewidth": 0,
              "ticks": ""
             }
            },
            "type": "parcoords"
           }
          ],
          "pie": [
           {
            "automargin": true,
            "type": "pie"
           }
          ],
          "scatter": [
           {
            "marker": {
             "colorbar": {
              "outlinewidth": 0,
              "ticks": ""
             }
            },
            "type": "scatter"
           }
          ],
          "scatter3d": [
           {
            "line": {
             "colorbar": {
              "outlinewidth": 0,
              "ticks": ""
             }
            },
            "marker": {
             "colorbar": {
              "outlinewidth": 0,
              "ticks": ""
             }
            },
            "type": "scatter3d"
           }
          ],
          "scattercarpet": [
           {
            "marker": {
             "colorbar": {
              "outlinewidth": 0,
              "ticks": ""
             }
            },
            "type": "scattercarpet"
           }
          ],
          "scattergeo": [
           {
            "marker": {
             "colorbar": {
              "outlinewidth": 0,
              "ticks": ""
             }
            },
            "type": "scattergeo"
           }
          ],
          "scattergl": [
           {
            "marker": {
             "colorbar": {
              "outlinewidth": 0,
              "ticks": ""
             }
            },
            "type": "scattergl"
           }
          ],
          "scattermapbox": [
           {
            "marker": {
             "colorbar": {
              "outlinewidth": 0,
              "ticks": ""
             }
            },
            "type": "scattermapbox"
           }
          ],
          "scatterpolar": [
           {
            "marker": {
             "colorbar": {
              "outlinewidth": 0,
              "ticks": ""
             }
            },
            "type": "scatterpolar"
           }
          ],
          "scatterpolargl": [
           {
            "marker": {
             "colorbar": {
              "outlinewidth": 0,
              "ticks": ""
             }
            },
            "type": "scatterpolargl"
           }
          ],
          "scatterternary": [
           {
            "marker": {
             "colorbar": {
              "outlinewidth": 0,
              "ticks": ""
             }
            },
            "type": "scatterternary"
           }
          ],
          "surface": [
           {
            "colorbar": {
             "outlinewidth": 0,
             "ticks": ""
            },
            "colorscale": [
             [
              0,
              "#0d0887"
             ],
             [
              0.1111111111111111,
              "#46039f"
             ],
             [
              0.2222222222222222,
              "#7201a8"
             ],
             [
              0.3333333333333333,
              "#9c179e"
             ],
             [
              0.4444444444444444,
              "#bd3786"
             ],
             [
              0.5555555555555556,
              "#d8576b"
             ],
             [
              0.6666666666666666,
              "#ed7953"
             ],
             [
              0.7777777777777778,
              "#fb9f3a"
             ],
             [
              0.8888888888888888,
              "#fdca26"
             ],
             [
              1,
              "#f0f921"
             ]
            ],
            "type": "surface"
           }
          ],
          "table": [
           {
            "cells": {
             "fill": {
              "color": "#EBF0F8"
             },
             "line": {
              "color": "white"
             }
            },
            "header": {
             "fill": {
              "color": "#C8D4E3"
             },
             "line": {
              "color": "white"
             }
            },
            "type": "table"
           }
          ]
         },
         "layout": {
          "annotationdefaults": {
           "arrowcolor": "#2a3f5f",
           "arrowhead": 0,
           "arrowwidth": 1
          },
          "autotypenumbers": "strict",
          "coloraxis": {
           "colorbar": {
            "outlinewidth": 0,
            "ticks": ""
           }
          },
          "colorscale": {
           "diverging": [
            [
             0,
             "#8e0152"
            ],
            [
             0.1,
             "#c51b7d"
            ],
            [
             0.2,
             "#de77ae"
            ],
            [
             0.3,
             "#f1b6da"
            ],
            [
             0.4,
             "#fde0ef"
            ],
            [
             0.5,
             "#f7f7f7"
            ],
            [
             0.6,
             "#e6f5d0"
            ],
            [
             0.7,
             "#b8e186"
            ],
            [
             0.8,
             "#7fbc41"
            ],
            [
             0.9,
             "#4d9221"
            ],
            [
             1,
             "#276419"
            ]
           ],
           "sequential": [
            [
             0,
             "#0d0887"
            ],
            [
             0.1111111111111111,
             "#46039f"
            ],
            [
             0.2222222222222222,
             "#7201a8"
            ],
            [
             0.3333333333333333,
             "#9c179e"
            ],
            [
             0.4444444444444444,
             "#bd3786"
            ],
            [
             0.5555555555555556,
             "#d8576b"
            ],
            [
             0.6666666666666666,
             "#ed7953"
            ],
            [
             0.7777777777777778,
             "#fb9f3a"
            ],
            [
             0.8888888888888888,
             "#fdca26"
            ],
            [
             1,
             "#f0f921"
            ]
           ],
           "sequentialminus": [
            [
             0,
             "#0d0887"
            ],
            [
             0.1111111111111111,
             "#46039f"
            ],
            [
             0.2222222222222222,
             "#7201a8"
            ],
            [
             0.3333333333333333,
             "#9c179e"
            ],
            [
             0.4444444444444444,
             "#bd3786"
            ],
            [
             0.5555555555555556,
             "#d8576b"
            ],
            [
             0.6666666666666666,
             "#ed7953"
            ],
            [
             0.7777777777777778,
             "#fb9f3a"
            ],
            [
             0.8888888888888888,
             "#fdca26"
            ],
            [
             1,
             "#f0f921"
            ]
           ]
          },
          "colorway": [
           "#636efa",
           "#EF553B",
           "#00cc96",
           "#ab63fa",
           "#FFA15A",
           "#19d3f3",
           "#FF6692",
           "#B6E880",
           "#FF97FF",
           "#FECB52"
          ],
          "font": {
           "color": "#2a3f5f"
          },
          "geo": {
           "bgcolor": "white",
           "lakecolor": "white",
           "landcolor": "#E5ECF6",
           "showlakes": true,
           "showland": true,
           "subunitcolor": "white"
          },
          "hoverlabel": {
           "align": "left"
          },
          "hovermode": "closest",
          "mapbox": {
           "style": "light"
          },
          "paper_bgcolor": "white",
          "plot_bgcolor": "#E5ECF6",
          "polar": {
           "angularaxis": {
            "gridcolor": "white",
            "linecolor": "white",
            "ticks": ""
           },
           "bgcolor": "#E5ECF6",
           "radialaxis": {
            "gridcolor": "white",
            "linecolor": "white",
            "ticks": ""
           }
          },
          "scene": {
           "xaxis": {
            "backgroundcolor": "#E5ECF6",
            "gridcolor": "white",
            "gridwidth": 2,
            "linecolor": "white",
            "showbackground": true,
            "ticks": "",
            "zerolinecolor": "white"
           },
           "yaxis": {
            "backgroundcolor": "#E5ECF6",
            "gridcolor": "white",
            "gridwidth": 2,
            "linecolor": "white",
            "showbackground": true,
            "ticks": "",
            "zerolinecolor": "white"
           },
           "zaxis": {
            "backgroundcolor": "#E5ECF6",
            "gridcolor": "white",
            "gridwidth": 2,
            "linecolor": "white",
            "showbackground": true,
            "ticks": "",
            "zerolinecolor": "white"
           }
          },
          "shapedefaults": {
           "line": {
            "color": "#2a3f5f"
           }
          },
          "ternary": {
           "aaxis": {
            "gridcolor": "white",
            "linecolor": "white",
            "ticks": ""
           },
           "baxis": {
            "gridcolor": "white",
            "linecolor": "white",
            "ticks": ""
           },
           "bgcolor": "#E5ECF6",
           "caxis": {
            "gridcolor": "white",
            "linecolor": "white",
            "ticks": ""
           }
          },
          "title": {
           "x": 0.05
          },
          "xaxis": {
           "automargin": true,
           "gridcolor": "white",
           "linecolor": "white",
           "ticks": "",
           "title": {
            "standoff": 15
           },
           "zerolinecolor": "white",
           "zerolinewidth": 2
          },
          "yaxis": {
           "automargin": true,
           "gridcolor": "white",
           "linecolor": "white",
           "ticks": "",
           "title": {
            "standoff": 15
           },
           "zerolinecolor": "white",
           "zerolinewidth": 2
          }
         }
        },
        "title": {
         "font": {
          "color": "#4D5663"
         },
         "text": "Winning Rate According to Toss for Each Team"
        },
        "xaxis": {
         "gridcolor": "#E1E5ED",
         "showgrid": true,
         "tickfont": {
          "color": "#4D5663"
         },
         "title": {
          "font": {
           "color": "#4D5663"
          },
          "text": ""
         },
         "zerolinecolor": "#E1E5ED"
        },
        "yaxis": {
         "gridcolor": "#E1E5ED",
         "showgrid": true,
         "tickfont": {
          "color": "#4D5663"
         },
         "title": {
          "font": {
           "color": "#4D5663"
          },
          "text": ""
         },
         "zerolinecolor": "#E1E5ED"
        }
       }
      },
      "text/html": [
       "<div>                            <div id=\"48f726d3-ce67-4d3e-aaf9-7d2e55010da7\" class=\"plotly-graph-div\" style=\"height:525px; width:100%;\"></div>            <script type=\"text/javascript\">                require([\"plotly\"], function(Plotly) {                    window.PLOTLYENV=window.PLOTLYENV || {};\n",
       "                    window.PLOTLYENV.BASE_URL='https://plot.ly';                                    if (document.getElementById(\"48f726d3-ce67-4d3e-aaf9-7d2e55010da7\")) {                    Plotly.newPlot(                        \"48f726d3-ce67-4d3e-aaf9-7d2e55010da7\",                        [{\"line\": {\"color\": \"rgba(255, 153, 51, 1.0)\", \"dash\": \"solid\", \"shape\": \"linear\", \"width\": 1.3}, \"mode\": \"lines\", \"name\": \"Won Toss \", \"text\": \"\", \"type\": \"scatter\", \"x\": [\"Mumbai Indians\", \"Kolkata Knight Riders\", \"Chennai Super Kings\", \"Kings XI Punjab\", \"Royal Challengers Bangalore\", \"Rajasthan Royals\", \"Delhi Daredevils\", \"Sunrisers Hyderabad\", \"Deccan Chargers\", \"Pune Warriors\", \"Gujarat Lions\", \"Delhi Capitals\", \"Kochi Tuskers Kerala\", \"Rising Pune Supergiants\", \"Rising Pune Supergiant\"], \"y\": [98, 92, 89, 81, 81, 80, 80, 46, 43, 20, 15, 10, 8, 7, 6]}, {\"line\": {\"color\": \"rgba(55, 128, 191, 1.0)\", \"dash\": \"solid\", \"shape\": \"linear\", \"width\": 1.3}, \"mode\": \"lines\", \"name\": \"Won Match\", \"text\": \"\", \"type\": \"scatter\", \"x\": [\"Mumbai Indians\", \"Kolkata Knight Riders\", \"Chennai Super Kings\", \"Kings XI Punjab\", \"Royal Challengers Bangalore\", \"Rajasthan Royals\", \"Delhi Daredevils\", \"Sunrisers Hyderabad\", \"Deccan Chargers\", \"Pune Warriors\", \"Gujarat Lions\", \"Delhi Capitals\", \"Kochi Tuskers Kerala\", \"Rising Pune Supergiants\", \"Rising Pune Supergiant\"], \"y\": [109.0, 100.0, 92.0, 84.0, 82.0, 75.0, 67.0, 58.0, 29.0, 15.0, 13.0, 12.0, 10.0, 6.0, \"\"]}],                        {\"legend\": {\"bgcolor\": \"#F5F6F9\", \"font\": {\"color\": \"#4D5663\"}}, \"paper_bgcolor\": \"#F5F6F9\", \"plot_bgcolor\": \"#F5F6F9\", \"template\": {\"data\": {\"bar\": [{\"error_x\": {\"color\": \"#2a3f5f\"}, \"error_y\": {\"color\": \"#2a3f5f\"}, \"marker\": {\"line\": {\"color\": \"#E5ECF6\", \"width\": 0.5}}, \"type\": \"bar\"}], \"barpolar\": [{\"marker\": {\"line\": {\"color\": \"#E5ECF6\", \"width\": 0.5}}, \"type\": \"barpolar\"}], \"carpet\": [{\"aaxis\": {\"endlinecolor\": \"#2a3f5f\", \"gridcolor\": \"white\", \"linecolor\": \"white\", \"minorgridcolor\": \"white\", \"startlinecolor\": \"#2a3f5f\"}, \"baxis\": {\"endlinecolor\": \"#2a3f5f\", \"gridcolor\": \"white\", \"linecolor\": \"white\", \"minorgridcolor\": \"white\", \"startlinecolor\": \"#2a3f5f\"}, \"type\": \"carpet\"}], \"choropleth\": [{\"colorbar\": {\"outlinewidth\": 0, \"ticks\": \"\"}, \"type\": \"choropleth\"}], \"contour\": [{\"colorbar\": {\"outlinewidth\": 0, \"ticks\": \"\"}, \"colorscale\": [[0.0, \"#0d0887\"], [0.1111111111111111, \"#46039f\"], [0.2222222222222222, \"#7201a8\"], [0.3333333333333333, \"#9c179e\"], [0.4444444444444444, \"#bd3786\"], [0.5555555555555556, \"#d8576b\"], [0.6666666666666666, \"#ed7953\"], [0.7777777777777778, \"#fb9f3a\"], [0.8888888888888888, \"#fdca26\"], [1.0, \"#f0f921\"]], \"type\": \"contour\"}], \"contourcarpet\": [{\"colorbar\": {\"outlinewidth\": 0, \"ticks\": \"\"}, \"type\": \"contourcarpet\"}], \"heatmap\": [{\"colorbar\": {\"outlinewidth\": 0, \"ticks\": \"\"}, \"colorscale\": [[0.0, \"#0d0887\"], [0.1111111111111111, \"#46039f\"], [0.2222222222222222, \"#7201a8\"], [0.3333333333333333, \"#9c179e\"], [0.4444444444444444, \"#bd3786\"], [0.5555555555555556, \"#d8576b\"], [0.6666666666666666, \"#ed7953\"], [0.7777777777777778, \"#fb9f3a\"], [0.8888888888888888, \"#fdca26\"], [1.0, \"#f0f921\"]], \"type\": \"heatmap\"}], \"heatmapgl\": [{\"colorbar\": {\"outlinewidth\": 0, \"ticks\": \"\"}, \"colorscale\": [[0.0, \"#0d0887\"], [0.1111111111111111, \"#46039f\"], [0.2222222222222222, \"#7201a8\"], [0.3333333333333333, \"#9c179e\"], [0.4444444444444444, \"#bd3786\"], [0.5555555555555556, \"#d8576b\"], [0.6666666666666666, \"#ed7953\"], [0.7777777777777778, \"#fb9f3a\"], [0.8888888888888888, \"#fdca26\"], [1.0, \"#f0f921\"]], \"type\": \"heatmapgl\"}], \"histogram\": [{\"marker\": {\"colorbar\": {\"outlinewidth\": 0, \"ticks\": \"\"}}, \"type\": \"histogram\"}], \"histogram2d\": [{\"colorbar\": {\"outlinewidth\": 0, \"ticks\": \"\"}, \"colorscale\": [[0.0, \"#0d0887\"], [0.1111111111111111, \"#46039f\"], [0.2222222222222222, \"#7201a8\"], [0.3333333333333333, \"#9c179e\"], [0.4444444444444444, \"#bd3786\"], [0.5555555555555556, \"#d8576b\"], [0.6666666666666666, \"#ed7953\"], [0.7777777777777778, \"#fb9f3a\"], [0.8888888888888888, \"#fdca26\"], [1.0, \"#f0f921\"]], \"type\": \"histogram2d\"}], \"histogram2dcontour\": [{\"colorbar\": {\"outlinewidth\": 0, \"ticks\": \"\"}, \"colorscale\": [[0.0, \"#0d0887\"], [0.1111111111111111, \"#46039f\"], [0.2222222222222222, \"#7201a8\"], [0.3333333333333333, \"#9c179e\"], [0.4444444444444444, \"#bd3786\"], [0.5555555555555556, \"#d8576b\"], [0.6666666666666666, \"#ed7953\"], [0.7777777777777778, \"#fb9f3a\"], [0.8888888888888888, \"#fdca26\"], [1.0, \"#f0f921\"]], \"type\": \"histogram2dcontour\"}], \"mesh3d\": [{\"colorbar\": {\"outlinewidth\": 0, \"ticks\": \"\"}, \"type\": \"mesh3d\"}], \"parcoords\": [{\"line\": {\"colorbar\": {\"outlinewidth\": 0, \"ticks\": \"\"}}, \"type\": \"parcoords\"}], \"pie\": [{\"automargin\": true, \"type\": \"pie\"}], \"scatter\": [{\"marker\": {\"colorbar\": {\"outlinewidth\": 0, \"ticks\": \"\"}}, \"type\": \"scatter\"}], \"scatter3d\": [{\"line\": {\"colorbar\": {\"outlinewidth\": 0, \"ticks\": \"\"}}, \"marker\": {\"colorbar\": {\"outlinewidth\": 0, \"ticks\": \"\"}}, \"type\": \"scatter3d\"}], \"scattercarpet\": [{\"marker\": {\"colorbar\": {\"outlinewidth\": 0, \"ticks\": \"\"}}, \"type\": \"scattercarpet\"}], \"scattergeo\": [{\"marker\": {\"colorbar\": {\"outlinewidth\": 0, \"ticks\": \"\"}}, \"type\": \"scattergeo\"}], \"scattergl\": [{\"marker\": {\"colorbar\": {\"outlinewidth\": 0, \"ticks\": \"\"}}, \"type\": \"scattergl\"}], \"scattermapbox\": [{\"marker\": {\"colorbar\": {\"outlinewidth\": 0, \"ticks\": \"\"}}, \"type\": \"scattermapbox\"}], \"scatterpolar\": [{\"marker\": {\"colorbar\": {\"outlinewidth\": 0, \"ticks\": \"\"}}, \"type\": \"scatterpolar\"}], \"scatterpolargl\": [{\"marker\": {\"colorbar\": {\"outlinewidth\": 0, \"ticks\": \"\"}}, \"type\": \"scatterpolargl\"}], \"scatterternary\": [{\"marker\": {\"colorbar\": {\"outlinewidth\": 0, \"ticks\": \"\"}}, \"type\": \"scatterternary\"}], \"surface\": [{\"colorbar\": {\"outlinewidth\": 0, \"ticks\": \"\"}, \"colorscale\": [[0.0, \"#0d0887\"], [0.1111111111111111, \"#46039f\"], [0.2222222222222222, \"#7201a8\"], [0.3333333333333333, \"#9c179e\"], [0.4444444444444444, \"#bd3786\"], [0.5555555555555556, \"#d8576b\"], [0.6666666666666666, \"#ed7953\"], [0.7777777777777778, \"#fb9f3a\"], [0.8888888888888888, \"#fdca26\"], [1.0, \"#f0f921\"]], \"type\": \"surface\"}], \"table\": [{\"cells\": {\"fill\": {\"color\": \"#EBF0F8\"}, \"line\": {\"color\": \"white\"}}, \"header\": {\"fill\": {\"color\": \"#C8D4E3\"}, \"line\": {\"color\": \"white\"}}, \"type\": \"table\"}]}, \"layout\": {\"annotationdefaults\": {\"arrowcolor\": \"#2a3f5f\", \"arrowhead\": 0, \"arrowwidth\": 1}, \"autotypenumbers\": \"strict\", \"coloraxis\": {\"colorbar\": {\"outlinewidth\": 0, \"ticks\": \"\"}}, \"colorscale\": {\"diverging\": [[0, \"#8e0152\"], [0.1, \"#c51b7d\"], [0.2, \"#de77ae\"], [0.3, \"#f1b6da\"], [0.4, \"#fde0ef\"], [0.5, \"#f7f7f7\"], [0.6, \"#e6f5d0\"], [0.7, \"#b8e186\"], [0.8, \"#7fbc41\"], [0.9, \"#4d9221\"], [1, \"#276419\"]], \"sequential\": [[0.0, \"#0d0887\"], [0.1111111111111111, \"#46039f\"], [0.2222222222222222, \"#7201a8\"], [0.3333333333333333, \"#9c179e\"], [0.4444444444444444, \"#bd3786\"], [0.5555555555555556, \"#d8576b\"], [0.6666666666666666, \"#ed7953\"], [0.7777777777777778, \"#fb9f3a\"], [0.8888888888888888, \"#fdca26\"], [1.0, \"#f0f921\"]], \"sequentialminus\": [[0.0, \"#0d0887\"], [0.1111111111111111, \"#46039f\"], [0.2222222222222222, \"#7201a8\"], [0.3333333333333333, \"#9c179e\"], [0.4444444444444444, \"#bd3786\"], [0.5555555555555556, \"#d8576b\"], [0.6666666666666666, \"#ed7953\"], [0.7777777777777778, \"#fb9f3a\"], [0.8888888888888888, \"#fdca26\"], [1.0, \"#f0f921\"]]}, \"colorway\": [\"#636efa\", \"#EF553B\", \"#00cc96\", \"#ab63fa\", \"#FFA15A\", \"#19d3f3\", \"#FF6692\", \"#B6E880\", \"#FF97FF\", \"#FECB52\"], \"font\": {\"color\": \"#2a3f5f\"}, \"geo\": {\"bgcolor\": \"white\", \"lakecolor\": \"white\", \"landcolor\": \"#E5ECF6\", \"showlakes\": true, \"showland\": true, \"subunitcolor\": \"white\"}, \"hoverlabel\": {\"align\": \"left\"}, \"hovermode\": \"closest\", \"mapbox\": {\"style\": \"light\"}, \"paper_bgcolor\": \"white\", \"plot_bgcolor\": \"#E5ECF6\", \"polar\": {\"angularaxis\": {\"gridcolor\": \"white\", \"linecolor\": \"white\", \"ticks\": \"\"}, \"bgcolor\": \"#E5ECF6\", \"radialaxis\": {\"gridcolor\": \"white\", \"linecolor\": \"white\", \"ticks\": \"\"}}, \"scene\": {\"xaxis\": {\"backgroundcolor\": \"#E5ECF6\", \"gridcolor\": \"white\", \"gridwidth\": 2, \"linecolor\": \"white\", \"showbackground\": true, \"ticks\": \"\", \"zerolinecolor\": \"white\"}, \"yaxis\": {\"backgroundcolor\": \"#E5ECF6\", \"gridcolor\": \"white\", \"gridwidth\": 2, \"linecolor\": \"white\", \"showbackground\": true, \"ticks\": \"\", \"zerolinecolor\": \"white\"}, \"zaxis\": {\"backgroundcolor\": \"#E5ECF6\", \"gridcolor\": \"white\", \"gridwidth\": 2, \"linecolor\": \"white\", \"showbackground\": true, \"ticks\": \"\", \"zerolinecolor\": \"white\"}}, \"shapedefaults\": {\"line\": {\"color\": \"#2a3f5f\"}}, \"ternary\": {\"aaxis\": {\"gridcolor\": \"white\", \"linecolor\": \"white\", \"ticks\": \"\"}, \"baxis\": {\"gridcolor\": \"white\", \"linecolor\": \"white\", \"ticks\": \"\"}, \"bgcolor\": \"#E5ECF6\", \"caxis\": {\"gridcolor\": \"white\", \"linecolor\": \"white\", \"ticks\": \"\"}}, \"title\": {\"x\": 0.05}, \"xaxis\": {\"automargin\": true, \"gridcolor\": \"white\", \"linecolor\": \"white\", \"ticks\": \"\", \"title\": {\"standoff\": 15}, \"zerolinecolor\": \"white\", \"zerolinewidth\": 2}, \"yaxis\": {\"automargin\": true, \"gridcolor\": \"white\", \"linecolor\": \"white\", \"ticks\": \"\", \"title\": {\"standoff\": 15}, \"zerolinecolor\": \"white\", \"zerolinewidth\": 2}}}, \"title\": {\"font\": {\"color\": \"#4D5663\"}, \"text\": \"Winning Rate According to Toss for Each Team\"}, \"xaxis\": {\"gridcolor\": \"#E1E5ED\", \"showgrid\": true, \"tickfont\": {\"color\": \"#4D5663\"}, \"title\": {\"font\": {\"color\": \"#4D5663\"}, \"text\": \"\"}, \"zerolinecolor\": \"#E1E5ED\"}, \"yaxis\": {\"gridcolor\": \"#E1E5ED\", \"showgrid\": true, \"tickfont\": {\"color\": \"#4D5663\"}, \"title\": {\"font\": {\"color\": \"#4D5663\"}, \"text\": \"\"}, \"zerolinecolor\": \"#E1E5ED\"}},                        {\"showLink\": true, \"linkText\": \"Export to plot.ly\", \"plotlyServerURL\": \"https://plot.ly\", \"responsive\": true}                    ).then(function(){\n",
       "                            \n",
       "var gd = document.getElementById('48f726d3-ce67-4d3e-aaf9-7d2e55010da7');\n",
       "var x = new MutationObserver(function (mutations, observer) {{\n",
       "        var display = window.getComputedStyle(gd).display;\n",
       "        if (!display || display === 'none') {{\n",
       "            console.log([gd, 'removed!']);\n",
       "            Plotly.purge(gd);\n",
       "            observer.disconnect();\n",
       "        }}\n",
       "}});\n",
       "\n",
       "// Listen for the removal of the full notebook cells\n",
       "var notebookContainer = gd.closest('#notebook-container');\n",
       "if (notebookContainer) {{\n",
       "    x.observe(notebookContainer, {childList: true});\n",
       "}}\n",
       "\n",
       "// Listen for the clearing of the current output cell\n",
       "var outputEl = gd.closest('.output');\n",
       "if (outputEl) {{\n",
       "    x.observe(outputEl, {childList: true});\n",
       "}}\n",
       "\n",
       "                        })                };                });            </script>        </div>"
      ]
     },
     "metadata": {},
     "output_type": "display_data"
    }
   ],
   "source": [
    "combine_win.iplot(x= 'Team',title='Winning Rate According to Toss for Each Team',size = 10)\n",
    "# plt.xticks(rotation = 45)"
   ]
  },
  {
   "cell_type": "markdown",
   "id": "chemical-sellers",
   "metadata": {},
   "source": [
    "#### 5.Creating the list of Top 10 Scoring Batsmans with Strike Rate"
   ]
  },
  {
   "cell_type": "code",
   "execution_count": 31,
   "id": "ranging-bearing",
   "metadata": {},
   "outputs": [],
   "source": [
    "top_scorer=df1.groupby('batsman').sum()['batsman_runs'].sort_values(ascending = False).reset_index()\n",
    "balls_faced = df1.groupby('batsman').count()['ball'].sort_values(ascending = False).reset_index()"
   ]
  },
  {
   "cell_type": "code",
   "execution_count": 32,
   "id": "small-repeat",
   "metadata": {
    "scrolled": true
   },
   "outputs": [],
   "source": [
    "strike_rate= pd.merge(top_scorer,balls_faced,how='inner',left_on=['batsman'],right_on=['batsman'])"
   ]
  },
  {
   "cell_type": "code",
   "execution_count": 33,
   "id": "rubber-standard",
   "metadata": {},
   "outputs": [
    {
     "data": {
      "text/html": [
       "<div>\n",
       "<style scoped>\n",
       "    .dataframe tbody tr th:only-of-type {\n",
       "        vertical-align: middle;\n",
       "    }\n",
       "\n",
       "    .dataframe tbody tr th {\n",
       "        vertical-align: top;\n",
       "    }\n",
       "\n",
       "    .dataframe thead th {\n",
       "        text-align: right;\n",
       "    }\n",
       "</style>\n",
       "<table border=\"1\" class=\"dataframe\">\n",
       "  <thead>\n",
       "    <tr style=\"text-align: right;\">\n",
       "      <th></th>\n",
       "      <th>batsman</th>\n",
       "      <th>batsman_runs</th>\n",
       "      <th>ball</th>\n",
       "    </tr>\n",
       "  </thead>\n",
       "  <tbody>\n",
       "    <tr>\n",
       "      <th>0</th>\n",
       "      <td>V Kohli</td>\n",
       "      <td>5434</td>\n",
       "      <td>4211</td>\n",
       "    </tr>\n",
       "    <tr>\n",
       "      <th>1</th>\n",
       "      <td>SK Raina</td>\n",
       "      <td>5415</td>\n",
       "      <td>4044</td>\n",
       "    </tr>\n",
       "    <tr>\n",
       "      <th>2</th>\n",
       "      <td>RG Sharma</td>\n",
       "      <td>4914</td>\n",
       "      <td>3816</td>\n",
       "    </tr>\n",
       "    <tr>\n",
       "      <th>3</th>\n",
       "      <td>DA Warner</td>\n",
       "      <td>4741</td>\n",
       "      <td>3398</td>\n",
       "    </tr>\n",
       "    <tr>\n",
       "      <th>4</th>\n",
       "      <td>S Dhawan</td>\n",
       "      <td>4632</td>\n",
       "      <td>3776</td>\n",
       "    </tr>\n",
       "  </tbody>\n",
       "</table>\n",
       "</div>"
      ],
      "text/plain": [
       "     batsman  batsman_runs  ball\n",
       "0    V Kohli          5434  4211\n",
       "1   SK Raina          5415  4044\n",
       "2  RG Sharma          4914  3816\n",
       "3  DA Warner          4741  3398\n",
       "4   S Dhawan          4632  3776"
      ]
     },
     "execution_count": 33,
     "metadata": {},
     "output_type": "execute_result"
    }
   ],
   "source": [
    "strike_rate.head()"
   ]
  },
  {
   "cell_type": "code",
   "execution_count": 34,
   "id": "saving-baptist",
   "metadata": {
    "scrolled": true
   },
   "outputs": [],
   "source": [
    "strike_rate['Strike Rate'] = strike_rate.batsman_runs/ strike_rate.ball *100 "
   ]
  },
  {
   "cell_type": "code",
   "execution_count": 35,
   "id": "tropical-maine",
   "metadata": {},
   "outputs": [
    {
     "data": {
      "application/vnd.plotly.v1+json": {
       "config": {
        "linkText": "Export to plot.ly",
        "plotlyServerURL": "https://plot.ly",
        "showLink": true
       },
       "data": [
        {
         "line": {
          "color": "rgba(255, 153, 51, 1.0)",
          "dash": "solid",
          "shape": "linear",
          "width": 1.3
         },
         "marker": {
          "size": 10,
          "symbol": "circle"
         },
         "mode": "markers",
         "name": "batsman_runs",
         "text": "",
         "type": "scatter",
         "x": [
          "V Kohli",
          "SK Raina",
          "RG Sharma",
          "DA Warner",
          "S Dhawan",
          "CH Gayle",
          "MS Dhoni",
          "RV Uthappa",
          "AB de Villiers",
          "G Gambhir"
         ],
         "y": [
          5434,
          5415,
          4914,
          4741,
          4632,
          4560,
          4477,
          4446,
          4428,
          4223
         ]
        }
       ],
       "layout": {
        "legend": {
         "bgcolor": "#F5F6F9",
         "font": {
          "color": "#4D5663"
         }
        },
        "paper_bgcolor": "#F5F6F9",
        "plot_bgcolor": "#F5F6F9",
        "template": {
         "data": {
          "bar": [
           {
            "error_x": {
             "color": "#2a3f5f"
            },
            "error_y": {
             "color": "#2a3f5f"
            },
            "marker": {
             "line": {
              "color": "#E5ECF6",
              "width": 0.5
             }
            },
            "type": "bar"
           }
          ],
          "barpolar": [
           {
            "marker": {
             "line": {
              "color": "#E5ECF6",
              "width": 0.5
             }
            },
            "type": "barpolar"
           }
          ],
          "carpet": [
           {
            "aaxis": {
             "endlinecolor": "#2a3f5f",
             "gridcolor": "white",
             "linecolor": "white",
             "minorgridcolor": "white",
             "startlinecolor": "#2a3f5f"
            },
            "baxis": {
             "endlinecolor": "#2a3f5f",
             "gridcolor": "white",
             "linecolor": "white",
             "minorgridcolor": "white",
             "startlinecolor": "#2a3f5f"
            },
            "type": "carpet"
           }
          ],
          "choropleth": [
           {
            "colorbar": {
             "outlinewidth": 0,
             "ticks": ""
            },
            "type": "choropleth"
           }
          ],
          "contour": [
           {
            "colorbar": {
             "outlinewidth": 0,
             "ticks": ""
            },
            "colorscale": [
             [
              0,
              "#0d0887"
             ],
             [
              0.1111111111111111,
              "#46039f"
             ],
             [
              0.2222222222222222,
              "#7201a8"
             ],
             [
              0.3333333333333333,
              "#9c179e"
             ],
             [
              0.4444444444444444,
              "#bd3786"
             ],
             [
              0.5555555555555556,
              "#d8576b"
             ],
             [
              0.6666666666666666,
              "#ed7953"
             ],
             [
              0.7777777777777778,
              "#fb9f3a"
             ],
             [
              0.8888888888888888,
              "#fdca26"
             ],
             [
              1,
              "#f0f921"
             ]
            ],
            "type": "contour"
           }
          ],
          "contourcarpet": [
           {
            "colorbar": {
             "outlinewidth": 0,
             "ticks": ""
            },
            "type": "contourcarpet"
           }
          ],
          "heatmap": [
           {
            "colorbar": {
             "outlinewidth": 0,
             "ticks": ""
            },
            "colorscale": [
             [
              0,
              "#0d0887"
             ],
             [
              0.1111111111111111,
              "#46039f"
             ],
             [
              0.2222222222222222,
              "#7201a8"
             ],
             [
              0.3333333333333333,
              "#9c179e"
             ],
             [
              0.4444444444444444,
              "#bd3786"
             ],
             [
              0.5555555555555556,
              "#d8576b"
             ],
             [
              0.6666666666666666,
              "#ed7953"
             ],
             [
              0.7777777777777778,
              "#fb9f3a"
             ],
             [
              0.8888888888888888,
              "#fdca26"
             ],
             [
              1,
              "#f0f921"
             ]
            ],
            "type": "heatmap"
           }
          ],
          "heatmapgl": [
           {
            "colorbar": {
             "outlinewidth": 0,
             "ticks": ""
            },
            "colorscale": [
             [
              0,
              "#0d0887"
             ],
             [
              0.1111111111111111,
              "#46039f"
             ],
             [
              0.2222222222222222,
              "#7201a8"
             ],
             [
              0.3333333333333333,
              "#9c179e"
             ],
             [
              0.4444444444444444,
              "#bd3786"
             ],
             [
              0.5555555555555556,
              "#d8576b"
             ],
             [
              0.6666666666666666,
              "#ed7953"
             ],
             [
              0.7777777777777778,
              "#fb9f3a"
             ],
             [
              0.8888888888888888,
              "#fdca26"
             ],
             [
              1,
              "#f0f921"
             ]
            ],
            "type": "heatmapgl"
           }
          ],
          "histogram": [
           {
            "marker": {
             "colorbar": {
              "outlinewidth": 0,
              "ticks": ""
             }
            },
            "type": "histogram"
           }
          ],
          "histogram2d": [
           {
            "colorbar": {
             "outlinewidth": 0,
             "ticks": ""
            },
            "colorscale": [
             [
              0,
              "#0d0887"
             ],
             [
              0.1111111111111111,
              "#46039f"
             ],
             [
              0.2222222222222222,
              "#7201a8"
             ],
             [
              0.3333333333333333,
              "#9c179e"
             ],
             [
              0.4444444444444444,
              "#bd3786"
             ],
             [
              0.5555555555555556,
              "#d8576b"
             ],
             [
              0.6666666666666666,
              "#ed7953"
             ],
             [
              0.7777777777777778,
              "#fb9f3a"
             ],
             [
              0.8888888888888888,
              "#fdca26"
             ],
             [
              1,
              "#f0f921"
             ]
            ],
            "type": "histogram2d"
           }
          ],
          "histogram2dcontour": [
           {
            "colorbar": {
             "outlinewidth": 0,
             "ticks": ""
            },
            "colorscale": [
             [
              0,
              "#0d0887"
             ],
             [
              0.1111111111111111,
              "#46039f"
             ],
             [
              0.2222222222222222,
              "#7201a8"
             ],
             [
              0.3333333333333333,
              "#9c179e"
             ],
             [
              0.4444444444444444,
              "#bd3786"
             ],
             [
              0.5555555555555556,
              "#d8576b"
             ],
             [
              0.6666666666666666,
              "#ed7953"
             ],
             [
              0.7777777777777778,
              "#fb9f3a"
             ],
             [
              0.8888888888888888,
              "#fdca26"
             ],
             [
              1,
              "#f0f921"
             ]
            ],
            "type": "histogram2dcontour"
           }
          ],
          "mesh3d": [
           {
            "colorbar": {
             "outlinewidth": 0,
             "ticks": ""
            },
            "type": "mesh3d"
           }
          ],
          "parcoords": [
           {
            "line": {
             "colorbar": {
              "outlinewidth": 0,
              "ticks": ""
             }
            },
            "type": "parcoords"
           }
          ],
          "pie": [
           {
            "automargin": true,
            "type": "pie"
           }
          ],
          "scatter": [
           {
            "marker": {
             "colorbar": {
              "outlinewidth": 0,
              "ticks": ""
             }
            },
            "type": "scatter"
           }
          ],
          "scatter3d": [
           {
            "line": {
             "colorbar": {
              "outlinewidth": 0,
              "ticks": ""
             }
            },
            "marker": {
             "colorbar": {
              "outlinewidth": 0,
              "ticks": ""
             }
            },
            "type": "scatter3d"
           }
          ],
          "scattercarpet": [
           {
            "marker": {
             "colorbar": {
              "outlinewidth": 0,
              "ticks": ""
             }
            },
            "type": "scattercarpet"
           }
          ],
          "scattergeo": [
           {
            "marker": {
             "colorbar": {
              "outlinewidth": 0,
              "ticks": ""
             }
            },
            "type": "scattergeo"
           }
          ],
          "scattergl": [
           {
            "marker": {
             "colorbar": {
              "outlinewidth": 0,
              "ticks": ""
             }
            },
            "type": "scattergl"
           }
          ],
          "scattermapbox": [
           {
            "marker": {
             "colorbar": {
              "outlinewidth": 0,
              "ticks": ""
             }
            },
            "type": "scattermapbox"
           }
          ],
          "scatterpolar": [
           {
            "marker": {
             "colorbar": {
              "outlinewidth": 0,
              "ticks": ""
             }
            },
            "type": "scatterpolar"
           }
          ],
          "scatterpolargl": [
           {
            "marker": {
             "colorbar": {
              "outlinewidth": 0,
              "ticks": ""
             }
            },
            "type": "scatterpolargl"
           }
          ],
          "scatterternary": [
           {
            "marker": {
             "colorbar": {
              "outlinewidth": 0,
              "ticks": ""
             }
            },
            "type": "scatterternary"
           }
          ],
          "surface": [
           {
            "colorbar": {
             "outlinewidth": 0,
             "ticks": ""
            },
            "colorscale": [
             [
              0,
              "#0d0887"
             ],
             [
              0.1111111111111111,
              "#46039f"
             ],
             [
              0.2222222222222222,
              "#7201a8"
             ],
             [
              0.3333333333333333,
              "#9c179e"
             ],
             [
              0.4444444444444444,
              "#bd3786"
             ],
             [
              0.5555555555555556,
              "#d8576b"
             ],
             [
              0.6666666666666666,
              "#ed7953"
             ],
             [
              0.7777777777777778,
              "#fb9f3a"
             ],
             [
              0.8888888888888888,
              "#fdca26"
             ],
             [
              1,
              "#f0f921"
             ]
            ],
            "type": "surface"
           }
          ],
          "table": [
           {
            "cells": {
             "fill": {
              "color": "#EBF0F8"
             },
             "line": {
              "color": "white"
             }
            },
            "header": {
             "fill": {
              "color": "#C8D4E3"
             },
             "line": {
              "color": "white"
             }
            },
            "type": "table"
           }
          ]
         },
         "layout": {
          "annotationdefaults": {
           "arrowcolor": "#2a3f5f",
           "arrowhead": 0,
           "arrowwidth": 1
          },
          "autotypenumbers": "strict",
          "coloraxis": {
           "colorbar": {
            "outlinewidth": 0,
            "ticks": ""
           }
          },
          "colorscale": {
           "diverging": [
            [
             0,
             "#8e0152"
            ],
            [
             0.1,
             "#c51b7d"
            ],
            [
             0.2,
             "#de77ae"
            ],
            [
             0.3,
             "#f1b6da"
            ],
            [
             0.4,
             "#fde0ef"
            ],
            [
             0.5,
             "#f7f7f7"
            ],
            [
             0.6,
             "#e6f5d0"
            ],
            [
             0.7,
             "#b8e186"
            ],
            [
             0.8,
             "#7fbc41"
            ],
            [
             0.9,
             "#4d9221"
            ],
            [
             1,
             "#276419"
            ]
           ],
           "sequential": [
            [
             0,
             "#0d0887"
            ],
            [
             0.1111111111111111,
             "#46039f"
            ],
            [
             0.2222222222222222,
             "#7201a8"
            ],
            [
             0.3333333333333333,
             "#9c179e"
            ],
            [
             0.4444444444444444,
             "#bd3786"
            ],
            [
             0.5555555555555556,
             "#d8576b"
            ],
            [
             0.6666666666666666,
             "#ed7953"
            ],
            [
             0.7777777777777778,
             "#fb9f3a"
            ],
            [
             0.8888888888888888,
             "#fdca26"
            ],
            [
             1,
             "#f0f921"
            ]
           ],
           "sequentialminus": [
            [
             0,
             "#0d0887"
            ],
            [
             0.1111111111111111,
             "#46039f"
            ],
            [
             0.2222222222222222,
             "#7201a8"
            ],
            [
             0.3333333333333333,
             "#9c179e"
            ],
            [
             0.4444444444444444,
             "#bd3786"
            ],
            [
             0.5555555555555556,
             "#d8576b"
            ],
            [
             0.6666666666666666,
             "#ed7953"
            ],
            [
             0.7777777777777778,
             "#fb9f3a"
            ],
            [
             0.8888888888888888,
             "#fdca26"
            ],
            [
             1,
             "#f0f921"
            ]
           ]
          },
          "colorway": [
           "#636efa",
           "#EF553B",
           "#00cc96",
           "#ab63fa",
           "#FFA15A",
           "#19d3f3",
           "#FF6692",
           "#B6E880",
           "#FF97FF",
           "#FECB52"
          ],
          "font": {
           "color": "#2a3f5f"
          },
          "geo": {
           "bgcolor": "white",
           "lakecolor": "white",
           "landcolor": "#E5ECF6",
           "showlakes": true,
           "showland": true,
           "subunitcolor": "white"
          },
          "hoverlabel": {
           "align": "left"
          },
          "hovermode": "closest",
          "mapbox": {
           "style": "light"
          },
          "paper_bgcolor": "white",
          "plot_bgcolor": "#E5ECF6",
          "polar": {
           "angularaxis": {
            "gridcolor": "white",
            "linecolor": "white",
            "ticks": ""
           },
           "bgcolor": "#E5ECF6",
           "radialaxis": {
            "gridcolor": "white",
            "linecolor": "white",
            "ticks": ""
           }
          },
          "scene": {
           "xaxis": {
            "backgroundcolor": "#E5ECF6",
            "gridcolor": "white",
            "gridwidth": 2,
            "linecolor": "white",
            "showbackground": true,
            "ticks": "",
            "zerolinecolor": "white"
           },
           "yaxis": {
            "backgroundcolor": "#E5ECF6",
            "gridcolor": "white",
            "gridwidth": 2,
            "linecolor": "white",
            "showbackground": true,
            "ticks": "",
            "zerolinecolor": "white"
           },
           "zaxis": {
            "backgroundcolor": "#E5ECF6",
            "gridcolor": "white",
            "gridwidth": 2,
            "linecolor": "white",
            "showbackground": true,
            "ticks": "",
            "zerolinecolor": "white"
           }
          },
          "shapedefaults": {
           "line": {
            "color": "#2a3f5f"
           }
          },
          "ternary": {
           "aaxis": {
            "gridcolor": "white",
            "linecolor": "white",
            "ticks": ""
           },
           "baxis": {
            "gridcolor": "white",
            "linecolor": "white",
            "ticks": ""
           },
           "bgcolor": "#E5ECF6",
           "caxis": {
            "gridcolor": "white",
            "linecolor": "white",
            "ticks": ""
           }
          },
          "title": {
           "x": 0.05
          },
          "xaxis": {
           "automargin": true,
           "gridcolor": "white",
           "linecolor": "white",
           "ticks": "",
           "title": {
            "standoff": 15
           },
           "zerolinecolor": "white",
           "zerolinewidth": 2
          },
          "yaxis": {
           "automargin": true,
           "gridcolor": "white",
           "linecolor": "white",
           "ticks": "",
           "title": {
            "standoff": 15
           },
           "zerolinecolor": "white",
           "zerolinewidth": 2
          }
         }
        },
        "title": {
         "font": {
          "color": "#4D5663"
         },
         "text": "Top 10 Scoring Batsmans"
        },
        "xaxis": {
         "gridcolor": "#E1E5ED",
         "showgrid": true,
         "tickfont": {
          "color": "#4D5663"
         },
         "title": {
          "font": {
           "color": "#4D5663"
          },
          "text": "Batsman Name"
         },
         "zerolinecolor": "#E1E5ED"
        },
        "yaxis": {
         "gridcolor": "#E1E5ED",
         "showgrid": true,
         "tickfont": {
          "color": "#4D5663"
         },
         "title": {
          "font": {
           "color": "#4D5663"
          },
          "text": "Total Runs"
         },
         "zerolinecolor": "#E1E5ED"
        }
       }
      },
      "text/html": [
       "<div>                            <div id=\"31a0142b-e5d4-44d5-ab17-856a36c645bc\" class=\"plotly-graph-div\" style=\"height:525px; width:100%;\"></div>            <script type=\"text/javascript\">                require([\"plotly\"], function(Plotly) {                    window.PLOTLYENV=window.PLOTLYENV || {};\n",
       "                    window.PLOTLYENV.BASE_URL='https://plot.ly';                                    if (document.getElementById(\"31a0142b-e5d4-44d5-ab17-856a36c645bc\")) {                    Plotly.newPlot(                        \"31a0142b-e5d4-44d5-ab17-856a36c645bc\",                        [{\"line\": {\"color\": \"rgba(255, 153, 51, 1.0)\", \"dash\": \"solid\", \"shape\": \"linear\", \"width\": 1.3}, \"marker\": {\"size\": 10, \"symbol\": \"circle\"}, \"mode\": \"markers\", \"name\": \"batsman_runs\", \"text\": \"\", \"type\": \"scatter\", \"x\": [\"V Kohli\", \"SK Raina\", \"RG Sharma\", \"DA Warner\", \"S Dhawan\", \"CH Gayle\", \"MS Dhoni\", \"RV Uthappa\", \"AB de Villiers\", \"G Gambhir\"], \"y\": [5434, 5415, 4914, 4741, 4632, 4560, 4477, 4446, 4428, 4223]}],                        {\"legend\": {\"bgcolor\": \"#F5F6F9\", \"font\": {\"color\": \"#4D5663\"}}, \"paper_bgcolor\": \"#F5F6F9\", \"plot_bgcolor\": \"#F5F6F9\", \"template\": {\"data\": {\"bar\": [{\"error_x\": {\"color\": \"#2a3f5f\"}, \"error_y\": {\"color\": \"#2a3f5f\"}, \"marker\": {\"line\": {\"color\": \"#E5ECF6\", \"width\": 0.5}}, \"type\": \"bar\"}], \"barpolar\": [{\"marker\": {\"line\": {\"color\": \"#E5ECF6\", \"width\": 0.5}}, \"type\": \"barpolar\"}], \"carpet\": [{\"aaxis\": {\"endlinecolor\": \"#2a3f5f\", \"gridcolor\": \"white\", \"linecolor\": \"white\", \"minorgridcolor\": \"white\", \"startlinecolor\": \"#2a3f5f\"}, \"baxis\": {\"endlinecolor\": \"#2a3f5f\", \"gridcolor\": \"white\", \"linecolor\": \"white\", \"minorgridcolor\": \"white\", \"startlinecolor\": \"#2a3f5f\"}, \"type\": \"carpet\"}], \"choropleth\": [{\"colorbar\": {\"outlinewidth\": 0, \"ticks\": \"\"}, \"type\": \"choropleth\"}], \"contour\": [{\"colorbar\": {\"outlinewidth\": 0, \"ticks\": \"\"}, \"colorscale\": [[0.0, \"#0d0887\"], [0.1111111111111111, \"#46039f\"], [0.2222222222222222, \"#7201a8\"], [0.3333333333333333, \"#9c179e\"], [0.4444444444444444, \"#bd3786\"], [0.5555555555555556, \"#d8576b\"], [0.6666666666666666, \"#ed7953\"], [0.7777777777777778, \"#fb9f3a\"], [0.8888888888888888, \"#fdca26\"], [1.0, \"#f0f921\"]], \"type\": \"contour\"}], \"contourcarpet\": [{\"colorbar\": {\"outlinewidth\": 0, \"ticks\": \"\"}, \"type\": \"contourcarpet\"}], \"heatmap\": [{\"colorbar\": {\"outlinewidth\": 0, \"ticks\": \"\"}, \"colorscale\": [[0.0, \"#0d0887\"], [0.1111111111111111, \"#46039f\"], [0.2222222222222222, \"#7201a8\"], [0.3333333333333333, \"#9c179e\"], [0.4444444444444444, \"#bd3786\"], [0.5555555555555556, \"#d8576b\"], [0.6666666666666666, \"#ed7953\"], [0.7777777777777778, \"#fb9f3a\"], [0.8888888888888888, \"#fdca26\"], [1.0, \"#f0f921\"]], \"type\": \"heatmap\"}], \"heatmapgl\": [{\"colorbar\": {\"outlinewidth\": 0, \"ticks\": \"\"}, \"colorscale\": [[0.0, \"#0d0887\"], [0.1111111111111111, \"#46039f\"], [0.2222222222222222, \"#7201a8\"], [0.3333333333333333, \"#9c179e\"], [0.4444444444444444, \"#bd3786\"], [0.5555555555555556, \"#d8576b\"], [0.6666666666666666, \"#ed7953\"], [0.7777777777777778, \"#fb9f3a\"], [0.8888888888888888, \"#fdca26\"], [1.0, \"#f0f921\"]], \"type\": \"heatmapgl\"}], \"histogram\": [{\"marker\": {\"colorbar\": {\"outlinewidth\": 0, \"ticks\": \"\"}}, \"type\": \"histogram\"}], \"histogram2d\": [{\"colorbar\": {\"outlinewidth\": 0, \"ticks\": \"\"}, \"colorscale\": [[0.0, \"#0d0887\"], [0.1111111111111111, \"#46039f\"], [0.2222222222222222, \"#7201a8\"], [0.3333333333333333, \"#9c179e\"], [0.4444444444444444, \"#bd3786\"], [0.5555555555555556, \"#d8576b\"], [0.6666666666666666, \"#ed7953\"], [0.7777777777777778, \"#fb9f3a\"], [0.8888888888888888, \"#fdca26\"], [1.0, \"#f0f921\"]], \"type\": \"histogram2d\"}], \"histogram2dcontour\": [{\"colorbar\": {\"outlinewidth\": 0, \"ticks\": \"\"}, \"colorscale\": [[0.0, \"#0d0887\"], [0.1111111111111111, \"#46039f\"], [0.2222222222222222, \"#7201a8\"], [0.3333333333333333, \"#9c179e\"], [0.4444444444444444, \"#bd3786\"], [0.5555555555555556, \"#d8576b\"], [0.6666666666666666, \"#ed7953\"], [0.7777777777777778, \"#fb9f3a\"], [0.8888888888888888, \"#fdca26\"], [1.0, \"#f0f921\"]], \"type\": \"histogram2dcontour\"}], \"mesh3d\": [{\"colorbar\": {\"outlinewidth\": 0, \"ticks\": \"\"}, \"type\": \"mesh3d\"}], \"parcoords\": [{\"line\": {\"colorbar\": {\"outlinewidth\": 0, \"ticks\": \"\"}}, \"type\": \"parcoords\"}], \"pie\": [{\"automargin\": true, \"type\": \"pie\"}], \"scatter\": [{\"marker\": {\"colorbar\": {\"outlinewidth\": 0, \"ticks\": \"\"}}, \"type\": \"scatter\"}], \"scatter3d\": [{\"line\": {\"colorbar\": {\"outlinewidth\": 0, \"ticks\": \"\"}}, \"marker\": {\"colorbar\": {\"outlinewidth\": 0, \"ticks\": \"\"}}, \"type\": \"scatter3d\"}], \"scattercarpet\": [{\"marker\": {\"colorbar\": {\"outlinewidth\": 0, \"ticks\": \"\"}}, \"type\": \"scattercarpet\"}], \"scattergeo\": [{\"marker\": {\"colorbar\": {\"outlinewidth\": 0, \"ticks\": \"\"}}, \"type\": \"scattergeo\"}], \"scattergl\": [{\"marker\": {\"colorbar\": {\"outlinewidth\": 0, \"ticks\": \"\"}}, \"type\": \"scattergl\"}], \"scattermapbox\": [{\"marker\": {\"colorbar\": {\"outlinewidth\": 0, \"ticks\": \"\"}}, \"type\": \"scattermapbox\"}], \"scatterpolar\": [{\"marker\": {\"colorbar\": {\"outlinewidth\": 0, \"ticks\": \"\"}}, \"type\": \"scatterpolar\"}], \"scatterpolargl\": [{\"marker\": {\"colorbar\": {\"outlinewidth\": 0, \"ticks\": \"\"}}, \"type\": \"scatterpolargl\"}], \"scatterternary\": [{\"marker\": {\"colorbar\": {\"outlinewidth\": 0, \"ticks\": \"\"}}, \"type\": \"scatterternary\"}], \"surface\": [{\"colorbar\": {\"outlinewidth\": 0, \"ticks\": \"\"}, \"colorscale\": [[0.0, \"#0d0887\"], [0.1111111111111111, \"#46039f\"], [0.2222222222222222, \"#7201a8\"], [0.3333333333333333, \"#9c179e\"], [0.4444444444444444, \"#bd3786\"], [0.5555555555555556, \"#d8576b\"], [0.6666666666666666, \"#ed7953\"], [0.7777777777777778, \"#fb9f3a\"], [0.8888888888888888, \"#fdca26\"], [1.0, \"#f0f921\"]], \"type\": \"surface\"}], \"table\": [{\"cells\": {\"fill\": {\"color\": \"#EBF0F8\"}, \"line\": {\"color\": \"white\"}}, \"header\": {\"fill\": {\"color\": \"#C8D4E3\"}, \"line\": {\"color\": \"white\"}}, \"type\": \"table\"}]}, \"layout\": {\"annotationdefaults\": {\"arrowcolor\": \"#2a3f5f\", \"arrowhead\": 0, \"arrowwidth\": 1}, \"autotypenumbers\": \"strict\", \"coloraxis\": {\"colorbar\": {\"outlinewidth\": 0, \"ticks\": \"\"}}, \"colorscale\": {\"diverging\": [[0, \"#8e0152\"], [0.1, \"#c51b7d\"], [0.2, \"#de77ae\"], [0.3, \"#f1b6da\"], [0.4, \"#fde0ef\"], [0.5, \"#f7f7f7\"], [0.6, \"#e6f5d0\"], [0.7, \"#b8e186\"], [0.8, \"#7fbc41\"], [0.9, \"#4d9221\"], [1, \"#276419\"]], \"sequential\": [[0.0, \"#0d0887\"], [0.1111111111111111, \"#46039f\"], [0.2222222222222222, \"#7201a8\"], [0.3333333333333333, \"#9c179e\"], [0.4444444444444444, \"#bd3786\"], [0.5555555555555556, \"#d8576b\"], [0.6666666666666666, \"#ed7953\"], [0.7777777777777778, \"#fb9f3a\"], [0.8888888888888888, \"#fdca26\"], [1.0, \"#f0f921\"]], \"sequentialminus\": [[0.0, \"#0d0887\"], [0.1111111111111111, \"#46039f\"], [0.2222222222222222, \"#7201a8\"], [0.3333333333333333, \"#9c179e\"], [0.4444444444444444, \"#bd3786\"], [0.5555555555555556, \"#d8576b\"], [0.6666666666666666, \"#ed7953\"], [0.7777777777777778, \"#fb9f3a\"], [0.8888888888888888, \"#fdca26\"], [1.0, \"#f0f921\"]]}, \"colorway\": [\"#636efa\", \"#EF553B\", \"#00cc96\", \"#ab63fa\", \"#FFA15A\", \"#19d3f3\", \"#FF6692\", \"#B6E880\", \"#FF97FF\", \"#FECB52\"], \"font\": {\"color\": \"#2a3f5f\"}, \"geo\": {\"bgcolor\": \"white\", \"lakecolor\": \"white\", \"landcolor\": \"#E5ECF6\", \"showlakes\": true, \"showland\": true, \"subunitcolor\": \"white\"}, \"hoverlabel\": {\"align\": \"left\"}, \"hovermode\": \"closest\", \"mapbox\": {\"style\": \"light\"}, \"paper_bgcolor\": \"white\", \"plot_bgcolor\": \"#E5ECF6\", \"polar\": {\"angularaxis\": {\"gridcolor\": \"white\", \"linecolor\": \"white\", \"ticks\": \"\"}, \"bgcolor\": \"#E5ECF6\", \"radialaxis\": {\"gridcolor\": \"white\", \"linecolor\": \"white\", \"ticks\": \"\"}}, \"scene\": {\"xaxis\": {\"backgroundcolor\": \"#E5ECF6\", \"gridcolor\": \"white\", \"gridwidth\": 2, \"linecolor\": \"white\", \"showbackground\": true, \"ticks\": \"\", \"zerolinecolor\": \"white\"}, \"yaxis\": {\"backgroundcolor\": \"#E5ECF6\", \"gridcolor\": \"white\", \"gridwidth\": 2, \"linecolor\": \"white\", \"showbackground\": true, \"ticks\": \"\", \"zerolinecolor\": \"white\"}, \"zaxis\": {\"backgroundcolor\": \"#E5ECF6\", \"gridcolor\": \"white\", \"gridwidth\": 2, \"linecolor\": \"white\", \"showbackground\": true, \"ticks\": \"\", \"zerolinecolor\": \"white\"}}, \"shapedefaults\": {\"line\": {\"color\": \"#2a3f5f\"}}, \"ternary\": {\"aaxis\": {\"gridcolor\": \"white\", \"linecolor\": \"white\", \"ticks\": \"\"}, \"baxis\": {\"gridcolor\": \"white\", \"linecolor\": \"white\", \"ticks\": \"\"}, \"bgcolor\": \"#E5ECF6\", \"caxis\": {\"gridcolor\": \"white\", \"linecolor\": \"white\", \"ticks\": \"\"}}, \"title\": {\"x\": 0.05}, \"xaxis\": {\"automargin\": true, \"gridcolor\": \"white\", \"linecolor\": \"white\", \"ticks\": \"\", \"title\": {\"standoff\": 15}, \"zerolinecolor\": \"white\", \"zerolinewidth\": 2}, \"yaxis\": {\"automargin\": true, \"gridcolor\": \"white\", \"linecolor\": \"white\", \"ticks\": \"\", \"title\": {\"standoff\": 15}, \"zerolinecolor\": \"white\", \"zerolinewidth\": 2}}}, \"title\": {\"font\": {\"color\": \"#4D5663\"}, \"text\": \"Top 10 Scoring Batsmans\"}, \"xaxis\": {\"gridcolor\": \"#E1E5ED\", \"showgrid\": true, \"tickfont\": {\"color\": \"#4D5663\"}, \"title\": {\"font\": {\"color\": \"#4D5663\"}, \"text\": \"Batsman Name\"}, \"zerolinecolor\": \"#E1E5ED\"}, \"yaxis\": {\"gridcolor\": \"#E1E5ED\", \"showgrid\": true, \"tickfont\": {\"color\": \"#4D5663\"}, \"title\": {\"font\": {\"color\": \"#4D5663\"}, \"text\": \"Total Runs\"}, \"zerolinecolor\": \"#E1E5ED\"}},                        {\"showLink\": true, \"linkText\": \"Export to plot.ly\", \"plotlyServerURL\": \"https://plot.ly\", \"responsive\": true}                    ).then(function(){\n",
       "                            \n",
       "var gd = document.getElementById('31a0142b-e5d4-44d5-ab17-856a36c645bc');\n",
       "var x = new MutationObserver(function (mutations, observer) {{\n",
       "        var display = window.getComputedStyle(gd).display;\n",
       "        if (!display || display === 'none') {{\n",
       "            console.log([gd, 'removed!']);\n",
       "            Plotly.purge(gd);\n",
       "            observer.disconnect();\n",
       "        }}\n",
       "}});\n",
       "\n",
       "// Listen for the removal of the full notebook cells\n",
       "var notebookContainer = gd.closest('#notebook-container');\n",
       "if (notebookContainer) {{\n",
       "    x.observe(notebookContainer, {childList: true});\n",
       "}}\n",
       "\n",
       "// Listen for the clearing of the current output cell\n",
       "var outputEl = gd.closest('.output');\n",
       "if (outputEl) {{\n",
       "    x.observe(outputEl, {childList: true});\n",
       "}}\n",
       "\n",
       "                        })                };                });            </script>        </div>"
      ]
     },
     "metadata": {},
     "output_type": "display_data"
    }
   ],
   "source": [
    "strike_rate[:10].iplot(kind='scatter',x='batsman',y='batsman_runs',title='Top 10 Scoring Batsmans',\n",
    "                       mode='markers',size=10,xTitle='Batsman Name',yTitle='Total Runs')"
   ]
  },
  {
   "cell_type": "code",
   "execution_count": 36,
   "id": "complex-branch",
   "metadata": {},
   "outputs": [],
   "source": [
    "# plt.figure(figsize=(12,10))\n",
    "# sns.scatterplot(x='batsman', y ='ball', data = strike_rate[:10], hue ='Strike Rate',alpha =1 )"
   ]
  },
  {
   "cell_type": "code",
   "execution_count": 37,
   "id": "linear-capacity",
   "metadata": {
    "scrolled": false
   },
   "outputs": [
    {
     "data": {
      "application/vnd.plotly.v1+json": {
       "config": {
        "linkText": "Export to plot.ly",
        "plotlyServerURL": "https://plot.ly",
        "showLink": true
       },
       "data": [
        {
         "line": {
          "color": "rgba(255, 153, 51, 1.0)",
          "dash": "solid",
          "shape": "linear",
          "width": 1.3
         },
         "mode": "lines",
         "name": "batsman_runs",
         "text": "",
         "type": "scatter",
         "x": [
          "V Kohli",
          "SK Raina",
          "RG Sharma",
          "DA Warner",
          "S Dhawan",
          "CH Gayle",
          "MS Dhoni",
          "RV Uthappa",
          "AB de Villiers",
          "G Gambhir"
         ],
         "y": [
          5434,
          5415,
          4914,
          4741,
          4632,
          4560,
          4477,
          4446,
          4428,
          4223
         ]
        },
        {
         "line": {
          "color": "rgba(55, 128, 191, 1.0)",
          "dash": "solid",
          "shape": "linear",
          "width": 1.3
         },
         "mode": "lines",
         "name": "ball",
         "text": "",
         "type": "scatter",
         "x": [
          "V Kohli",
          "SK Raina",
          "RG Sharma",
          "DA Warner",
          "S Dhawan",
          "CH Gayle",
          "MS Dhoni",
          "RV Uthappa",
          "AB de Villiers",
          "G Gambhir"
         ],
         "y": [
          4211,
          4044,
          3816,
          3398,
          3776,
          3131,
          3318,
          3492,
          2977,
          3524
         ]
        }
       ],
       "layout": {
        "legend": {
         "bgcolor": "#F5F6F9",
         "font": {
          "color": "#4D5663"
         }
        },
        "paper_bgcolor": "#F5F6F9",
        "plot_bgcolor": "#F5F6F9",
        "template": {
         "data": {
          "bar": [
           {
            "error_x": {
             "color": "#2a3f5f"
            },
            "error_y": {
             "color": "#2a3f5f"
            },
            "marker": {
             "line": {
              "color": "#E5ECF6",
              "width": 0.5
             }
            },
            "type": "bar"
           }
          ],
          "barpolar": [
           {
            "marker": {
             "line": {
              "color": "#E5ECF6",
              "width": 0.5
             }
            },
            "type": "barpolar"
           }
          ],
          "carpet": [
           {
            "aaxis": {
             "endlinecolor": "#2a3f5f",
             "gridcolor": "white",
             "linecolor": "white",
             "minorgridcolor": "white",
             "startlinecolor": "#2a3f5f"
            },
            "baxis": {
             "endlinecolor": "#2a3f5f",
             "gridcolor": "white",
             "linecolor": "white",
             "minorgridcolor": "white",
             "startlinecolor": "#2a3f5f"
            },
            "type": "carpet"
           }
          ],
          "choropleth": [
           {
            "colorbar": {
             "outlinewidth": 0,
             "ticks": ""
            },
            "type": "choropleth"
           }
          ],
          "contour": [
           {
            "colorbar": {
             "outlinewidth": 0,
             "ticks": ""
            },
            "colorscale": [
             [
              0,
              "#0d0887"
             ],
             [
              0.1111111111111111,
              "#46039f"
             ],
             [
              0.2222222222222222,
              "#7201a8"
             ],
             [
              0.3333333333333333,
              "#9c179e"
             ],
             [
              0.4444444444444444,
              "#bd3786"
             ],
             [
              0.5555555555555556,
              "#d8576b"
             ],
             [
              0.6666666666666666,
              "#ed7953"
             ],
             [
              0.7777777777777778,
              "#fb9f3a"
             ],
             [
              0.8888888888888888,
              "#fdca26"
             ],
             [
              1,
              "#f0f921"
             ]
            ],
            "type": "contour"
           }
          ],
          "contourcarpet": [
           {
            "colorbar": {
             "outlinewidth": 0,
             "ticks": ""
            },
            "type": "contourcarpet"
           }
          ],
          "heatmap": [
           {
            "colorbar": {
             "outlinewidth": 0,
             "ticks": ""
            },
            "colorscale": [
             [
              0,
              "#0d0887"
             ],
             [
              0.1111111111111111,
              "#46039f"
             ],
             [
              0.2222222222222222,
              "#7201a8"
             ],
             [
              0.3333333333333333,
              "#9c179e"
             ],
             [
              0.4444444444444444,
              "#bd3786"
             ],
             [
              0.5555555555555556,
              "#d8576b"
             ],
             [
              0.6666666666666666,
              "#ed7953"
             ],
             [
              0.7777777777777778,
              "#fb9f3a"
             ],
             [
              0.8888888888888888,
              "#fdca26"
             ],
             [
              1,
              "#f0f921"
             ]
            ],
            "type": "heatmap"
           }
          ],
          "heatmapgl": [
           {
            "colorbar": {
             "outlinewidth": 0,
             "ticks": ""
            },
            "colorscale": [
             [
              0,
              "#0d0887"
             ],
             [
              0.1111111111111111,
              "#46039f"
             ],
             [
              0.2222222222222222,
              "#7201a8"
             ],
             [
              0.3333333333333333,
              "#9c179e"
             ],
             [
              0.4444444444444444,
              "#bd3786"
             ],
             [
              0.5555555555555556,
              "#d8576b"
             ],
             [
              0.6666666666666666,
              "#ed7953"
             ],
             [
              0.7777777777777778,
              "#fb9f3a"
             ],
             [
              0.8888888888888888,
              "#fdca26"
             ],
             [
              1,
              "#f0f921"
             ]
            ],
            "type": "heatmapgl"
           }
          ],
          "histogram": [
           {
            "marker": {
             "colorbar": {
              "outlinewidth": 0,
              "ticks": ""
             }
            },
            "type": "histogram"
           }
          ],
          "histogram2d": [
           {
            "colorbar": {
             "outlinewidth": 0,
             "ticks": ""
            },
            "colorscale": [
             [
              0,
              "#0d0887"
             ],
             [
              0.1111111111111111,
              "#46039f"
             ],
             [
              0.2222222222222222,
              "#7201a8"
             ],
             [
              0.3333333333333333,
              "#9c179e"
             ],
             [
              0.4444444444444444,
              "#bd3786"
             ],
             [
              0.5555555555555556,
              "#d8576b"
             ],
             [
              0.6666666666666666,
              "#ed7953"
             ],
             [
              0.7777777777777778,
              "#fb9f3a"
             ],
             [
              0.8888888888888888,
              "#fdca26"
             ],
             [
              1,
              "#f0f921"
             ]
            ],
            "type": "histogram2d"
           }
          ],
          "histogram2dcontour": [
           {
            "colorbar": {
             "outlinewidth": 0,
             "ticks": ""
            },
            "colorscale": [
             [
              0,
              "#0d0887"
             ],
             [
              0.1111111111111111,
              "#46039f"
             ],
             [
              0.2222222222222222,
              "#7201a8"
             ],
             [
              0.3333333333333333,
              "#9c179e"
             ],
             [
              0.4444444444444444,
              "#bd3786"
             ],
             [
              0.5555555555555556,
              "#d8576b"
             ],
             [
              0.6666666666666666,
              "#ed7953"
             ],
             [
              0.7777777777777778,
              "#fb9f3a"
             ],
             [
              0.8888888888888888,
              "#fdca26"
             ],
             [
              1,
              "#f0f921"
             ]
            ],
            "type": "histogram2dcontour"
           }
          ],
          "mesh3d": [
           {
            "colorbar": {
             "outlinewidth": 0,
             "ticks": ""
            },
            "type": "mesh3d"
           }
          ],
          "parcoords": [
           {
            "line": {
             "colorbar": {
              "outlinewidth": 0,
              "ticks": ""
             }
            },
            "type": "parcoords"
           }
          ],
          "pie": [
           {
            "automargin": true,
            "type": "pie"
           }
          ],
          "scatter": [
           {
            "marker": {
             "colorbar": {
              "outlinewidth": 0,
              "ticks": ""
             }
            },
            "type": "scatter"
           }
          ],
          "scatter3d": [
           {
            "line": {
             "colorbar": {
              "outlinewidth": 0,
              "ticks": ""
             }
            },
            "marker": {
             "colorbar": {
              "outlinewidth": 0,
              "ticks": ""
             }
            },
            "type": "scatter3d"
           }
          ],
          "scattercarpet": [
           {
            "marker": {
             "colorbar": {
              "outlinewidth": 0,
              "ticks": ""
             }
            },
            "type": "scattercarpet"
           }
          ],
          "scattergeo": [
           {
            "marker": {
             "colorbar": {
              "outlinewidth": 0,
              "ticks": ""
             }
            },
            "type": "scattergeo"
           }
          ],
          "scattergl": [
           {
            "marker": {
             "colorbar": {
              "outlinewidth": 0,
              "ticks": ""
             }
            },
            "type": "scattergl"
           }
          ],
          "scattermapbox": [
           {
            "marker": {
             "colorbar": {
              "outlinewidth": 0,
              "ticks": ""
             }
            },
            "type": "scattermapbox"
           }
          ],
          "scatterpolar": [
           {
            "marker": {
             "colorbar": {
              "outlinewidth": 0,
              "ticks": ""
             }
            },
            "type": "scatterpolar"
           }
          ],
          "scatterpolargl": [
           {
            "marker": {
             "colorbar": {
              "outlinewidth": 0,
              "ticks": ""
             }
            },
            "type": "scatterpolargl"
           }
          ],
          "scatterternary": [
           {
            "marker": {
             "colorbar": {
              "outlinewidth": 0,
              "ticks": ""
             }
            },
            "type": "scatterternary"
           }
          ],
          "surface": [
           {
            "colorbar": {
             "outlinewidth": 0,
             "ticks": ""
            },
            "colorscale": [
             [
              0,
              "#0d0887"
             ],
             [
              0.1111111111111111,
              "#46039f"
             ],
             [
              0.2222222222222222,
              "#7201a8"
             ],
             [
              0.3333333333333333,
              "#9c179e"
             ],
             [
              0.4444444444444444,
              "#bd3786"
             ],
             [
              0.5555555555555556,
              "#d8576b"
             ],
             [
              0.6666666666666666,
              "#ed7953"
             ],
             [
              0.7777777777777778,
              "#fb9f3a"
             ],
             [
              0.8888888888888888,
              "#fdca26"
             ],
             [
              1,
              "#f0f921"
             ]
            ],
            "type": "surface"
           }
          ],
          "table": [
           {
            "cells": {
             "fill": {
              "color": "#EBF0F8"
             },
             "line": {
              "color": "white"
             }
            },
            "header": {
             "fill": {
              "color": "#C8D4E3"
             },
             "line": {
              "color": "white"
             }
            },
            "type": "table"
           }
          ]
         },
         "layout": {
          "annotationdefaults": {
           "arrowcolor": "#2a3f5f",
           "arrowhead": 0,
           "arrowwidth": 1
          },
          "autotypenumbers": "strict",
          "coloraxis": {
           "colorbar": {
            "outlinewidth": 0,
            "ticks": ""
           }
          },
          "colorscale": {
           "diverging": [
            [
             0,
             "#8e0152"
            ],
            [
             0.1,
             "#c51b7d"
            ],
            [
             0.2,
             "#de77ae"
            ],
            [
             0.3,
             "#f1b6da"
            ],
            [
             0.4,
             "#fde0ef"
            ],
            [
             0.5,
             "#f7f7f7"
            ],
            [
             0.6,
             "#e6f5d0"
            ],
            [
             0.7,
             "#b8e186"
            ],
            [
             0.8,
             "#7fbc41"
            ],
            [
             0.9,
             "#4d9221"
            ],
            [
             1,
             "#276419"
            ]
           ],
           "sequential": [
            [
             0,
             "#0d0887"
            ],
            [
             0.1111111111111111,
             "#46039f"
            ],
            [
             0.2222222222222222,
             "#7201a8"
            ],
            [
             0.3333333333333333,
             "#9c179e"
            ],
            [
             0.4444444444444444,
             "#bd3786"
            ],
            [
             0.5555555555555556,
             "#d8576b"
            ],
            [
             0.6666666666666666,
             "#ed7953"
            ],
            [
             0.7777777777777778,
             "#fb9f3a"
            ],
            [
             0.8888888888888888,
             "#fdca26"
            ],
            [
             1,
             "#f0f921"
            ]
           ],
           "sequentialminus": [
            [
             0,
             "#0d0887"
            ],
            [
             0.1111111111111111,
             "#46039f"
            ],
            [
             0.2222222222222222,
             "#7201a8"
            ],
            [
             0.3333333333333333,
             "#9c179e"
            ],
            [
             0.4444444444444444,
             "#bd3786"
            ],
            [
             0.5555555555555556,
             "#d8576b"
            ],
            [
             0.6666666666666666,
             "#ed7953"
            ],
            [
             0.7777777777777778,
             "#fb9f3a"
            ],
            [
             0.8888888888888888,
             "#fdca26"
            ],
            [
             1,
             "#f0f921"
            ]
           ]
          },
          "colorway": [
           "#636efa",
           "#EF553B",
           "#00cc96",
           "#ab63fa",
           "#FFA15A",
           "#19d3f3",
           "#FF6692",
           "#B6E880",
           "#FF97FF",
           "#FECB52"
          ],
          "font": {
           "color": "#2a3f5f"
          },
          "geo": {
           "bgcolor": "white",
           "lakecolor": "white",
           "landcolor": "#E5ECF6",
           "showlakes": true,
           "showland": true,
           "subunitcolor": "white"
          },
          "hoverlabel": {
           "align": "left"
          },
          "hovermode": "closest",
          "mapbox": {
           "style": "light"
          },
          "paper_bgcolor": "white",
          "plot_bgcolor": "#E5ECF6",
          "polar": {
           "angularaxis": {
            "gridcolor": "white",
            "linecolor": "white",
            "ticks": ""
           },
           "bgcolor": "#E5ECF6",
           "radialaxis": {
            "gridcolor": "white",
            "linecolor": "white",
            "ticks": ""
           }
          },
          "scene": {
           "xaxis": {
            "backgroundcolor": "#E5ECF6",
            "gridcolor": "white",
            "gridwidth": 2,
            "linecolor": "white",
            "showbackground": true,
            "ticks": "",
            "zerolinecolor": "white"
           },
           "yaxis": {
            "backgroundcolor": "#E5ECF6",
            "gridcolor": "white",
            "gridwidth": 2,
            "linecolor": "white",
            "showbackground": true,
            "ticks": "",
            "zerolinecolor": "white"
           },
           "zaxis": {
            "backgroundcolor": "#E5ECF6",
            "gridcolor": "white",
            "gridwidth": 2,
            "linecolor": "white",
            "showbackground": true,
            "ticks": "",
            "zerolinecolor": "white"
           }
          },
          "shapedefaults": {
           "line": {
            "color": "#2a3f5f"
           }
          },
          "ternary": {
           "aaxis": {
            "gridcolor": "white",
            "linecolor": "white",
            "ticks": ""
           },
           "baxis": {
            "gridcolor": "white",
            "linecolor": "white",
            "ticks": ""
           },
           "bgcolor": "#E5ECF6",
           "caxis": {
            "gridcolor": "white",
            "linecolor": "white",
            "ticks": ""
           }
          },
          "title": {
           "x": 0.05
          },
          "xaxis": {
           "automargin": true,
           "gridcolor": "white",
           "linecolor": "white",
           "ticks": "",
           "title": {
            "standoff": 15
           },
           "zerolinecolor": "white",
           "zerolinewidth": 2
          },
          "yaxis": {
           "automargin": true,
           "gridcolor": "white",
           "linecolor": "white",
           "ticks": "",
           "title": {
            "standoff": 15
           },
           "zerolinecolor": "white",
           "zerolinewidth": 2
          }
         }
        },
        "title": {
         "font": {
          "color": "#4D5663"
         },
         "text": "Top 10 Scoring Batsmans with balls they have faced"
        },
        "xaxis": {
         "gridcolor": "#E1E5ED",
         "showgrid": true,
         "tickfont": {
          "color": "#4D5663"
         },
         "title": {
          "font": {
           "color": "#4D5663"
          },
          "text": ""
         },
         "zerolinecolor": "#E1E5ED"
        },
        "yaxis": {
         "gridcolor": "#E1E5ED",
         "showgrid": true,
         "tickfont": {
          "color": "#4D5663"
         },
         "title": {
          "font": {
           "color": "#4D5663"
          },
          "text": ""
         },
         "zerolinecolor": "#E1E5ED"
        }
       }
      },
      "text/html": [
       "<div>                            <div id=\"0c904859-2ab3-4ffa-ac02-93d0b0c8a645\" class=\"plotly-graph-div\" style=\"height:525px; width:100%;\"></div>            <script type=\"text/javascript\">                require([\"plotly\"], function(Plotly) {                    window.PLOTLYENV=window.PLOTLYENV || {};\n",
       "                    window.PLOTLYENV.BASE_URL='https://plot.ly';                                    if (document.getElementById(\"0c904859-2ab3-4ffa-ac02-93d0b0c8a645\")) {                    Plotly.newPlot(                        \"0c904859-2ab3-4ffa-ac02-93d0b0c8a645\",                        [{\"line\": {\"color\": \"rgba(255, 153, 51, 1.0)\", \"dash\": \"solid\", \"shape\": \"linear\", \"width\": 1.3}, \"mode\": \"lines\", \"name\": \"batsman_runs\", \"text\": \"\", \"type\": \"scatter\", \"x\": [\"V Kohli\", \"SK Raina\", \"RG Sharma\", \"DA Warner\", \"S Dhawan\", \"CH Gayle\", \"MS Dhoni\", \"RV Uthappa\", \"AB de Villiers\", \"G Gambhir\"], \"y\": [5434, 5415, 4914, 4741, 4632, 4560, 4477, 4446, 4428, 4223]}, {\"line\": {\"color\": \"rgba(55, 128, 191, 1.0)\", \"dash\": \"solid\", \"shape\": \"linear\", \"width\": 1.3}, \"mode\": \"lines\", \"name\": \"ball\", \"text\": \"\", \"type\": \"scatter\", \"x\": [\"V Kohli\", \"SK Raina\", \"RG Sharma\", \"DA Warner\", \"S Dhawan\", \"CH Gayle\", \"MS Dhoni\", \"RV Uthappa\", \"AB de Villiers\", \"G Gambhir\"], \"y\": [4211, 4044, 3816, 3398, 3776, 3131, 3318, 3492, 2977, 3524]}],                        {\"legend\": {\"bgcolor\": \"#F5F6F9\", \"font\": {\"color\": \"#4D5663\"}}, \"paper_bgcolor\": \"#F5F6F9\", \"plot_bgcolor\": \"#F5F6F9\", \"template\": {\"data\": {\"bar\": [{\"error_x\": {\"color\": \"#2a3f5f\"}, \"error_y\": {\"color\": \"#2a3f5f\"}, \"marker\": {\"line\": {\"color\": \"#E5ECF6\", \"width\": 0.5}}, \"type\": \"bar\"}], \"barpolar\": [{\"marker\": {\"line\": {\"color\": \"#E5ECF6\", \"width\": 0.5}}, \"type\": \"barpolar\"}], \"carpet\": [{\"aaxis\": {\"endlinecolor\": \"#2a3f5f\", \"gridcolor\": \"white\", \"linecolor\": \"white\", \"minorgridcolor\": \"white\", \"startlinecolor\": \"#2a3f5f\"}, \"baxis\": {\"endlinecolor\": \"#2a3f5f\", \"gridcolor\": \"white\", \"linecolor\": \"white\", \"minorgridcolor\": \"white\", \"startlinecolor\": \"#2a3f5f\"}, \"type\": \"carpet\"}], \"choropleth\": [{\"colorbar\": {\"outlinewidth\": 0, \"ticks\": \"\"}, \"type\": \"choropleth\"}], \"contour\": [{\"colorbar\": {\"outlinewidth\": 0, \"ticks\": \"\"}, \"colorscale\": [[0.0, \"#0d0887\"], [0.1111111111111111, \"#46039f\"], [0.2222222222222222, \"#7201a8\"], [0.3333333333333333, \"#9c179e\"], [0.4444444444444444, \"#bd3786\"], [0.5555555555555556, \"#d8576b\"], [0.6666666666666666, \"#ed7953\"], [0.7777777777777778, \"#fb9f3a\"], [0.8888888888888888, \"#fdca26\"], [1.0, \"#f0f921\"]], \"type\": \"contour\"}], \"contourcarpet\": [{\"colorbar\": {\"outlinewidth\": 0, \"ticks\": \"\"}, \"type\": \"contourcarpet\"}], \"heatmap\": [{\"colorbar\": {\"outlinewidth\": 0, \"ticks\": \"\"}, \"colorscale\": [[0.0, \"#0d0887\"], [0.1111111111111111, \"#46039f\"], [0.2222222222222222, \"#7201a8\"], [0.3333333333333333, \"#9c179e\"], [0.4444444444444444, \"#bd3786\"], [0.5555555555555556, \"#d8576b\"], [0.6666666666666666, \"#ed7953\"], [0.7777777777777778, \"#fb9f3a\"], [0.8888888888888888, \"#fdca26\"], [1.0, \"#f0f921\"]], \"type\": \"heatmap\"}], \"heatmapgl\": [{\"colorbar\": {\"outlinewidth\": 0, \"ticks\": \"\"}, \"colorscale\": [[0.0, \"#0d0887\"], [0.1111111111111111, \"#46039f\"], [0.2222222222222222, \"#7201a8\"], [0.3333333333333333, \"#9c179e\"], [0.4444444444444444, \"#bd3786\"], [0.5555555555555556, \"#d8576b\"], [0.6666666666666666, \"#ed7953\"], [0.7777777777777778, \"#fb9f3a\"], [0.8888888888888888, \"#fdca26\"], [1.0, \"#f0f921\"]], \"type\": \"heatmapgl\"}], \"histogram\": [{\"marker\": {\"colorbar\": {\"outlinewidth\": 0, \"ticks\": \"\"}}, \"type\": \"histogram\"}], \"histogram2d\": [{\"colorbar\": {\"outlinewidth\": 0, \"ticks\": \"\"}, \"colorscale\": [[0.0, \"#0d0887\"], [0.1111111111111111, \"#46039f\"], [0.2222222222222222, \"#7201a8\"], [0.3333333333333333, \"#9c179e\"], [0.4444444444444444, \"#bd3786\"], [0.5555555555555556, \"#d8576b\"], [0.6666666666666666, \"#ed7953\"], [0.7777777777777778, \"#fb9f3a\"], [0.8888888888888888, \"#fdca26\"], [1.0, \"#f0f921\"]], \"type\": \"histogram2d\"}], \"histogram2dcontour\": [{\"colorbar\": {\"outlinewidth\": 0, \"ticks\": \"\"}, \"colorscale\": [[0.0, \"#0d0887\"], [0.1111111111111111, \"#46039f\"], [0.2222222222222222, \"#7201a8\"], [0.3333333333333333, \"#9c179e\"], [0.4444444444444444, \"#bd3786\"], [0.5555555555555556, \"#d8576b\"], [0.6666666666666666, \"#ed7953\"], [0.7777777777777778, \"#fb9f3a\"], [0.8888888888888888, \"#fdca26\"], [1.0, \"#f0f921\"]], \"type\": \"histogram2dcontour\"}], \"mesh3d\": [{\"colorbar\": {\"outlinewidth\": 0, \"ticks\": \"\"}, \"type\": \"mesh3d\"}], \"parcoords\": [{\"line\": {\"colorbar\": {\"outlinewidth\": 0, \"ticks\": \"\"}}, \"type\": \"parcoords\"}], \"pie\": [{\"automargin\": true, \"type\": \"pie\"}], \"scatter\": [{\"marker\": {\"colorbar\": {\"outlinewidth\": 0, \"ticks\": \"\"}}, \"type\": \"scatter\"}], \"scatter3d\": [{\"line\": {\"colorbar\": {\"outlinewidth\": 0, \"ticks\": \"\"}}, \"marker\": {\"colorbar\": {\"outlinewidth\": 0, \"ticks\": \"\"}}, \"type\": \"scatter3d\"}], \"scattercarpet\": [{\"marker\": {\"colorbar\": {\"outlinewidth\": 0, \"ticks\": \"\"}}, \"type\": \"scattercarpet\"}], \"scattergeo\": [{\"marker\": {\"colorbar\": {\"outlinewidth\": 0, \"ticks\": \"\"}}, \"type\": \"scattergeo\"}], \"scattergl\": [{\"marker\": {\"colorbar\": {\"outlinewidth\": 0, \"ticks\": \"\"}}, \"type\": \"scattergl\"}], \"scattermapbox\": [{\"marker\": {\"colorbar\": {\"outlinewidth\": 0, \"ticks\": \"\"}}, \"type\": \"scattermapbox\"}], \"scatterpolar\": [{\"marker\": {\"colorbar\": {\"outlinewidth\": 0, \"ticks\": \"\"}}, \"type\": \"scatterpolar\"}], \"scatterpolargl\": [{\"marker\": {\"colorbar\": {\"outlinewidth\": 0, \"ticks\": \"\"}}, \"type\": \"scatterpolargl\"}], \"scatterternary\": [{\"marker\": {\"colorbar\": {\"outlinewidth\": 0, \"ticks\": \"\"}}, \"type\": \"scatterternary\"}], \"surface\": [{\"colorbar\": {\"outlinewidth\": 0, \"ticks\": \"\"}, \"colorscale\": [[0.0, \"#0d0887\"], [0.1111111111111111, \"#46039f\"], [0.2222222222222222, \"#7201a8\"], [0.3333333333333333, \"#9c179e\"], [0.4444444444444444, \"#bd3786\"], [0.5555555555555556, \"#d8576b\"], [0.6666666666666666, \"#ed7953\"], [0.7777777777777778, \"#fb9f3a\"], [0.8888888888888888, \"#fdca26\"], [1.0, \"#f0f921\"]], \"type\": \"surface\"}], \"table\": [{\"cells\": {\"fill\": {\"color\": \"#EBF0F8\"}, \"line\": {\"color\": \"white\"}}, \"header\": {\"fill\": {\"color\": \"#C8D4E3\"}, \"line\": {\"color\": \"white\"}}, \"type\": \"table\"}]}, \"layout\": {\"annotationdefaults\": {\"arrowcolor\": \"#2a3f5f\", \"arrowhead\": 0, \"arrowwidth\": 1}, \"autotypenumbers\": \"strict\", \"coloraxis\": {\"colorbar\": {\"outlinewidth\": 0, \"ticks\": \"\"}}, \"colorscale\": {\"diverging\": [[0, \"#8e0152\"], [0.1, \"#c51b7d\"], [0.2, \"#de77ae\"], [0.3, \"#f1b6da\"], [0.4, \"#fde0ef\"], [0.5, \"#f7f7f7\"], [0.6, \"#e6f5d0\"], [0.7, \"#b8e186\"], [0.8, \"#7fbc41\"], [0.9, \"#4d9221\"], [1, \"#276419\"]], \"sequential\": [[0.0, \"#0d0887\"], [0.1111111111111111, \"#46039f\"], [0.2222222222222222, \"#7201a8\"], [0.3333333333333333, \"#9c179e\"], [0.4444444444444444, \"#bd3786\"], [0.5555555555555556, \"#d8576b\"], [0.6666666666666666, \"#ed7953\"], [0.7777777777777778, \"#fb9f3a\"], [0.8888888888888888, \"#fdca26\"], [1.0, \"#f0f921\"]], \"sequentialminus\": [[0.0, \"#0d0887\"], [0.1111111111111111, \"#46039f\"], [0.2222222222222222, \"#7201a8\"], [0.3333333333333333, \"#9c179e\"], [0.4444444444444444, \"#bd3786\"], [0.5555555555555556, \"#d8576b\"], [0.6666666666666666, \"#ed7953\"], [0.7777777777777778, \"#fb9f3a\"], [0.8888888888888888, \"#fdca26\"], [1.0, \"#f0f921\"]]}, \"colorway\": [\"#636efa\", \"#EF553B\", \"#00cc96\", \"#ab63fa\", \"#FFA15A\", \"#19d3f3\", \"#FF6692\", \"#B6E880\", \"#FF97FF\", \"#FECB52\"], \"font\": {\"color\": \"#2a3f5f\"}, \"geo\": {\"bgcolor\": \"white\", \"lakecolor\": \"white\", \"landcolor\": \"#E5ECF6\", \"showlakes\": true, \"showland\": true, \"subunitcolor\": \"white\"}, \"hoverlabel\": {\"align\": \"left\"}, \"hovermode\": \"closest\", \"mapbox\": {\"style\": \"light\"}, \"paper_bgcolor\": \"white\", \"plot_bgcolor\": \"#E5ECF6\", \"polar\": {\"angularaxis\": {\"gridcolor\": \"white\", \"linecolor\": \"white\", \"ticks\": \"\"}, \"bgcolor\": \"#E5ECF6\", \"radialaxis\": {\"gridcolor\": \"white\", \"linecolor\": \"white\", \"ticks\": \"\"}}, \"scene\": {\"xaxis\": {\"backgroundcolor\": \"#E5ECF6\", \"gridcolor\": \"white\", \"gridwidth\": 2, \"linecolor\": \"white\", \"showbackground\": true, \"ticks\": \"\", \"zerolinecolor\": \"white\"}, \"yaxis\": {\"backgroundcolor\": \"#E5ECF6\", \"gridcolor\": \"white\", \"gridwidth\": 2, \"linecolor\": \"white\", \"showbackground\": true, \"ticks\": \"\", \"zerolinecolor\": \"white\"}, \"zaxis\": {\"backgroundcolor\": \"#E5ECF6\", \"gridcolor\": \"white\", \"gridwidth\": 2, \"linecolor\": \"white\", \"showbackground\": true, \"ticks\": \"\", \"zerolinecolor\": \"white\"}}, \"shapedefaults\": {\"line\": {\"color\": \"#2a3f5f\"}}, \"ternary\": {\"aaxis\": {\"gridcolor\": \"white\", \"linecolor\": \"white\", \"ticks\": \"\"}, \"baxis\": {\"gridcolor\": \"white\", \"linecolor\": \"white\", \"ticks\": \"\"}, \"bgcolor\": \"#E5ECF6\", \"caxis\": {\"gridcolor\": \"white\", \"linecolor\": \"white\", \"ticks\": \"\"}}, \"title\": {\"x\": 0.05}, \"xaxis\": {\"automargin\": true, \"gridcolor\": \"white\", \"linecolor\": \"white\", \"ticks\": \"\", \"title\": {\"standoff\": 15}, \"zerolinecolor\": \"white\", \"zerolinewidth\": 2}, \"yaxis\": {\"automargin\": true, \"gridcolor\": \"white\", \"linecolor\": \"white\", \"ticks\": \"\", \"title\": {\"standoff\": 15}, \"zerolinecolor\": \"white\", \"zerolinewidth\": 2}}}, \"title\": {\"font\": {\"color\": \"#4D5663\"}, \"text\": \"Top 10 Scoring Batsmans with balls they have faced\"}, \"xaxis\": {\"gridcolor\": \"#E1E5ED\", \"showgrid\": true, \"tickfont\": {\"color\": \"#4D5663\"}, \"title\": {\"font\": {\"color\": \"#4D5663\"}, \"text\": \"\"}, \"zerolinecolor\": \"#E1E5ED\"}, \"yaxis\": {\"gridcolor\": \"#E1E5ED\", \"showgrid\": true, \"tickfont\": {\"color\": \"#4D5663\"}, \"title\": {\"font\": {\"color\": \"#4D5663\"}, \"text\": \"\"}, \"zerolinecolor\": \"#E1E5ED\"}},                        {\"showLink\": true, \"linkText\": \"Export to plot.ly\", \"plotlyServerURL\": \"https://plot.ly\", \"responsive\": true}                    ).then(function(){\n",
       "                            \n",
       "var gd = document.getElementById('0c904859-2ab3-4ffa-ac02-93d0b0c8a645');\n",
       "var x = new MutationObserver(function (mutations, observer) {{\n",
       "        var display = window.getComputedStyle(gd).display;\n",
       "        if (!display || display === 'none') {{\n",
       "            console.log([gd, 'removed!']);\n",
       "            Plotly.purge(gd);\n",
       "            observer.disconnect();\n",
       "        }}\n",
       "}});\n",
       "\n",
       "// Listen for the removal of the full notebook cells\n",
       "var notebookContainer = gd.closest('#notebook-container');\n",
       "if (notebookContainer) {{\n",
       "    x.observe(notebookContainer, {childList: true});\n",
       "}}\n",
       "\n",
       "// Listen for the clearing of the current output cell\n",
       "var outputEl = gd.closest('.output');\n",
       "if (outputEl) {{\n",
       "    x.observe(outputEl, {childList: true});\n",
       "}}\n",
       "\n",
       "                        })                };                });            </script>        </div>"
      ]
     },
     "metadata": {},
     "output_type": "display_data"
    }
   ],
   "source": [
    "\n",
    "strike_rate[:10][['batsman','batsman_runs','ball']].iplot(x='batsman',title='Top 10 Scoring Batsmans with balls they have faced')"
   ]
  },
  {
   "cell_type": "markdown",
   "id": "incoming-substitute",
   "metadata": {},
   "source": [
    "#### 6.Batsman with best Strike Rate (batsman has scored a minimum of 500 runs)"
   ]
  },
  {
   "cell_type": "code",
   "execution_count": 38,
   "id": "accomplished-reply",
   "metadata": {},
   "outputs": [],
   "source": [
    "batsman_with_500 = strike_rate[strike_rate['batsman_runs']>500]\n",
    "best_striker= batsman_with_500.sort_values(by='Strike Rate', ascending = False)"
   ]
  },
  {
   "cell_type": "code",
   "execution_count": 39,
   "id": "offensive-finnish",
   "metadata": {},
   "outputs": [
    {
     "data": {
      "text/html": [
       "<div>\n",
       "<style scoped>\n",
       "    .dataframe tbody tr th:only-of-type {\n",
       "        vertical-align: middle;\n",
       "    }\n",
       "\n",
       "    .dataframe tbody tr th {\n",
       "        vertical-align: top;\n",
       "    }\n",
       "\n",
       "    .dataframe thead th {\n",
       "        text-align: right;\n",
       "    }\n",
       "</style>\n",
       "<table border=\"1\" class=\"dataframe\">\n",
       "  <thead>\n",
       "    <tr style=\"text-align: right;\">\n",
       "      <th></th>\n",
       "      <th>batsman</th>\n",
       "      <th>batsman_runs</th>\n",
       "      <th>Strike Rate</th>\n",
       "    </tr>\n",
       "  </thead>\n",
       "  <tbody>\n",
       "    <tr>\n",
       "      <th>48</th>\n",
       "      <td>AD Russell</td>\n",
       "      <td>1445</td>\n",
       "      <td>179.950187</td>\n",
       "    </tr>\n",
       "    <tr>\n",
       "      <th>81</th>\n",
       "      <td>SP Narine</td>\n",
       "      <td>803</td>\n",
       "      <td>166.943867</td>\n",
       "    </tr>\n",
       "    <tr>\n",
       "      <th>37</th>\n",
       "      <td>RR Pant</td>\n",
       "      <td>1792</td>\n",
       "      <td>162.318841</td>\n",
       "    </tr>\n",
       "    <tr>\n",
       "      <th>51</th>\n",
       "      <td>GJ Maxwell</td>\n",
       "      <td>1403</td>\n",
       "      <td>155.543237</td>\n",
       "    </tr>\n",
       "    <tr>\n",
       "      <th>103</th>\n",
       "      <td>CH Morris</td>\n",
       "      <td>520</td>\n",
       "      <td>153.392330</td>\n",
       "    </tr>\n",
       "    <tr>\n",
       "      <th>61</th>\n",
       "      <td>HH Pandya</td>\n",
       "      <td>1118</td>\n",
       "      <td>151.902174</td>\n",
       "    </tr>\n",
       "    <tr>\n",
       "      <th>50</th>\n",
       "      <td>JC Buttler</td>\n",
       "      <td>1431</td>\n",
       "      <td>150.000000</td>\n",
       "    </tr>\n",
       "    <tr>\n",
       "      <th>20</th>\n",
       "      <td>V Sehwag</td>\n",
       "      <td>2728</td>\n",
       "      <td>148.827059</td>\n",
       "    </tr>\n",
       "    <tr>\n",
       "      <th>8</th>\n",
       "      <td>AB de Villiers</td>\n",
       "      <td>4428</td>\n",
       "      <td>148.740343</td>\n",
       "    </tr>\n",
       "    <tr>\n",
       "      <th>5</th>\n",
       "      <td>CH Gayle</td>\n",
       "      <td>4560</td>\n",
       "      <td>145.640370</td>\n",
       "    </tr>\n",
       "  </tbody>\n",
       "</table>\n",
       "</div>"
      ],
      "text/plain": [
       "            batsman  batsman_runs  Strike Rate\n",
       "48       AD Russell          1445   179.950187\n",
       "81        SP Narine           803   166.943867\n",
       "37          RR Pant          1792   162.318841\n",
       "51       GJ Maxwell          1403   155.543237\n",
       "103       CH Morris           520   153.392330\n",
       "61        HH Pandya          1118   151.902174\n",
       "50       JC Buttler          1431   150.000000\n",
       "20         V Sehwag          2728   148.827059\n",
       "8    AB de Villiers          4428   148.740343\n",
       "5          CH Gayle          4560   145.640370"
      ]
     },
     "execution_count": 39,
     "metadata": {},
     "output_type": "execute_result"
    }
   ],
   "source": [
    "best_striker[:10][['batsman','batsman_runs','Strike Rate']]"
   ]
  },
  {
   "cell_type": "code",
   "execution_count": 59,
   "id": "peripheral-recipient",
   "metadata": {
    "scrolled": false
   },
   "outputs": [
    {
     "data": {
      "image/png": "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\n",
      "text/plain": [
       "<Figure size 1080x720 with 1 Axes>"
      ]
     },
     "metadata": {},
     "output_type": "display_data"
    }
   ],
   "source": [
    "plt.figure(figsize=(15,10))\n",
    "plt.title('top 10 Batsmans with best Strike Rate')\n",
    "plt.plot(best_striker['batsman'][:10],best_striker['Strike Rate'][:10],color='b')\n",
    "plt.scatter(best_striker['batsman'][:10],best_striker['Strike Rate'][:10])\n",
    "plt.show()"
   ]
  },
  {
   "cell_type": "code",
   "execution_count": 41,
   "id": "spanish-tiger",
   "metadata": {},
   "outputs": [
    {
     "data": {
      "application/vnd.plotly.v1+json": {
       "config": {
        "linkText": "Export to plot.ly",
        "plotlyServerURL": "https://plot.ly",
        "showLink": true
       },
       "data": [
        {
         "line": {
          "color": "rgba(0, 128, 0, 1.0)",
          "dash": "solid",
          "shape": "linear",
          "width": 1.3
         },
         "marker": {
          "size": 10,
          "symbol": "circle"
         },
         "mode": "markers",
         "name": "Strike Rate",
         "text": "",
         "type": "scatter",
         "x": [
          5434,
          5415,
          4914,
          4741,
          4632,
          4560,
          4477,
          4446,
          4428,
          4223,
          3850,
          3688,
          3614,
          3326,
          3241,
          2893,
          2874,
          2872,
          2784,
          2765,
          2728,
          2590,
          2489,
          2427,
          2385,
          2334,
          2235,
          2174,
          2069,
          2047,
          2041,
          2013,
          1977,
          1951,
          1875,
          1874,
          1808,
          1792,
          1780,
          1744,
          1714,
          1697,
          1687,
          1555,
          1547,
          1498,
          1489,
          1470,
          1445,
          1441,
          1431,
          1403,
          1400,
          1349,
          1322,
          1319,
          1308,
          1276,
          1276,
          1153,
          1150,
          1118,
          1107,
          1104,
          1091,
          1079,
          1017,
          1016,
          1011,
          1001,
          985,
          975,
          974,
          971,
          969,
          915,
          886,
          882,
          854,
          834,
          806,
          803,
          798,
          771,
          768,
          759,
          739,
          724,
          711,
          676,
          672,
          663,
          647,
          616,
          608,
          604,
          587,
          577,
          574,
          538,
          535,
          531,
          527,
          520,
          517,
          514,
          506,
          505,
          482,
          468,
          464,
          448,
          446,
          424,
          423,
          417,
          416,
          409,
          405,
          401,
          394,
          390,
          388,
          382,
          375,
          368,
          368,
          366,
          342,
          340,
          339,
          338,
          327,
          326,
          317,
          313,
          311,
          311,
          304,
          302,
          301,
          300,
          295,
          285,
          282,
          280,
          280,
          280,
          278,
          271,
          270,
          259,
          241,
          240,
          237,
          225,
          218,
          217,
          205,
          203,
          198,
          196,
          194,
          193,
          193,
          192,
          190,
          188,
          187,
          187,
          186,
          183,
          181,
          180,
          179,
          177,
          177,
          170,
          169,
          169,
          168,
          167,
          166,
          164,
          164,
          161,
          159,
          159,
          153,
          152,
          148,
          147,
          146,
          145,
          143,
          137,
          136,
          131,
          131,
          130,
          128,
          127,
          127,
          127,
          127,
          126,
          125,
          125,
          124,
          124,
          123,
          123,
          121,
          121,
          120,
          119,
          117,
          117,
          117,
          116,
          115,
          113,
          111,
          109,
          108,
          106,
          106,
          103,
          101,
          99,
          99,
          98,
          98,
          96,
          95,
          94,
          93,
          92,
          92,
          91,
          91,
          91,
          91,
          88,
          88,
          87,
          85,
          83,
          82,
          81,
          81,
          81,
          79,
          79,
          77,
          76,
          76,
          75,
          73,
          73,
          73,
          73,
          72,
          70,
          69,
          68,
          67,
          66,
          64,
          63,
          63,
          63,
          62,
          59,
          56,
          55,
          55,
          55,
          54,
          54,
          53,
          53,
          52,
          52,
          52,
          51,
          51,
          50,
          49,
          49,
          49,
          47,
          46,
          43,
          42,
          42,
          42,
          41,
          40,
          40,
          40,
          39,
          39,
          39,
          39,
          38,
          38,
          37,
          37,
          37,
          36,
          36,
          36,
          36,
          36,
          36,
          35,
          35,
          35,
          34,
          34,
          34,
          34,
          34,
          33,
          32,
          32,
          32,
          31,
          31,
          31,
          29,
          29,
          28,
          28,
          26,
          26,
          26,
          26,
          25,
          25,
          25,
          24,
          24,
          24,
          24,
          23,
          23,
          23,
          23,
          22,
          22,
          22,
          22,
          22,
          21,
          21,
          20,
          20,
          20,
          20,
          20,
          20,
          20,
          19,
          19,
          19,
          19,
          19,
          19,
          19,
          18,
          18,
          18,
          18,
          18,
          18,
          17,
          17,
          16,
          16,
          16,
          15,
          15,
          15,
          15,
          15,
          15,
          15,
          14,
          14,
          13,
          13,
          13,
          13,
          12,
          12,
          12,
          12,
          12,
          12,
          12,
          12,
          12,
          12,
          11,
          11,
          11,
          11,
          11,
          10,
          10,
          10,
          10,
          10,
          10,
          10,
          10,
          9,
          9,
          8,
          8,
          8,
          8,
          8,
          8,
          8,
          8,
          8,
          8,
          7,
          7,
          7,
          7,
          7,
          7,
          7,
          6,
          6,
          6,
          6,
          6,
          6,
          6,
          5,
          5,
          5,
          5,
          5,
          5,
          5,
          5,
          4,
          4,
          4,
          4,
          4,
          4,
          4,
          4,
          4,
          4,
          4,
          4,
          4,
          3,
          3,
          3,
          3,
          3,
          3,
          3,
          3,
          3,
          3,
          2,
          2,
          2,
          2,
          2,
          2,
          2,
          2,
          2,
          2,
          2,
          1,
          1,
          1,
          1,
          1,
          1,
          1,
          1,
          1,
          1,
          1,
          1,
          1,
          1,
          0,
          0,
          0,
          0,
          0,
          0,
          0,
          0,
          0,
          0,
          0,
          0,
          0,
          0,
          0,
          0
         ],
         "y": [
          129.04298266445025,
          133.9020771513353,
          128.77358490566039,
          139.52324896998235,
          122.66949152542372,
          145.64037048866177,
          134.93068113321277,
          127.31958762886597,
          148.7403426268055,
          119.83541430192963,
          119.75116640746502,
          127.61245674740485,
          136.9458128078818,
          124.05818724356583,
          138.8603256212511,
          127.33274647887325,
          117.59410801963995,
          118.43298969072164,
          141.75152749490834,
          125.28318985047575,
          148.82705946535734,
          119.68576709796672,
          130.10977522216413,
          105.93627237014405,
          132.27953410981698,
          114.18786692759295,
          129.34027777777777,
          113.34723670490095,
          133.05466237942122,
          126.67079207920793,
          121.48809523809523,
          137.4061433447099,
          119.96359223300972,
          119.546568627451,
          136.26453488372093,
          125.01667778519013,
          118.7910643889619,
          162.31884057971016,
          128.79884225759767,
          127.1137026239067,
          125.1094890510949,
          113.96910678307589,
          118.4691011235955,
          114.33823529411764,
          123.3652312599681,
          125.56580050293378,
          131.07394366197184,
          126.72413793103448,
          179.95018679950186,
          115.74297188755021,
          150,
          155.5432372505543,
          121.42237640936686,
          101.73453996983409,
          120.07266121707538,
          134.4546381243629,
          139.297124600639,
          124.24537487828627,
          114.85148514851484,
          110.12416427889207,
          116.75126903553299,
          151.90217391304347,
          131.94278903456495,
          132.21556886227546,
          124.11831626848692,
          122.89293849658314,
          120.07083825265643,
          127,
          133.02631578947367,
          132.05804749340368,
          113.87283236994219,
          136.93820224719101,
          124.71190781049937,
          125.45219638242895,
          126.00780234070221,
          144.09448818897638,
          105.8542413381123,
          126,
          117.79310344827587,
          131.96202531645568,
          123.05343511450381,
          166.94386694386694,
          108.27679782903662,
          135.02626970227672,
          134.03141361256544,
          123.41463414634146,
          106.9464544138929,
          120.86811352253757,
          130.21978021978023,
          115.1618398637138,
          114.28571428571428,
          120.1086956521739,
          131.23732251521298,
          141.60919540229887,
          126.93110647181629,
          129.6137339055794,
          108.50277264325324,
          138.03827751196172,
          133.7995337995338,
          123.39449541284404,
          124.12993039443157,
          113.46153846153845,
          129.80295566502463,
          153.39233038348084,
          134.63541666666669,
          105.76131687242798,
          124.93827160493827,
          116.89814814814814,
          129.2225201072386,
          159.7269624573379,
          135.27696793002914,
          116.66666666666667,
          126.34560906515581,
          130.06134969325154,
          120.17045454545455,
          132.80254777070064,
          142.9553264604811,
          112.36263736263736,
          113.12849162011173,
          109.26430517711172,
          123.89937106918238,
          96.7741935483871,
          124.7588424437299,
          109.14285714285714,
          115.38461538461537,
          118.32797427652733,
          89.75609756097562,
          121.59468438538205,
          117.9310344827586,
          105.26315789473684,
          118.94736842105263,
          132.03125,
          105.8252427184466,
          136.9747899159664,
          111.22807017543859,
          136.6812227074236,
          107.61245674740485,
          169.94535519125685,
          113.85767790262172,
          120.3187250996016,
          99.66887417218543,
          95.54140127388536,
          117.52988047808766,
          105.1660516605166,
          104.0590405904059,
          86.687306501548,
          142.85714285714286,
          109.375,
          140.4040404040404,
          137.56345177664974,
          114.40677966101696,
          100.3875968992248,
          126.17801047120419,
          164.3835616438356,
          111.26760563380283,
          111.94029850746267,
          91.21338912133892,
          99.54128440366972,
          135.76158940397352,
          127.67295597484276,
          90.41095890410958,
          114.61988304093566,
          112.79069767441861,
          132.1917808219178,
          112.20930232558139,
          104.91803278688525,
          96.44670050761421,
          156.66666666666666,
          119.10828025477707,
          150.80645161290323,
          133.81294964028777,
          102.23463687150837,
          126.57342657342659,
          125,
          111.87499999999999,
          142.74193548387098,
          160.9090909090909,
          119.71830985915493,
          106.9620253164557,
          127.06766917293233,
          100,
          123.7037037037037,
          103.1055900621118,
          98.20359281437125,
          143.859649122807,
          92.52873563218391,
          89.32584269662921,
          110.41666666666667,
          113.33333333333333,
          127.73109243697478,
          172.09302325581396,
          126.72413793103448,
          153.68421052631578,
          126.08695652173914,
          97.27891156462584,
          129.24528301886792,
          112.39669421487604,
          109.16666666666666,
          97.76119402985076,
          100.7751937984496,
          164.1025641025641,
          135.1063829787234,
          90.0709219858156,
          95.48872180451127,
          120.95238095238095,
          135.48387096774192,
          93.28358208955224,
          107.75862068965519,
          103.33333333333334,
          121.56862745098039,
          119.41747572815532,
          120.58823529411764,
          102.54237288135593,
          97.58064516129032,
          131.86813186813185,
          127.95698924731182,
          142.6829268292683,
          104.46428571428572,
          82.97872340425532,
          165.71428571428572,
          126.37362637362637,
          103.6697247706422,
          107.76699029126213,
          162.6865671641791,
          145.94594594594594,
          168.25396825396825,
          96.36363636363636,
          98.09523809523809,
          90.990990990991,
          107.6086956521739,
          130.26315789473685,
          82.35294117647058,
          102.08333333333333,
          97.95918367346938,
          172.72727272727272,
          130.55555555555557,
          122.36842105263158,
          91.0891089108911,
          94.84536082474226,
          70.54263565891473,
          91.91919191919192,
          124.65753424657535,
          110.97560975609757,
          102.32558139534885,
          85.43689320388349,
          112.98701298701299,
          137.09677419354838,
          112.16216216216218,
          149.0909090909091,
          114.08450704225352,
          110.95890410958904,
          176.08695652173913,
          100,
          141.07142857142858,
          137.5,
          76,
          133.33333333333331,
          127.11864406779661,
          93.58974358974359,
          158.69565217391303,
          107.35294117647058,
          93.58974358974359,
          150,
          84.33734939759037,
          78.4090909090909,
          117.24137931034481,
          104.6875,
          85.71428571428571,
          76.19047619047619,
          78.75,
          95.45454545454545,
          91.30434782608695,
          108.77192982456141,
          100,
          73.68421052631578,
          101.85185185185186,
          88.70967741935483,
          78.57142857142857,
          112.5,
          100,
          70.66666666666667,
          103.921568627451,
          106.12244897959184,
          66.66666666666666,
          98.11320754716981,
          96.22641509433963,
          98.07692307692307,
          94.33962264150944,
          77.77777777777779,
          80.32786885245902,
          84.48275862068965,
          70.1492537313433,
          83.63636363636363,
          138.70967741935485,
          68.85245901639344,
          97.67441860465115,
          91.30434782608695,
          65.07936507936508,
          148.14814814814815,
          121.21212121212122,
          111.11111111111111,
          150,
          72.22222222222221,
          205.26315789473685,
          95.1219512195122,
          122.58064516129032,
          118.75,
          78.72340425531915,
          127.58620689655173,
          94.87179487179486,
          72,
          116.12903225806453,
          133.33333333333331,
          171.42857142857142,
          92.3076923076923,
          120,
          71.42857142857143,
          92.10526315789474,
          140,
          89.47368421052632,
          59.64912280701754,
          130.76923076923077,
          147.82608695652172,
          91.8918918918919,
          137.5,
          40.50632911392405,
          86.48648648648648,
          100,
          81.57894736842105,
          119.23076923076923,
          103.33333333333334,
          107.40740740740742,
          111.53846153846155,
          116.66666666666667,
          93.33333333333333,
          65,
          104,
          113.04347826086956,
          52,
          75.75757575757575,
          60.97560975609756,
          125,
          114.28571428571428,
          160,
          85.71428571428571,
          109.09090909090908,
          95.83333333333334,
          85.18518518518519,
          88.46153846153845,
          69.6969696969697,
          66.66666666666666,
          100,
          157.14285714285714,
          84.61538461538461,
          44.89795918367347,
          80.76923076923077,
          91.30434782608695,
          111.11111111111111,
          105.26315789473684,
          80,
          76.92307692307693,
          74.07407407407408,
          66.66666666666666,
          95.23809523809523,
          111.76470588235294,
          146.15384615384613,
          105.55555555555556,
          73.07692307692307,
          82.6086956521739,
          73.07692307692307,
          82.6086956521739,
          58.06451612903226,
          163.63636363636365,
          105.88235294117648,
          94.73684210526315,
          150,
          46.15384615384615,
          85,
          94.44444444444444,
          80,
          35.55555555555556,
          66.66666666666666,
          115.38461538461537,
          115.38461538461537,
          53.57142857142857,
          115.38461538461537,
          115.38461538461537,
          93.75,
          71.42857142857143,
          107.6923076923077,
          107.6923076923077,
          162.5,
          86.66666666666667,
          100,
          52,
          70.58823529411765,
          100,
          133.33333333333331,
          133.33333333333331,
          85.71428571428571,
          42.857142857142854,
          109.09090909090908,
          60,
          109.09090909090908,
          63.1578947368421,
          68.75,
          55.00000000000001,
          78.57142857142857,
          57.89473684210527,
          122.22222222222223,
          34.48275862068966,
          111.11111111111111,
          58.82352941176471,
          58.82352941176471,
          76.92307692307693,
          76.92307692307693,
          55.55555555555556,
          71.42857142857143,
          75,
          64.28571428571429,
          88.88888888888889,
          47.05882352941176,
          133.33333333333331,
          72.72727272727273,
          72.72727272727273,
          44.44444444444444,
          133.33333333333331,
          72.72727272727273,
          200,
          53.333333333333336,
          87.5,
          77.77777777777779,
          46.666666666666664,
          100,
          175,
          58.333333333333336,
          58.333333333333336,
          50,
          50,
          37.5,
          85.71428571428571,
          85.71428571428571,
          120,
          85.71428571428571,
          35.714285714285715,
          38.46153846153847,
          166.66666666666669,
          62.5,
          166.66666666666669,
          125,
          250,
          100,
          36.36363636363637,
          57.14285714285714,
          80,
          133.33333333333331,
          50,
          80,
          200,
          80,
          57.14285714285714,
          50,
          30.76923076923077,
          133.33333333333331,
          133.33333333333331,
          50,
          42.857142857142854,
          60,
          37.5,
          60,
          50,
          60,
          75,
          50,
          75,
          50,
          100,
          20,
          100,
          100,
          40,
          16.666666666666664,
          66.66666666666666,
          25,
          50,
          25,
          50,
          50,
          33.33333333333333,
          50,
          33.33333333333333,
          100,
          100,
          33.33333333333333,
          14.285714285714285,
          33.33333333333333,
          16.666666666666664,
          100,
          20,
          33.33333333333333,
          0,
          0,
          0,
          0,
          0,
          0,
          0,
          0,
          0,
          0,
          0,
          0,
          0,
          0,
          0,
          0
         ]
        }
       ],
       "layout": {
        "legend": {
         "bgcolor": "#F5F6F9",
         "font": {
          "color": "#4D5663"
         }
        },
        "paper_bgcolor": "#F5F6F9",
        "plot_bgcolor": "#F5F6F9",
        "template": {
         "data": {
          "bar": [
           {
            "error_x": {
             "color": "#2a3f5f"
            },
            "error_y": {
             "color": "#2a3f5f"
            },
            "marker": {
             "line": {
              "color": "#E5ECF6",
              "width": 0.5
             }
            },
            "type": "bar"
           }
          ],
          "barpolar": [
           {
            "marker": {
             "line": {
              "color": "#E5ECF6",
              "width": 0.5
             }
            },
            "type": "barpolar"
           }
          ],
          "carpet": [
           {
            "aaxis": {
             "endlinecolor": "#2a3f5f",
             "gridcolor": "white",
             "linecolor": "white",
             "minorgridcolor": "white",
             "startlinecolor": "#2a3f5f"
            },
            "baxis": {
             "endlinecolor": "#2a3f5f",
             "gridcolor": "white",
             "linecolor": "white",
             "minorgridcolor": "white",
             "startlinecolor": "#2a3f5f"
            },
            "type": "carpet"
           }
          ],
          "choropleth": [
           {
            "colorbar": {
             "outlinewidth": 0,
             "ticks": ""
            },
            "type": "choropleth"
           }
          ],
          "contour": [
           {
            "colorbar": {
             "outlinewidth": 0,
             "ticks": ""
            },
            "colorscale": [
             [
              0,
              "#0d0887"
             ],
             [
              0.1111111111111111,
              "#46039f"
             ],
             [
              0.2222222222222222,
              "#7201a8"
             ],
             [
              0.3333333333333333,
              "#9c179e"
             ],
             [
              0.4444444444444444,
              "#bd3786"
             ],
             [
              0.5555555555555556,
              "#d8576b"
             ],
             [
              0.6666666666666666,
              "#ed7953"
             ],
             [
              0.7777777777777778,
              "#fb9f3a"
             ],
             [
              0.8888888888888888,
              "#fdca26"
             ],
             [
              1,
              "#f0f921"
             ]
            ],
            "type": "contour"
           }
          ],
          "contourcarpet": [
           {
            "colorbar": {
             "outlinewidth": 0,
             "ticks": ""
            },
            "type": "contourcarpet"
           }
          ],
          "heatmap": [
           {
            "colorbar": {
             "outlinewidth": 0,
             "ticks": ""
            },
            "colorscale": [
             [
              0,
              "#0d0887"
             ],
             [
              0.1111111111111111,
              "#46039f"
             ],
             [
              0.2222222222222222,
              "#7201a8"
             ],
             [
              0.3333333333333333,
              "#9c179e"
             ],
             [
              0.4444444444444444,
              "#bd3786"
             ],
             [
              0.5555555555555556,
              "#d8576b"
             ],
             [
              0.6666666666666666,
              "#ed7953"
             ],
             [
              0.7777777777777778,
              "#fb9f3a"
             ],
             [
              0.8888888888888888,
              "#fdca26"
             ],
             [
              1,
              "#f0f921"
             ]
            ],
            "type": "heatmap"
           }
          ],
          "heatmapgl": [
           {
            "colorbar": {
             "outlinewidth": 0,
             "ticks": ""
            },
            "colorscale": [
             [
              0,
              "#0d0887"
             ],
             [
              0.1111111111111111,
              "#46039f"
             ],
             [
              0.2222222222222222,
              "#7201a8"
             ],
             [
              0.3333333333333333,
              "#9c179e"
             ],
             [
              0.4444444444444444,
              "#bd3786"
             ],
             [
              0.5555555555555556,
              "#d8576b"
             ],
             [
              0.6666666666666666,
              "#ed7953"
             ],
             [
              0.7777777777777778,
              "#fb9f3a"
             ],
             [
              0.8888888888888888,
              "#fdca26"
             ],
             [
              1,
              "#f0f921"
             ]
            ],
            "type": "heatmapgl"
           }
          ],
          "histogram": [
           {
            "marker": {
             "colorbar": {
              "outlinewidth": 0,
              "ticks": ""
             }
            },
            "type": "histogram"
           }
          ],
          "histogram2d": [
           {
            "colorbar": {
             "outlinewidth": 0,
             "ticks": ""
            },
            "colorscale": [
             [
              0,
              "#0d0887"
             ],
             [
              0.1111111111111111,
              "#46039f"
             ],
             [
              0.2222222222222222,
              "#7201a8"
             ],
             [
              0.3333333333333333,
              "#9c179e"
             ],
             [
              0.4444444444444444,
              "#bd3786"
             ],
             [
              0.5555555555555556,
              "#d8576b"
             ],
             [
              0.6666666666666666
